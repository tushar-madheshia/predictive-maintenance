{
 "cells": [
  {
   "cell_type": "code",
   "execution_count": null,
   "id": "da146bdd",
   "metadata": {},
   "outputs": [],
   "source": [
    "#! pip install \"snowflake-connector-python[pandas]\"\n",
    "# ! pip install scikit-learn"
   ]
  },
  {
   "cell_type": "code",
   "execution_count": 1,
   "id": "4ba1d266",
   "metadata": {},
   "outputs": [],
   "source": [
    "from snowflake.snowpark import Session\n",
    "import configparser\n",
    "def get_session():\n",
    "    parser = configparser.ConfigParser()\n",
    "    # Add the credential file name here\n",
    "    parser.read('config.ini')\n",
    "\n",
    "    connection_params = dict(user=parser['Credentials']['user'], \n",
    "                         password=parser['Credentials']['password'], \n",
    "                         account=parser['Credentials']['account'], \n",
    "                         warehouse=parser['Credentials']['warehouse'], \n",
    "                         database=parser['Credentials']['database'],\n",
    "                         schema=parser['Credentials']['schema'], \n",
    "                         role=parser['Credentials']['role'])\n",
    "\n",
    "    session = Session.builder.configs(connection_params).create()\n",
    "    return session"
   ]
  },
  {
   "cell_type": "code",
   "execution_count": 2,
   "id": "7ade4317",
   "metadata": {},
   "outputs": [],
   "source": [
    "session = get_session()"
   ]
  },
  {
   "cell_type": "markdown",
   "id": "e78007a5",
   "metadata": {},
   "source": [
    "#### Load the prepared data from snowflake"
   ]
  },
  {
   "cell_type": "code",
   "execution_count": 3,
   "id": "c311e7f8",
   "metadata": {},
   "outputs": [],
   "source": [
    "df = session.sql(\"SELECT * from {table}\".format(table=\"predictive_maintenance_final\"))"
   ]
  },
  {
   "cell_type": "code",
   "execution_count": 4,
   "id": "d9d0d0af",
   "metadata": {},
   "outputs": [
    {
     "data": {
      "text/plain": [
       "['FAILURE',\n",
       " 'METRIC5',\n",
       " 'METRIC6',\n",
       " 'DAY',\n",
       " 'DAY_WEEK',\n",
       " 'SECTOR',\n",
       " 'OP_PERIOD',\n",
       " 'DEV_RECONNECTED',\n",
       " 'MNW1',\n",
       " 'DIF_M6',\n",
       " 'DIF_M5',\n",
       " 'LOG_M2',\n",
       " 'LOG_M3',\n",
       " 'LOG_M4',\n",
       " 'LOG_M7',\n",
       " 'LOG_M9']"
      ]
     },
     "execution_count": 4,
     "metadata": {},
     "output_type": "execute_result"
    }
   ],
   "source": [
    "df.columns"
   ]
  },
  {
   "cell_type": "markdown",
   "id": "01c1fe59",
   "metadata": {},
   "source": [
    "Prepare dataset for training"
   ]
  },
  {
   "cell_type": "code",
   "execution_count": 5,
   "id": "160db9ae",
   "metadata": {},
   "outputs": [],
   "source": [
    "df_final = df.to_pandas()"
   ]
  },
  {
   "cell_type": "code",
   "execution_count": 20,
   "id": "87ba7f3e",
   "metadata": {},
   "outputs": [],
   "source": [
    "def trainer():\n",
    "    #add all imports\n",
    "    from sklearn.model_selection import train_test_split\n",
    "    from sklearn.preprocessing import OneHotEncoder\n",
    "    from sklearn.metrics import recall_score, f1_score, roc_auc_score, confusion_matrix,classification_report\n",
    "    from sklearn.linear_model import SGDClassifier\n",
    "    from sklearn.pipeline import Pipeline\n",
    "    \n",
    "    df = session.sql(\"SELECT * from {table}\".format(table=\"predictive_maintenance_final\"))\n",
    "    \n",
    "    # prepare data for training\n",
    "    X = df_final.drop(['FAILURE'], axis = 1)\n",
    "    y = df_final['FAILURE']\n",
    "    X_train, X_test, Y_train, Y_test = train_test_split(X,y,random_state = 0, test_size=0.25, shuffle = True)\n",
    "    X_train.reset_index(inplace = True, drop = True)\n",
    "    Y_train.reset_index(inplace = True, drop = True)\n",
    "\n",
    "    X_test.reset_index(inplace = True, drop = True)\n",
    "    Y_test.reset_index(inplace = True, drop = True)\n",
    "    \n",
    "    x_train, x_val, y_train, y_val = train_test_split(X_train, Y_train, random_state = 0, test_size=0.25)\n",
    "    \n",
    "    pipeline = Pipeline([\n",
    "        ('OHE', OneHotEncoder(handle_unknown = 'ignore',sparse=False)),\n",
    "#         ('SCALER', StandardScaler()),\n",
    "        ('SGD', SGDClassifier(random_state=0))\n",
    "     ])\n",
    "    \n",
    "    pipeline.fit(x_train,y_train)\n",
    "    y_pred = pipeline.predict(x_val) \n",
    "    cf_matrix = confusion_matrix(y_val, y_pred)\n",
    "    cls_report = classification_report(y_val, y_pred, output_dict=True)\n",
    "    print(cls_report)\n",
    "    return pipeline, y_pred, cls_report"
   ]
  },
  {
   "cell_type": "code",
   "execution_count": 7,
   "id": "c12c2763",
   "metadata": {},
   "outputs": [
    {
     "name": "stderr",
     "output_type": "stream",
     "text": [
      "/tmp/pip_packages/sklearn/preprocessing/_encoders.py:972: FutureWarning: `sparse` was renamed to `sparse_output` in version 1.2 and will be removed in 1.4. `sparse_output` is ignored unless you leave `sparse` to its default value.\n",
      "  warnings.warn(\n"
     ]
    },
    {
     "name": "stdout",
     "output_type": "stream",
     "text": [
      "              precision    recall  f1-score   support\n",
      "\n",
      "           0       1.00      1.00      1.00     23323\n",
      "           1       0.00      0.00      0.00        20\n",
      "\n",
      "    accuracy                           1.00     23343\n",
      "   macro avg       0.50      0.50      0.50     23343\n",
      "weighted avg       1.00      1.00      1.00     23343\n",
      "\n"
     ]
    },
    {
     "name": "stderr",
     "output_type": "stream",
     "text": [
      "/tmp/pip_packages/sklearn/metrics/_classification.py:1469: UndefinedMetricWarning: Precision and F-score are ill-defined and being set to 0.0 in labels with no predicted samples. Use `zero_division` parameter to control this behavior.\n",
      "  _warn_prf(average, modifier, msg_start, len(result))\n",
      "/tmp/pip_packages/sklearn/metrics/_classification.py:1469: UndefinedMetricWarning: Precision and F-score are ill-defined and being set to 0.0 in labels with no predicted samples. Use `zero_division` parameter to control this behavior.\n",
      "  _warn_prf(average, modifier, msg_start, len(result))\n",
      "/tmp/pip_packages/sklearn/metrics/_classification.py:1469: UndefinedMetricWarning: Precision and F-score are ill-defined and being set to 0.0 in labels with no predicted samples. Use `zero_division` parameter to control this behavior.\n",
      "  _warn_prf(average, modifier, msg_start, len(result))\n"
     ]
    }
   ],
   "source": [
    "cls_report = trainer()"
   ]
  },
  {
   "cell_type": "code",
   "execution_count": 9,
   "id": "3e77f44f",
   "metadata": {},
   "outputs": [
    {
     "data": {
      "text/plain": [
       "str"
      ]
     },
     "execution_count": 9,
     "metadata": {},
     "output_type": "execute_result"
    }
   ],
   "source": [
    "type(cls_report)"
   ]
  },
  {
   "cell_type": "code",
   "execution_count": 31,
   "id": "7004d8b3",
   "metadata": {},
   "outputs": [],
   "source": [
    "from snowflake.snowpark import Session\n",
    "from snowflake.snowpark.functions import sproc\n",
    "\n",
    "@sproc(name=\"predictive_maintenance\", is_permanent=True, stage_location=\"@TRAINERS\", replace=True, packages=[\"snowflake-snowpark-python\",\"scikit-learn\"])\n",
    "def train_model(session: Session, features_table: str) -> dict:\n",
    "    import os\n",
    "    import time\n",
    "    from joblib import dump\n",
    "    start_time = time.time()\n",
    "    df_final = session.sql(\"SELECT * from {table}\".format(table=\"predictive_maintenance_final\")).to_pandas()\n",
    "    \n",
    "    def trainer():\n",
    "        #add all imports\n",
    "        from sklearn.model_selection import train_test_split\n",
    "        from sklearn.preprocessing import OneHotEncoder\n",
    "        from sklearn.metrics import recall_score, f1_score, roc_auc_score, confusion_matrix,classification_report\n",
    "        from sklearn.linear_model import SGDClassifier\n",
    "        from sklearn.pipeline import Pipeline\n",
    "    \n",
    "    # prepare data for training\n",
    "        X = df_final.drop(['FAILURE'], axis = 1)\n",
    "        y = df_final['FAILURE']\n",
    "        X_train, X_test, Y_train, Y_test = train_test_split(X,y,random_state = 0, test_size=0.25, shuffle = True)\n",
    "        X_train.reset_index(inplace = True, drop = True)\n",
    "        Y_train.reset_index(inplace = True, drop = True)\n",
    "\n",
    "        X_test.reset_index(inplace = True, drop = True)\n",
    "        Y_test.reset_index(inplace = True, drop = True)\n",
    "    \n",
    "        x_train, x_val, y_train, y_val = train_test_split(X_train, Y_train, random_state = 0, test_size=0.25)\n",
    "    \n",
    "        pipeline = Pipeline([\n",
    "            ('OHE', OneHotEncoder(handle_unknown = 'ignore',sparse=False)),\n",
    "#         ('SCALER', StandardScaler()),\n",
    "            ('SGD', SGDClassifier(random_state=0))\n",
    "         ])\n",
    "    \n",
    "        pipeline.fit(x_train,y_train)\n",
    "        y_pred = pipeline.predict(x_val) \n",
    "        cf_matrix = confusion_matrix(y_val, y_pred)\n",
    "        cls_report = classification_report(y_val, y_pred, output_dict=True)\n",
    "        print(cls_report)\n",
    "        return pipeline, cls_report\n",
    "    pipeline, cls_report = trainer()\n",
    "    seconds = time.time() - start_time\n",
    "    time_taken = str(time.strftime(\"%H:%M:%S\",time.gmtime(seconds)))\n",
    "    from datetime import datetime\n",
    "    currentDateAndTime = datetime.now()\n",
    "    model_filename = \"Predictive_Maintenance_model_\"+currentDateAndTime.strftime('%Y%m%d_%H%M%S') + '.joblib'\n",
    "    \n",
    "    model_file_path = os.path.join('/tmp',model_filename)\n",
    "    dump(pipeline, model_file_path)\n",
    "    \n",
    "    session.file.put(model_file_path, \"@MODELS\" ,overwrite=True)\n",
    "    \n",
    "    return {\"model_name\":model_filename, \"classification_report\":cls_report}"
   ]
  },
  {
   "cell_type": "code",
   "execution_count": 32,
   "id": "674db2ab",
   "metadata": {},
   "outputs": [],
   "source": [
    "# test = train_model(session,\"predictive_maintenance_final\")"
   ]
  },
  {
   "cell_type": "code",
   "execution_count": 33,
   "id": "63b7e299",
   "metadata": {},
   "outputs": [
    {
     "data": {
      "text/plain": [
       "'{\\n  \"classification_report\": {\\n    \"0\": {\\n      \"f1-score\": 1,\\n      \"precision\": 1,\\n      \"recall\": 1,\\n      \"support\": 3750\\n    },\\n    \"accuracy\": 1,\\n    \"macro avg\": {\\n      \"f1-score\": 1,\\n      \"precision\": 1,\\n      \"recall\": 1,\\n      \"support\": 3750\\n    },\\n    \"weighted avg\": {\\n      \"f1-score\": 1,\\n      \"precision\": 1,\\n      \"recall\": 1,\\n      \"support\": 3750\\n    }\\n  },\\n  \"model_name\": \"Predictive_Maintenance_model_20230919_194031.joblib\"\\n}'"
      ]
     },
     "execution_count": 33,
     "metadata": {},
     "output_type": "execute_result"
    }
   ],
   "source": [
    "session.call(\"predictive_maintenance\",'predictive_maintenance_final')"
   ]
  },
  {
   "cell_type": "code",
   "execution_count": null,
   "id": "a4848995",
   "metadata": {},
   "outputs": [],
   "source": []
  }
 ],
 "metadata": {
  "kernelspec": {
   "display_name": "Python 3",
   "language": "python",
   "name": "python3"
  },
  "language_info": {
   "codemirror_mode": {
    "name": "ipython",
    "version": 3
   },
   "file_extension": ".py",
   "mimetype": "text/x-python",
   "name": "python",
   "nbconvert_exporter": "python",
   "pygments_lexer": "ipython3",
   "version": "3.8.16"
  }
 },
 "nbformat": 4,
 "nbformat_minor": 5
}
