{
 "cells": [
  {
   "cell_type": "code",
   "execution_count": 1,
   "id": "75ab047c",
   "metadata": {},
   "outputs": [],
   "source": [
    "from snowflake.snowpark import Session\n",
    "import configparser\n",
    "def get_session():\n",
    "    parser = configparser.ConfigParser()\n",
    "    # Add the credential file name here\n",
    "    parser.read('config.ini')\n",
    "\n",
    "    connection_params = dict(user=parser['Credentials']['user'], \n",
    "                         password=parser['Credentials']['password'], \n",
    "                         account=parser['Credentials']['account'], \n",
    "                         warehouse=parser['Credentials']['warehouse'], \n",
    "                         database=parser['Credentials']['database'],\n",
    "                         schema=parser['Credentials']['schema'], \n",
    "                         role=parser['Credentials']['role'])\n",
    "\n",
    "    session = Session.builder.configs(connection_params).create()\n",
    "    return session"
   ]
  },
  {
   "cell_type": "code",
   "execution_count": 2,
   "id": "b2562a17",
   "metadata": {},
   "outputs": [],
   "source": [
    "session = get_session()"
   ]
  },
  {
   "cell_type": "markdown",
   "id": "c44bc8f5",
   "metadata": {},
   "source": [
    "#### Load the prepared data from snowflake"
   ]
  },
  {
   "cell_type": "code",
   "execution_count": 4,
   "id": "8af6112d",
   "metadata": {},
   "outputs": [],
   "source": [
    "df = session.sql(\"SELECT * from {table}\".format(table=\"predictive_maintenance_final\"))"
   ]
  },
  {
   "cell_type": "code",
   "execution_count": 5,
   "id": "ab3f41d6",
   "metadata": {},
   "outputs": [
    {
     "data": {
      "text/plain": [
       "['FAILURE',\n",
       " 'METRIC5',\n",
       " 'METRIC6',\n",
       " 'DAY',\n",
       " 'DAY_WEEK',\n",
       " 'SECTOR',\n",
       " 'OP_PERIOD',\n",
       " 'DEV_RECONNECTED',\n",
       " 'MNW1',\n",
       " 'DIF_M6',\n",
       " 'DIF_M5',\n",
       " 'LOG_M2',\n",
       " 'LOG_M3',\n",
       " 'LOG_M4',\n",
       " 'LOG_M7',\n",
       " 'LOG_M9']"
      ]
     },
     "execution_count": 5,
     "metadata": {},
     "output_type": "execute_result"
    }
   ],
   "source": [
    "df.columns"
   ]
  },
  {
   "cell_type": "markdown",
   "id": "31a9dd67",
   "metadata": {},
   "source": [
    "Prepare dataset for training"
   ]
  },
  {
   "cell_type": "code",
   "execution_count": 6,
   "id": "a601b42e",
   "metadata": {},
   "outputs": [
    {
     "ename": "NameError",
     "evalue": "name 'df_final' is not defined",
     "output_type": "error",
     "traceback": [
      "\u001b[0;31m---------------------------------------------------------------------------\u001b[0m",
      "\u001b[0;31mNameError\u001b[0m                                 Traceback (most recent call last)",
      "Cell \u001b[0;32mIn[6], line 1\u001b[0m\n\u001b[0;32m----> 1\u001b[0m X \u001b[38;5;241m=\u001b[39m \u001b[43mdf_final\u001b[49m\u001b[38;5;241m.\u001b[39mdrop([\u001b[38;5;124m'\u001b[39m\u001b[38;5;124mfailure\u001b[39m\u001b[38;5;124m'\u001b[39m], axis \u001b[38;5;241m=\u001b[39m \u001b[38;5;241m1\u001b[39m)\n\u001b[1;32m      2\u001b[0m y \u001b[38;5;241m=\u001b[39m df_final[\u001b[38;5;124m'\u001b[39m\u001b[38;5;124mfailure\u001b[39m\u001b[38;5;124m'\u001b[39m]\n\u001b[1;32m      3\u001b[0m X_train, X_test, Y_train, Y_test \u001b[38;5;241m=\u001b[39m train_test_split(X,y,random_state \u001b[38;5;241m=\u001b[39m \u001b[38;5;241m0\u001b[39m, test_size\u001b[38;5;241m=\u001b[39m\u001b[38;5;241m0.25\u001b[39m, shuffle \u001b[38;5;241m=\u001b[39m \u001b[38;5;28;01mTrue\u001b[39;00m)\n",
      "\u001b[0;31mNameError\u001b[0m: name 'df_final' is not defined"
     ]
    }
   ],
   "source": [
    "X = df.drop(['failure'], axis = 1)\n",
    "y = df['failure']\n",
    "X_train, X_test, Y_train, Y_test = train_test_split(X,y,random_state = 0, test_size=0.25, shuffle = True)\n",
    "X_train.reset_index(inplace = True, drop = True)\n",
    "Y_train.reset_index(inplace = True, drop = True)\n",
    "\n",
    "X_test.reset_index(inplace = True, drop = True)\n",
    "Y_test.reset_index(inplace = True, drop = True)"
   ]
  },
  {
   "cell_type": "code",
   "execution_count": null,
   "id": "fc8d6e36",
   "metadata": {},
   "outputs": [],
   "source": []
  }
 ],
 "metadata": {
  "kernelspec": {
   "display_name": "Python 3",
   "language": "python",
   "name": "python3"
  },
  "language_info": {
   "codemirror_mode": {
    "name": "ipython",
    "version": 3
   },
   "file_extension": ".py",
   "mimetype": "text/x-python",
   "name": "python",
   "nbconvert_exporter": "python",
   "pygments_lexer": "ipython3",
   "version": "3.8.16"
  }
 },
 "nbformat": 4,
 "nbformat_minor": 5
}
