{
 "cells": [
  {
   "cell_type": "code",
   "execution_count": 2,
   "id": "28ef6657",
   "metadata": {},
   "outputs": [],
   "source": [
    "from snowflake.snowpark import Session\n",
    "import configparser\n",
    "def get_session():\n",
    "    parser = configparser.ConfigParser()\n",
    "    # Add the credential file name here\n",
    "    parser.read('config.ini')\n",
    "\n",
    "    connection_params = dict(user=parser['Credentials']['user'], \n",
    "                         password=parser['Credentials']['password'], \n",
    "                         account=parser['Credentials']['account'], \n",
    "                         warehouse=parser['Credentials']['warehouse'], \n",
    "                         database=parser['Credentials']['database'],\n",
    "                         schema=parser['Credentials']['schema'], \n",
    "                         role=parser['Credentials']['role'])\n",
    "\n",
    "    session = Session.builder.configs(connection_params).create()\n",
    "    return session"
   ]
  },
  {
   "cell_type": "code",
   "execution_count": 3,
   "id": "cd1b3ba6",
   "metadata": {},
   "outputs": [],
   "source": [
    "session = get_session()"
   ]
  },
  {
   "cell_type": "code",
   "execution_count": 1,
   "id": "889c87dc",
   "metadata": {},
   "outputs": [],
   "source": [
    "import pandas as pd\n",
    "data = pd.read_csv('/data/predictive_maintenance_dataset/predictive_maintenance_dataset.csv')\n",
    "\n",
    "# md = session.createDataFrame(df.to_numpy().tolist(),\n",
    "#                                    schema=df.columns.tolist())\n",
    "# md.write.mode(\"append\").save_as_table(\"predictive_maintenance_raw\")"
   ]
  },
  {
   "cell_type": "code",
   "execution_count": 7,
   "id": "af95bafe",
   "metadata": {},
   "outputs": [
    {
     "name": "stdout",
     "output_type": "stream",
     "text": [
      "Collecting scikit-learn\n",
      "\u001b[?25l  Downloading https://files.pythonhosted.org/packages/bf/15/d1b649fc7685d11b806b4546a5438191fb2ad761de70da95ff676189dcec/scikit_learn-1.3.0-cp38-cp38-manylinux_2_17_x86_64.manylinux2014_x86_64.whl (11.1MB)\n",
      "\u001b[K     |████████████████████████████████| 11.1MB 7.1MB/s eta 0:00:01\n",
      "\u001b[?25hCollecting joblib>=1.1.1\n",
      "\u001b[?25l  Downloading https://files.pythonhosted.org/packages/10/40/d551139c85db202f1f384ba8bcf96aca2f329440a844f924c8a0040b6d02/joblib-1.3.2-py3-none-any.whl (302kB)\n",
      "\u001b[K     |████████████████████████████████| 307kB 77.6MB/s eta 0:00:01\n",
      "\u001b[?25hCollecting numpy>=1.17.3\n",
      "\u001b[?25l  Downloading https://files.pythonhosted.org/packages/98/5d/5738903efe0ecb73e51eb44feafba32bdba2081263d40c5043568ff60faf/numpy-1.24.4-cp38-cp38-manylinux_2_17_x86_64.manylinux2014_x86_64.whl (17.3MB)\n",
      "\u001b[K     |████████████████████████████████| 17.3MB 84.5MB/s eta 0:00:01\n",
      "\u001b[?25hCollecting scipy>=1.5.0\n",
      "\u001b[?25l  Downloading https://files.pythonhosted.org/packages/69/f0/fb07a9548e48b687b8bf2fa81d71aba9cfc548d365046ca1c791e24db99d/scipy-1.10.1-cp38-cp38-manylinux_2_17_x86_64.manylinux2014_x86_64.whl (34.5MB)\n",
      "\u001b[K     |████████████████████████████████| 34.5MB 96.5MB/s eta 0:00:01\n",
      "\u001b[?25hCollecting threadpoolctl>=2.0.0\n",
      "  Downloading https://files.pythonhosted.org/packages/81/12/fd4dea011af9d69e1cad05c75f3f7202cdcbeac9b712eea58ca779a72865/threadpoolctl-3.2.0-py3-none-any.whl\n",
      "Installing collected packages: joblib, numpy, scipy, threadpoolctl, scikit-learn\n",
      "Successfully installed joblib-1.3.2 numpy-1.24.4 scikit-learn-1.3.0 scipy-1.10.1 threadpoolctl-3.2.0\n"
     ]
    }
   ],
   "source": [
    "!pip install scikit-learn"
   ]
  },
  {
   "cell_type": "code",
   "execution_count": 2,
   "id": "c40fd917",
   "metadata": {},
   "outputs": [],
   "source": [
    "import pandas as pd\n",
    "import numpy as np\n",
    "import math\n",
    "import datetime\n",
    "from IPython.display import Image\n",
    "\n",
    "# import  matplotlib.pyplot as plt\n",
    "# import plotly.express as px\n",
    "# import seaborn as sns"
   ]
  },
  {
   "cell_type": "code",
   "execution_count": 3,
   "id": "f7d41120",
   "metadata": {},
   "outputs": [],
   "source": [
    "from sklearn.model_selection import train_test_split\n",
    "from sklearn.preprocessing import LabelEncoder, OneHotEncoder\n",
    "from sklearn.metrics import recall_score, f1_score, roc_auc_score, confusion_matrix,classification_report\n",
    "\n",
    "from sklearn.model_selection import StratifiedKFold\n",
    "from sklearn.preprocessing import StandardScaler, MinMaxScaler"
   ]
  },
  {
   "cell_type": "code",
   "execution_count": 4,
   "id": "df80cd47",
   "metadata": {},
   "outputs": [],
   "source": [
    "from sklearn.ensemble import AdaBoostClassifier\n",
    "from sklearn.linear_model import Perceptron\n",
    "from sklearn.linear_model import SGDClassifier\n",
    "\n",
    "# from imblearn.over_sampling import SMOTE\n",
    "# Tunning hiperparameters\n",
    "from sklearn.pipeline import Pipeline"
   ]
  },
  {
   "cell_type": "code",
   "execution_count": 6,
   "id": "dda98dd0",
   "metadata": {},
   "outputs": [
    {
     "data": {
      "text/html": [
       "<div>\n",
       "<style scoped>\n",
       "    .dataframe tbody tr th:only-of-type {\n",
       "        vertical-align: middle;\n",
       "    }\n",
       "\n",
       "    .dataframe tbody tr th {\n",
       "        vertical-align: top;\n",
       "    }\n",
       "\n",
       "    .dataframe thead th {\n",
       "        text-align: right;\n",
       "    }\n",
       "</style>\n",
       "<table border=\"1\" class=\"dataframe\">\n",
       "  <thead>\n",
       "    <tr style=\"text-align: right;\">\n",
       "      <th></th>\n",
       "      <th>date</th>\n",
       "      <th>device</th>\n",
       "      <th>failure</th>\n",
       "      <th>metric1</th>\n",
       "      <th>metric2</th>\n",
       "      <th>metric3</th>\n",
       "      <th>metric4</th>\n",
       "      <th>metric5</th>\n",
       "      <th>metric6</th>\n",
       "      <th>metric7</th>\n",
       "      <th>metric8</th>\n",
       "      <th>metric9</th>\n",
       "    </tr>\n",
       "  </thead>\n",
       "  <tbody>\n",
       "    <tr>\n",
       "      <th>0</th>\n",
       "      <td>1/1/2015</td>\n",
       "      <td>S1F01085</td>\n",
       "      <td>0</td>\n",
       "      <td>215630672</td>\n",
       "      <td>55</td>\n",
       "      <td>0</td>\n",
       "      <td>52</td>\n",
       "      <td>6</td>\n",
       "      <td>407438</td>\n",
       "      <td>0</td>\n",
       "      <td>0</td>\n",
       "      <td>7</td>\n",
       "    </tr>\n",
       "    <tr>\n",
       "      <th>1</th>\n",
       "      <td>1/1/2015</td>\n",
       "      <td>S1F0166B</td>\n",
       "      <td>0</td>\n",
       "      <td>61370680</td>\n",
       "      <td>0</td>\n",
       "      <td>3</td>\n",
       "      <td>0</td>\n",
       "      <td>6</td>\n",
       "      <td>403174</td>\n",
       "      <td>0</td>\n",
       "      <td>0</td>\n",
       "      <td>0</td>\n",
       "    </tr>\n",
       "    <tr>\n",
       "      <th>2</th>\n",
       "      <td>1/1/2015</td>\n",
       "      <td>S1F01E6Y</td>\n",
       "      <td>0</td>\n",
       "      <td>173295968</td>\n",
       "      <td>0</td>\n",
       "      <td>0</td>\n",
       "      <td>0</td>\n",
       "      <td>12</td>\n",
       "      <td>237394</td>\n",
       "      <td>0</td>\n",
       "      <td>0</td>\n",
       "      <td>0</td>\n",
       "    </tr>\n",
       "    <tr>\n",
       "      <th>3</th>\n",
       "      <td>1/1/2015</td>\n",
       "      <td>S1F01JE0</td>\n",
       "      <td>0</td>\n",
       "      <td>79694024</td>\n",
       "      <td>0</td>\n",
       "      <td>0</td>\n",
       "      <td>0</td>\n",
       "      <td>6</td>\n",
       "      <td>410186</td>\n",
       "      <td>0</td>\n",
       "      <td>0</td>\n",
       "      <td>0</td>\n",
       "    </tr>\n",
       "    <tr>\n",
       "      <th>4</th>\n",
       "      <td>1/1/2015</td>\n",
       "      <td>S1F01R2B</td>\n",
       "      <td>0</td>\n",
       "      <td>135970480</td>\n",
       "      <td>0</td>\n",
       "      <td>0</td>\n",
       "      <td>0</td>\n",
       "      <td>15</td>\n",
       "      <td>313173</td>\n",
       "      <td>0</td>\n",
       "      <td>0</td>\n",
       "      <td>3</td>\n",
       "    </tr>\n",
       "  </tbody>\n",
       "</table>\n",
       "</div>"
      ],
      "text/plain": [
       "       date    device  failure    metric1  metric2  metric3  metric4  metric5  \\\n",
       "0  1/1/2015  S1F01085        0  215630672       55        0       52        6   \n",
       "1  1/1/2015  S1F0166B        0   61370680        0        3        0        6   \n",
       "2  1/1/2015  S1F01E6Y        0  173295968        0        0        0       12   \n",
       "3  1/1/2015  S1F01JE0        0   79694024        0        0        0        6   \n",
       "4  1/1/2015  S1F01R2B        0  135970480        0        0        0       15   \n",
       "\n",
       "   metric6  metric7  metric8  metric9  \n",
       "0   407438        0        0        7  \n",
       "1   403174        0        0        0  \n",
       "2   237394        0        0        0  \n",
       "3   410186        0        0        0  \n",
       "4   313173        0        0        3  "
      ]
     },
     "execution_count": 6,
     "metadata": {},
     "output_type": "execute_result"
    }
   ],
   "source": [
    "data.head()"
   ]
  },
  {
   "cell_type": "code",
   "execution_count": 7,
   "id": "11ee1244",
   "metadata": {},
   "outputs": [
    {
     "name": "stdout",
     "output_type": "stream",
     "text": [
      "<class 'pandas.core.frame.DataFrame'>\n",
      "RangeIndex: 124494 entries, 0 to 124493\n",
      "Data columns (total 12 columns):\n",
      " #   Column   Non-Null Count   Dtype \n",
      "---  ------   --------------   ----- \n",
      " 0   date     124494 non-null  object\n",
      " 1   device   124494 non-null  object\n",
      " 2   failure  124494 non-null  int64 \n",
      " 3   metric1  124494 non-null  int64 \n",
      " 4   metric2  124494 non-null  int64 \n",
      " 5   metric3  124494 non-null  int64 \n",
      " 6   metric4  124494 non-null  int64 \n",
      " 7   metric5  124494 non-null  int64 \n",
      " 8   metric6  124494 non-null  int64 \n",
      " 9   metric7  124494 non-null  int64 \n",
      " 10  metric8  124494 non-null  int64 \n",
      " 11  metric9  124494 non-null  int64 \n",
      "dtypes: int64(10), object(2)\n",
      "memory usage: 11.4+ MB\n"
     ]
    }
   ],
   "source": [
    "data.info()"
   ]
  },
  {
   "cell_type": "code",
   "execution_count": 8,
   "id": "570314d8",
   "metadata": {
    "scrolled": true
   },
   "outputs": [
    {
     "data": {
      "text/html": [
       "<div>\n",
       "<style scoped>\n",
       "    .dataframe tbody tr th:only-of-type {\n",
       "        vertical-align: middle;\n",
       "    }\n",
       "\n",
       "    .dataframe tbody tr th {\n",
       "        vertical-align: top;\n",
       "    }\n",
       "\n",
       "    .dataframe thead th {\n",
       "        text-align: right;\n",
       "    }\n",
       "</style>\n",
       "<table border=\"1\" class=\"dataframe\">\n",
       "  <thead>\n",
       "    <tr style=\"text-align: right;\">\n",
       "      <th></th>\n",
       "      <th>failure</th>\n",
       "      <th>metric1</th>\n",
       "      <th>metric2</th>\n",
       "      <th>metric3</th>\n",
       "      <th>metric4</th>\n",
       "      <th>metric5</th>\n",
       "      <th>metric6</th>\n",
       "      <th>metric7</th>\n",
       "      <th>metric8</th>\n",
       "      <th>metric9</th>\n",
       "    </tr>\n",
       "  </thead>\n",
       "  <tbody>\n",
       "    <tr>\n",
       "      <th>count</th>\n",
       "      <td>124494.000000</td>\n",
       "      <td>1.244940e+05</td>\n",
       "      <td>124494.000000</td>\n",
       "      <td>124494.000000</td>\n",
       "      <td>124494.000000</td>\n",
       "      <td>124494.000000</td>\n",
       "      <td>124494.000000</td>\n",
       "      <td>124494.000000</td>\n",
       "      <td>124494.000000</td>\n",
       "      <td>124494.000000</td>\n",
       "    </tr>\n",
       "    <tr>\n",
       "      <th>mean</th>\n",
       "      <td>0.000851</td>\n",
       "      <td>1.223881e+08</td>\n",
       "      <td>159.492706</td>\n",
       "      <td>9.940897</td>\n",
       "      <td>1.741120</td>\n",
       "      <td>14.222669</td>\n",
       "      <td>260172.657726</td>\n",
       "      <td>0.292528</td>\n",
       "      <td>0.292528</td>\n",
       "      <td>13.013848</td>\n",
       "    </tr>\n",
       "    <tr>\n",
       "      <th>std</th>\n",
       "      <td>0.029167</td>\n",
       "      <td>7.045933e+07</td>\n",
       "      <td>2179.677781</td>\n",
       "      <td>185.748131</td>\n",
       "      <td>22.908507</td>\n",
       "      <td>15.943028</td>\n",
       "      <td>99151.078547</td>\n",
       "      <td>7.436924</td>\n",
       "      <td>7.436924</td>\n",
       "      <td>275.661220</td>\n",
       "    </tr>\n",
       "    <tr>\n",
       "      <th>min</th>\n",
       "      <td>0.000000</td>\n",
       "      <td>0.000000e+00</td>\n",
       "      <td>0.000000</td>\n",
       "      <td>0.000000</td>\n",
       "      <td>0.000000</td>\n",
       "      <td>1.000000</td>\n",
       "      <td>8.000000</td>\n",
       "      <td>0.000000</td>\n",
       "      <td>0.000000</td>\n",
       "      <td>0.000000</td>\n",
       "    </tr>\n",
       "    <tr>\n",
       "      <th>25%</th>\n",
       "      <td>0.000000</td>\n",
       "      <td>6.128476e+07</td>\n",
       "      <td>0.000000</td>\n",
       "      <td>0.000000</td>\n",
       "      <td>0.000000</td>\n",
       "      <td>8.000000</td>\n",
       "      <td>221452.000000</td>\n",
       "      <td>0.000000</td>\n",
       "      <td>0.000000</td>\n",
       "      <td>0.000000</td>\n",
       "    </tr>\n",
       "    <tr>\n",
       "      <th>50%</th>\n",
       "      <td>0.000000</td>\n",
       "      <td>1.227974e+08</td>\n",
       "      <td>0.000000</td>\n",
       "      <td>0.000000</td>\n",
       "      <td>0.000000</td>\n",
       "      <td>10.000000</td>\n",
       "      <td>249799.500000</td>\n",
       "      <td>0.000000</td>\n",
       "      <td>0.000000</td>\n",
       "      <td>0.000000</td>\n",
       "    </tr>\n",
       "    <tr>\n",
       "      <th>75%</th>\n",
       "      <td>0.000000</td>\n",
       "      <td>1.833096e+08</td>\n",
       "      <td>0.000000</td>\n",
       "      <td>0.000000</td>\n",
       "      <td>0.000000</td>\n",
       "      <td>12.000000</td>\n",
       "      <td>310266.000000</td>\n",
       "      <td>0.000000</td>\n",
       "      <td>0.000000</td>\n",
       "      <td>0.000000</td>\n",
       "    </tr>\n",
       "    <tr>\n",
       "      <th>max</th>\n",
       "      <td>1.000000</td>\n",
       "      <td>2.441405e+08</td>\n",
       "      <td>64968.000000</td>\n",
       "      <td>24929.000000</td>\n",
       "      <td>1666.000000</td>\n",
       "      <td>98.000000</td>\n",
       "      <td>689161.000000</td>\n",
       "      <td>832.000000</td>\n",
       "      <td>832.000000</td>\n",
       "      <td>70000.000000</td>\n",
       "    </tr>\n",
       "  </tbody>\n",
       "</table>\n",
       "</div>"
      ],
      "text/plain": [
       "             failure       metric1        metric2        metric3  \\\n",
       "count  124494.000000  1.244940e+05  124494.000000  124494.000000   \n",
       "mean        0.000851  1.223881e+08     159.492706       9.940897   \n",
       "std         0.029167  7.045933e+07    2179.677781     185.748131   \n",
       "min         0.000000  0.000000e+00       0.000000       0.000000   \n",
       "25%         0.000000  6.128476e+07       0.000000       0.000000   \n",
       "50%         0.000000  1.227974e+08       0.000000       0.000000   \n",
       "75%         0.000000  1.833096e+08       0.000000       0.000000   \n",
       "max         1.000000  2.441405e+08   64968.000000   24929.000000   \n",
       "\n",
       "             metric4        metric5        metric6        metric7  \\\n",
       "count  124494.000000  124494.000000  124494.000000  124494.000000   \n",
       "mean        1.741120      14.222669  260172.657726       0.292528   \n",
       "std        22.908507      15.943028   99151.078547       7.436924   \n",
       "min         0.000000       1.000000       8.000000       0.000000   \n",
       "25%         0.000000       8.000000  221452.000000       0.000000   \n",
       "50%         0.000000      10.000000  249799.500000       0.000000   \n",
       "75%         0.000000      12.000000  310266.000000       0.000000   \n",
       "max      1666.000000      98.000000  689161.000000     832.000000   \n",
       "\n",
       "             metric8        metric9  \n",
       "count  124494.000000  124494.000000  \n",
       "mean        0.292528      13.013848  \n",
       "std         7.436924     275.661220  \n",
       "min         0.000000       0.000000  \n",
       "25%         0.000000       0.000000  \n",
       "50%         0.000000       0.000000  \n",
       "75%         0.000000       0.000000  \n",
       "max       832.000000   70000.000000  "
      ]
     },
     "execution_count": 8,
     "metadata": {},
     "output_type": "execute_result"
    }
   ],
   "source": [
    "data.describe()"
   ]
  },
  {
   "cell_type": "markdown",
   "id": "45176a6a",
   "metadata": {},
   "source": [
    "It is observed that the variables 'metric1', 'metric5' and 'metric6' are the variables that have an oscillation of values.\n",
    "\n",
    "The variables 'metric2', 'metric3', 'metric4', 'metric7', 'metric8' and 'metric9' have a greater presence of values equal to 0 and some high maximum values that may be related to the presence of failures."
   ]
  },
  {
   "cell_type": "code",
   "execution_count": 9,
   "id": "b2478914",
   "metadata": {},
   "outputs": [],
   "source": [
    "data['date'] = pd.to_datetime(data['date'])"
   ]
  },
  {
   "cell_type": "code",
   "execution_count": 10,
   "id": "5539e14e",
   "metadata": {},
   "outputs": [
    {
     "data": {
      "text/plain": [
       "count                           124494\n",
       "mean     2015-04-16 05:20:49.737337088\n",
       "min                2015-01-01 00:00:00\n",
       "25%                2015-02-09 00:00:00\n",
       "50%                2015-03-27 00:00:00\n",
       "75%                2015-06-17 00:00:00\n",
       "max                2015-11-02 00:00:00\n",
       "Name: date, dtype: object"
      ]
     },
     "execution_count": 10,
     "metadata": {},
     "output_type": "execute_result"
    }
   ],
   "source": [
    "data['date'].describe()"
   ]
  },
  {
   "cell_type": "code",
   "execution_count": 11,
   "id": "e3bc45d1",
   "metadata": {},
   "outputs": [
    {
     "data": {
      "text/plain": [
       "date          304\n",
       "device       1169\n",
       "failure         2\n",
       "metric1    123877\n",
       "metric2       560\n",
       "metric3        48\n",
       "metric4       115\n",
       "metric5        60\n",
       "metric6     44838\n",
       "metric7        28\n",
       "metric8        28\n",
       "metric9        67\n",
       "dtype: int64"
      ]
     },
     "execution_count": 11,
     "metadata": {},
     "output_type": "execute_result"
    }
   ],
   "source": [
    "data.nunique()"
   ]
  },
  {
   "cell_type": "code",
   "execution_count": 13,
   "id": "87481493",
   "metadata": {},
   "outputs": [
    {
     "data": {
      "text/plain": [
       "date       0\n",
       "device     0\n",
       "failure    0\n",
       "metric1    0\n",
       "metric2    0\n",
       "metric3    0\n",
       "metric4    0\n",
       "metric5    0\n",
       "metric6    0\n",
       "metric7    0\n",
       "metric8    0\n",
       "metric9    0\n",
       "dtype: int64"
      ]
     },
     "execution_count": 13,
     "metadata": {},
     "output_type": "execute_result"
    }
   ],
   "source": [
    "data.isnull().sum()"
   ]
  },
  {
   "cell_type": "code",
   "execution_count": 14,
   "id": "67e80f04",
   "metadata": {},
   "outputs": [],
   "source": [
    "def extra_features(data):\n",
    "    # datetime features\n",
    "    df = data.copy()\n",
    "    df['day']       = df['date'].dt.day\n",
    "    df['month']     = df['date'].dt.month\n",
    "    df['year']      = df['date'].dt.year\n",
    "    df['day_week']  = df['date'].dt.weekday\n",
    "    df['weekmonth'] = (df['day'] - 1) // 7 + 1\n",
    "    \n",
    "    # devices features\n",
    "    df['sector']     = df['device'].str[:4]\n",
    "    df['equipment']  = df['device'].str[4:]\n",
    "    return df"
   ]
  },
  {
   "cell_type": "code",
   "execution_count": 15,
   "id": "4e1e41ba",
   "metadata": {},
   "outputs": [],
   "source": [
    "df = extra_features(data)\n"
   ]
  },
  {
   "cell_type": "code",
   "execution_count": 16,
   "id": "d3c5003f",
   "metadata": {},
   "outputs": [
    {
     "data": {
      "text/plain": [
       "date            304\n",
       "device         1169\n",
       "failure           2\n",
       "metric1      123877\n",
       "metric2         560\n",
       "metric3          48\n",
       "metric4         115\n",
       "metric5          60\n",
       "metric6       44838\n",
       "metric7          28\n",
       "metric8          28\n",
       "metric9          67\n",
       "day              31\n",
       "month            11\n",
       "year              1\n",
       "day_week          7\n",
       "weekmonth         5\n",
       "sector            7\n",
       "equipment      1169\n",
       "dtype: int64"
      ]
     },
     "execution_count": 16,
     "metadata": {},
     "output_type": "execute_result"
    }
   ],
   "source": [
    "df.nunique()"
   ]
  },
  {
   "cell_type": "code",
   "execution_count": 17,
   "id": "01e92455",
   "metadata": {},
   "outputs": [],
   "source": [
    "# sns.countplot(data = data,x = 'failure')\n"
   ]
  },
  {
   "cell_type": "code",
   "execution_count": 18,
   "id": "62d0f561",
   "metadata": {},
   "outputs": [],
   "source": [
    "df['op_period'] = 0\n",
    "df['dev_reconnected'] = 0\n",
    "device_list = df['device'].unique()\n",
    "for x in device_list:\n",
    "    idx = df['device'] == x # pegamos todos os indexs onde um 'y' device está presente    \n",
    "    aux = np.sum(idx)\n",
    "    aux2 = range(1,aux+1)\n",
    "    df.loc[idx,'op_period'] = aux2\n",
    "    \n",
    "    idx2 = df[idx].index\n",
    "    for i in range(0,len(idx2)-1):\n",
    "        aux = (df.loc[idx2[i],'date'])+datetime.timedelta(days=1)\n",
    "        aux2 =(df.loc[idx2[i+1],'date'])\n",
    "        if aux != aux2:\n",
    "            df.loc[idx2[i+1],'dev_reconnected'] = df.loc[idx2[i],'dev_reconnected']+1\n",
    "        else:\n",
    "            df.loc[idx2[i+1],'dev_reconnected'] = df.loc[idx2[i],'dev_reconnected']"
   ]
  },
  {
   "cell_type": "code",
   "execution_count": 19,
   "id": "d46fdad3",
   "metadata": {},
   "outputs": [
    {
     "data": {
      "text/html": [
       "<div>\n",
       "<style scoped>\n",
       "    .dataframe tbody tr th:only-of-type {\n",
       "        vertical-align: middle;\n",
       "    }\n",
       "\n",
       "    .dataframe tbody tr th {\n",
       "        vertical-align: top;\n",
       "    }\n",
       "\n",
       "    .dataframe thead th {\n",
       "        text-align: right;\n",
       "    }\n",
       "</style>\n",
       "<table border=\"1\" class=\"dataframe\">\n",
       "  <thead>\n",
       "    <tr style=\"text-align: right;\">\n",
       "      <th></th>\n",
       "      <th>date</th>\n",
       "      <th>device</th>\n",
       "      <th>failure</th>\n",
       "      <th>metric1</th>\n",
       "      <th>metric2</th>\n",
       "      <th>metric3</th>\n",
       "      <th>metric4</th>\n",
       "      <th>metric5</th>\n",
       "      <th>metric6</th>\n",
       "      <th>metric7</th>\n",
       "      <th>...</th>\n",
       "      <th>metric9</th>\n",
       "      <th>day</th>\n",
       "      <th>month</th>\n",
       "      <th>year</th>\n",
       "      <th>day_week</th>\n",
       "      <th>weekmonth</th>\n",
       "      <th>sector</th>\n",
       "      <th>equipment</th>\n",
       "      <th>op_period</th>\n",
       "      <th>dev_reconnected</th>\n",
       "    </tr>\n",
       "  </thead>\n",
       "  <tbody>\n",
       "    <tr>\n",
       "      <th>124489</th>\n",
       "      <td>2015-11-02</td>\n",
       "      <td>Z1F0MA1S</td>\n",
       "      <td>0</td>\n",
       "      <td>18310224</td>\n",
       "      <td>0</td>\n",
       "      <td>0</td>\n",
       "      <td>0</td>\n",
       "      <td>10</td>\n",
       "      <td>353705</td>\n",
       "      <td>8</td>\n",
       "      <td>...</td>\n",
       "      <td>0</td>\n",
       "      <td>2</td>\n",
       "      <td>11</td>\n",
       "      <td>2015</td>\n",
       "      <td>0</td>\n",
       "      <td>1</td>\n",
       "      <td>Z1F0</td>\n",
       "      <td>MA1S</td>\n",
       "      <td>304</td>\n",
       "      <td>2</td>\n",
       "    </tr>\n",
       "    <tr>\n",
       "      <th>124490</th>\n",
       "      <td>2015-11-02</td>\n",
       "      <td>Z1F0Q8RT</td>\n",
       "      <td>0</td>\n",
       "      <td>172556680</td>\n",
       "      <td>96</td>\n",
       "      <td>107</td>\n",
       "      <td>4</td>\n",
       "      <td>11</td>\n",
       "      <td>332792</td>\n",
       "      <td>0</td>\n",
       "      <td>...</td>\n",
       "      <td>13</td>\n",
       "      <td>2</td>\n",
       "      <td>11</td>\n",
       "      <td>2015</td>\n",
       "      <td>0</td>\n",
       "      <td>1</td>\n",
       "      <td>Z1F0</td>\n",
       "      <td>Q8RT</td>\n",
       "      <td>304</td>\n",
       "      <td>2</td>\n",
       "    </tr>\n",
       "    <tr>\n",
       "      <th>124491</th>\n",
       "      <td>2015-11-02</td>\n",
       "      <td>Z1F0QK05</td>\n",
       "      <td>0</td>\n",
       "      <td>19029120</td>\n",
       "      <td>4832</td>\n",
       "      <td>0</td>\n",
       "      <td>0</td>\n",
       "      <td>11</td>\n",
       "      <td>350410</td>\n",
       "      <td>0</td>\n",
       "      <td>...</td>\n",
       "      <td>0</td>\n",
       "      <td>2</td>\n",
       "      <td>11</td>\n",
       "      <td>2015</td>\n",
       "      <td>0</td>\n",
       "      <td>1</td>\n",
       "      <td>Z1F0</td>\n",
       "      <td>QK05</td>\n",
       "      <td>304</td>\n",
       "      <td>2</td>\n",
       "    </tr>\n",
       "    <tr>\n",
       "      <th>124492</th>\n",
       "      <td>2015-11-02</td>\n",
       "      <td>Z1F0QL3N</td>\n",
       "      <td>0</td>\n",
       "      <td>226953408</td>\n",
       "      <td>0</td>\n",
       "      <td>0</td>\n",
       "      <td>0</td>\n",
       "      <td>12</td>\n",
       "      <td>358980</td>\n",
       "      <td>0</td>\n",
       "      <td>...</td>\n",
       "      <td>0</td>\n",
       "      <td>2</td>\n",
       "      <td>11</td>\n",
       "      <td>2015</td>\n",
       "      <td>0</td>\n",
       "      <td>1</td>\n",
       "      <td>Z1F0</td>\n",
       "      <td>QL3N</td>\n",
       "      <td>304</td>\n",
       "      <td>2</td>\n",
       "    </tr>\n",
       "    <tr>\n",
       "      <th>124493</th>\n",
       "      <td>2015-11-02</td>\n",
       "      <td>Z1F0QLC1</td>\n",
       "      <td>0</td>\n",
       "      <td>17572840</td>\n",
       "      <td>0</td>\n",
       "      <td>0</td>\n",
       "      <td>0</td>\n",
       "      <td>10</td>\n",
       "      <td>351431</td>\n",
       "      <td>0</td>\n",
       "      <td>...</td>\n",
       "      <td>70000</td>\n",
       "      <td>2</td>\n",
       "      <td>11</td>\n",
       "      <td>2015</td>\n",
       "      <td>0</td>\n",
       "      <td>1</td>\n",
       "      <td>Z1F0</td>\n",
       "      <td>QLC1</td>\n",
       "      <td>304</td>\n",
       "      <td>2</td>\n",
       "    </tr>\n",
       "  </tbody>\n",
       "</table>\n",
       "<p>5 rows × 21 columns</p>\n",
       "</div>"
      ],
      "text/plain": [
       "             date    device  failure    metric1  metric2  metric3  metric4  \\\n",
       "124489 2015-11-02  Z1F0MA1S        0   18310224        0        0        0   \n",
       "124490 2015-11-02  Z1F0Q8RT        0  172556680       96      107        4   \n",
       "124491 2015-11-02  Z1F0QK05        0   19029120     4832        0        0   \n",
       "124492 2015-11-02  Z1F0QL3N        0  226953408        0        0        0   \n",
       "124493 2015-11-02  Z1F0QLC1        0   17572840        0        0        0   \n",
       "\n",
       "        metric5  metric6  metric7  ...  metric9  day  month  year  day_week  \\\n",
       "124489       10   353705        8  ...        0    2     11  2015         0   \n",
       "124490       11   332792        0  ...       13    2     11  2015         0   \n",
       "124491       11   350410        0  ...        0    2     11  2015         0   \n",
       "124492       12   358980        0  ...        0    2     11  2015         0   \n",
       "124493       10   351431        0  ...    70000    2     11  2015         0   \n",
       "\n",
       "        weekmonth  sector equipment op_period  dev_reconnected  \n",
       "124489          1    Z1F0      MA1S       304                2  \n",
       "124490          1    Z1F0      Q8RT       304                2  \n",
       "124491          1    Z1F0      QK05       304                2  \n",
       "124492          1    Z1F0      QL3N       304                2  \n",
       "124493          1    Z1F0      QLC1       304                2  \n",
       "\n",
       "[5 rows x 21 columns]"
      ]
     },
     "execution_count": 19,
     "metadata": {},
     "output_type": "execute_result"
    }
   ],
   "source": [
    "df.tail(5)"
   ]
  },
  {
   "cell_type": "code",
   "execution_count": 20,
   "id": "6d2d4cee",
   "metadata": {},
   "outputs": [
    {
     "data": {
      "text/plain": [
       "array([      0,    2048,    2056,    2168,    3784,    4224,    4480,\n",
       "          4560,    8280,    8616,    9088,    9472,   11480,   12776,\n",
       "         13824,   15928,   17272,   18800,   19120,   23840,   26624,\n",
       "         28568,   30088,   35544,   37680,   40208,   41000,   43016,\n",
       "         43888,   45088,   45216,   47288,   47472,   47528,   48128,\n",
       "         48152,   48384,   49272,   49792,   50128,   50584,   50696,\n",
       "         52664,   53184,   54040,   60192,   61208,   72808,   75736,\n",
       "         76200,   78120,   79240,   89968,   90528,   95216,   96024,\n",
       "         96264,   96272,   96968,   97848,   98736,  100920,  101640,\n",
       "        112376,  112760,  123608,  124768,  125456,  127088,  127384,\n",
       "        132096,  132832,  134568,  142720,  144368,  151600,  152520,\n",
       "        155968,  156120,  157792,  163912,  167408,  172112,  172696,\n",
       "        172984,  176912,  177520,  178568,  183192,  183760,  188416,\n",
       "        192576,  194072,  196064,  198760,  199312,  199672,  200144,\n",
       "        202056,  207720,  210008,  210576,  214624,  215104,  219280,\n",
       "        221560,  226024,  226184,  227536,  228208,  228936,  231424,\n",
       "        234016,  238984,  246904,  248096,  248616,  249136,  249568,\n",
       "        253184,  257016,  258280,  262944,  268800,  268864,  268984,\n",
       "        269232,  270104,  272192,  275248,  278560,  279416,  281864,\n",
       "        282712,  283896,  284536,  291424,  293144,  298304,  301648,\n",
       "        303120,  304376,  306840,  308512,  313800,  313872,  314232,\n",
       "        317552,  321312,  321696,  322616,  324664,  327712,  329600,\n",
       "        341712,  341960,  342728,  344416,  344552,  344568,  346792,\n",
       "        347296,  349192,  349600,  350728,  352664,  352832,  353704,\n",
       "        353880,  354368,  355088,  356760,  356792,  359064,  361176,\n",
       "        363184,  363288,  364128,  365432,  369504,  370600,  371400,\n",
       "        373304,  376328,  378408,  380648,  382376,  382776,  383232,\n",
       "        383688,  387200,  388568,  390512,  391080,  392000,  392208,\n",
       "        393856,  395632,  399584,  401224,  403656,  404088,  408376,\n",
       "        408752,  409032,  410848,  412760,  414960,  422712,  423432,\n",
       "        424088,  424544,  425224,  428608,  431920,  432776,  434240,\n",
       "        434408,  435664,  435672,  437408,  437664,  438840,  441640,\n",
       "        444224,  444744,  445720,  446480,  458016,  459648,  462160,\n",
       "        464496,  465248,  466384,  467712,  468064,  469040,  471432,\n",
       "        471848,  473256,  473552,  476400,  476952,  477848,  480968,\n",
       "        481056,  482592,  482976,  484320,  486432,  490304,  495744,\n",
       "        495920,  497928,  503656,  505464,  505592,  508584,  508936,\n",
       "        509656,  510288,  512640,  513160,  519560,  521104,  523224,\n",
       "        529048,  530400,  532632,  536784,  537664,  539440,  542600,\n",
       "        543344,  552416,  552824,  558048,  561008,  566232,  567768,\n",
       "        569224,  569416,  569520,  571696,  576360,  580760,  589160,\n",
       "        589840,  591272,  592608,  593520,  597296,  600032,  601184,\n",
       "        601624,  604848,  604992,  608944,  609360,  612480,  616080,\n",
       "        616896,  619584,  620640,  621064,  622984,  623736,  624136,\n",
       "        624912,  626728,  629776,  631568,  632488,  636368,  636800,\n",
       "        646224,  646368,  646472,  647504,  651208,  651584,  652848,\n",
       "        656216,  656280,  658104,  659656,  660032,  660440,  660944,\n",
       "        662480,  666896,  667624,  670192,  679648,  680216,  681264,\n",
       "        681880,  683760,  683968,  684952,  685928,  686808,  689920,\n",
       "        691912,  692152,  695624,  697056,  704152,  707000,  710320,\n",
       "        711128,  716440,  717600,  719160,  722232,  723840,  723904,\n",
       "        726568,  727000,  727152,  728224,  728872,  729312,  730336,\n",
       "        731872,  732856,  733496,  734096,  734376,  734824,  736144,\n",
       "        737712,  740720,  740888,  747176,  748480,  754032,  755872,\n",
       "        756328,  756528,  756584,  756960,  757536,  758104,  761048,\n",
       "        763808,  767336,  767488,  768912,  769104,  769208,  770560,\n",
       "        773280,  773968,  777264,  781552,  781888,  782304,  785472,\n",
       "        786312,  786472,  787848,  788360,  792304,  795328,  798152,\n",
       "        801656,  801800,  814152,  816672,  817536,  817952,  819768,\n",
       "        820680,  825184,  831800,  832656,  836296,  837176,  837736,\n",
       "        837936,  838368,  840160,  840176,  841888,  843160,  843440,\n",
       "        844208,  845208,  847808,  847912,  854208,  854928,  856120,\n",
       "        857960,  858648,  862096,  865112,  865400,  865752,  869224,\n",
       "        872008,  872240,  872864,  876128,  880408,  883456,  886344,\n",
       "        887360,  888512,  889856,  890472,  891776,  894208,  894952,\n",
       "        895936,  896256,  897568,  898232,  898296,  899816,  910856,\n",
       "        913056,  913920,  918688,  919824,  920424,  922256,  922840,\n",
       "        923080,  923120,  923224,  925872,  927056,  934224,  934304,\n",
       "        934360,  941872,  950480,  951696,  958544,  961288,  968488,\n",
       "        970280,  971080,  973608,  974368,  976368,  978280,  979952,\n",
       "        980024,  982976,  986016,  986376,  987096,  988664,  996592,\n",
       "        998096,  998928,  999152,  999368,  999632, 1001640, 1003192,\n",
       "       1003704, 1005328, 1007640, 1013176, 1018440, 1018872, 1020936,\n",
       "       1023128, 1024880, 1026392, 1030280, 1032152, 1040384, 1043256,\n",
       "       1045504, 1046984, 1048368, 1048984, 1050584, 1051112, 1051744,\n",
       "       1052984, 1058536, 1058552, 1058744, 1060440, 1061152, 1062712,\n",
       "       1063752, 1064552, 1066104, 1066544, 1066584, 1069320, 1069680,\n",
       "       1070328, 1070664, 1071464, 1072592, 1076800, 1077904, 1078040,\n",
       "       1078072, 1079008, 1079056, 1083248, 1084352, 1084408, 1089096,\n",
       "       1092456, 1093152, 1093824, 1094056, 1095832, 1097240, 1098312,\n",
       "       1098832, 1100472, 1100568, 1101032, 1101344, 1102728, 1103960,\n",
       "       1106272, 1106400, 1108208, 1108608, 1109456, 1109736, 1109768,\n",
       "       1110520, 1112896, 1115096, 1115632, 1117784, 1118336, 1118904,\n",
       "       1119264, 1119552, 1121016, 1126736, 1127472, 1131032])"
      ]
     },
     "execution_count": 20,
     "metadata": {},
     "output_type": "execute_result"
    }
   ],
   "source": [
    "#evaluating metric\n",
    "df['metric1'].sort_values().head(600).unique()"
   ]
  },
  {
   "cell_type": "code",
   "execution_count": 21,
   "id": "7b4797b5",
   "metadata": {},
   "outputs": [
    {
     "data": {
      "text/plain": [
       "46"
      ]
     },
     "execution_count": 21,
     "metadata": {},
     "output_type": "execute_result"
    }
   ],
   "source": [
    "def multi(x,i):\n",
    "    if x%i == 0:\n",
    "        return True\n",
    "    else:\n",
    "        return False\n",
    "    \n",
    "a = df['metric1'].apply(lambda x: multi(x,8))\n",
    "a[a == False].count()"
   ]
  },
  {
   "cell_type": "code",
   "execution_count": 22,
   "id": "8f88d453",
   "metadata": {},
   "outputs": [],
   "source": [
    "df['mnw1'] = df['metric1']/8\n",
    "df['mnw1'] = df['mnw1'].apply(lambda x: math.ceil(x))"
   ]
  },
  {
   "cell_type": "code",
   "execution_count": 23,
   "id": "cd85a402",
   "metadata": {},
   "outputs": [
    {
     "data": {
      "text/plain": [
       "array([    0,     8,    16,    24,    32,    40,    48,    55,    56,\n",
       "          64,    72,    80,    88,    96,   104,   112,   120,   128,\n",
       "         136,   144,   152,   160,   168,   176,   184,   192,   200,\n",
       "         208,   216,   224,   232,   240,   248,   256,   264,   272,\n",
       "         280,   288,   296,   304,   320,   328,   336,   344,   352,\n",
       "         360,   368,   376,   384,   392,   400,   408,   416,   424,\n",
       "         432,   440,   448,   456,   464,   472,   480,   488,   496,\n",
       "         504,   512,   520,   528,   536,   544,   552,   560,   568,\n",
       "         576,   584,   592,   600,   608,   616,   624,   632,   640,\n",
       "         648,   656,   664,   672,   680,   704,   712,   728,   736,\n",
       "         744,   752,   760,   776,   792,   800,   808,   816,   824,\n",
       "         832,   840,   848,   864,   872,   888,   896,   912,   920,\n",
       "         928,   936,   944,   952,   960,   968,   976,   984,   992,\n",
       "        1000,  1024,  1032,  1040,  1048,  1056,  1064,  1072,  1080,\n",
       "        1088,  1096,  1104,  1112,  1120,  1128,  1136,  1144,  1152,\n",
       "        1160,  1176,  1184,  1192,  1200,  1208,  1232,  1240,  1248,\n",
       "        1256,  1264,  1280,  1288,  1296,  1312,  1320,  1336,  1360,\n",
       "        1376,  1392,  1400,  1416,  1424,  1440,  1464,  1480,  1488,\n",
       "        1504,  1536,  1552,  1560,  1568,  1576,  1584,  1592,  1600,\n",
       "        1616,  1624,  1632,  1648,  1656,  1664,  1672,  1720,  1744,\n",
       "        1752,  1768,  1776,  1800,  1808,  1816,  1832,  1840,  1848,\n",
       "        1864,  1880,  1888,  1912,  1920,  1928,  1936,  1944,  1952,\n",
       "        1960,  1968,  1976,  1984,  1992,  2000,  2008,  2016,  2024,\n",
       "        2032,  2040,  2048,  2056,  2064,  2072,  2096,  2104,  2144,\n",
       "        2192,  2208,  2232,  2248,  2256,  2272,  2280,  2288,  2296,\n",
       "        2304,  2320,  2328,  2336,  2344,  2352,  2360,  2368,  2376,\n",
       "        2384,  2392,  2400,  2416,  2424,  2432,  2440,  2448,  2456,\n",
       "        2464,  2472,  2480,  2488,  2496,  2520,  2528,  2536,  2544,\n",
       "        2552,  2568,  2576,  2600,  2608,  2616,  2640,  2648,  2656,\n",
       "        2664,  2704,  2712,  2720,  2744,  2768,  2784,  2792,  2808,\n",
       "        2816,  2824,  2832,  2848,  2856,  2880,  2904,  2912,  2920,\n",
       "        2936,  2944,  2984,  2992,  3000,  3016,  3032,  3040,  3048,\n",
       "        3064,  3072,  3080,  3096,  3104,  3112,  3128,  3136,  3144,\n",
       "        3152,  3160,  3200,  3216,  3248,  3272,  3288,  3352,  3376,\n",
       "        3432,  3440,  3456,  3472,  3488,  3512,  3528,  3536,  3552,\n",
       "        3576,  3584,  3592,  3600,  3608,  3616,  3624,  3696,  3800,\n",
       "        3840,  3848,  4072,  4080,  4160,  4240,  4248,  4264,  4280,\n",
       "        4304,  4312,  4360,  4440,  4448,  4456,  4464,  4472,  4488,\n",
       "        4496,  4512,  4536,  4768,  4792,  4808,  4816,  4832,  4920,\n",
       "        4960,  5160,  5184,  5192,  5560,  5624,  6048,  6080,  6096,\n",
       "        6128,  6150,  6176,  6216,  6248,  6264,  6272,  6280,  6288,\n",
       "        6304,  6328,  6336,  6344,  6352,  6360,  6368,  6376,  6416,\n",
       "        6464,  6472,  6480,  6504,  6544,  6656,  6680,  6720,  6744,\n",
       "        6792,  6800,  6808,  6856,  6912,  6992,  7024,  7096,  7128,\n",
       "        7160,  7216,  7240,  7344,  7384,  7400,  7440,  7448,  7456,\n",
       "        7504,  7520,  7544,  7552,  7624,  7640,  7648,  7672,  7680,\n",
       "        7712,  7752,  7768,  7800,  7808,  7888,  7904,  7928,  7944,\n",
       "        7960,  7968,  7976,  8064,  8104,  8120,  8136,  8160,  8392,\n",
       "        8480,  8488,  8520,  8528,  8536,  8544,  8688,  8760,  9008,\n",
       "        9264,  9536,  9592,  9848,  9920,  9952,  9960,  9984, 10024,\n",
       "       10064, 10096, 10168, 10184, 10200, 10232, 10248, 10288, 10304,\n",
       "       10328, 10336, 10344, 10352, 10360, 10368, 10376, 10384, 10392,\n",
       "       10440, 10448, 10592, 10648, 11216, 11432, 11856, 11872, 11880,\n",
       "       11888, 12360, 12928, 13088, 13560, 14856, 14904, 14920, 15304,\n",
       "       15328, 15336, 16408, 16864, 17408, 17704, 18072, 19200, 21200,\n",
       "       21528, 21544, 21816, 21928, 21944, 22816, 23208, 23400, 23936,\n",
       "       24656, 24680, 24792, 24904, 24920, 24976, 24984, 27856, 28344,\n",
       "       32936, 33000, 33016, 33024, 33528, 34912, 35616, 37936, 41232,\n",
       "       43712, 44008, 44024, 44152, 44176, 44224, 44232, 46264, 46280,\n",
       "       46296, 46304, 46328, 46400, 46408, 46496, 46520, 46584, 46848,\n",
       "       46872, 47944, 49768, 49840, 51976, 54752, 54896, 56584, 56736,\n",
       "       61592, 62296, 64464, 64472, 64584, 64728, 64736, 64776, 64784,\n",
       "       64792, 64968])"
      ]
     },
     "execution_count": 23,
     "metadata": {},
     "output_type": "execute_result"
    }
   ],
   "source": [
    "df['metric2'].sort_values().unique()"
   ]
  },
  {
   "cell_type": "code",
   "execution_count": 24,
   "id": "c49498d9",
   "metadata": {},
   "outputs": [
    {
     "data": {
      "text/plain": [
       "1"
      ]
     },
     "execution_count": 24,
     "metadata": {},
     "output_type": "execute_result"
    }
   ],
   "source": [
    "df[df['metric2'] == 55].metric2.count()\n"
   ]
  },
  {
   "cell_type": "code",
   "execution_count": 25,
   "id": "20cbad3e",
   "metadata": {},
   "outputs": [],
   "source": [
    "idx = df['metric2'] == 55\n",
    "df.loc[idx,'metric2'] = 56\n",
    "df['mnw2'] = df['metric2']/8\n",
    "df['mnw2'] = df['mnw2'].astype(int)"
   ]
  },
  {
   "cell_type": "code",
   "execution_count": 26,
   "id": "18f898db",
   "metadata": {},
   "outputs": [
    {
     "data": {
      "text/plain": [
       "array([    0,     1,     2,     3,     4,     5,     7,     8,     9,\n",
       "          10,    11,    12,    14,    15,    16,    18,    21,    24,\n",
       "          25,    34,    35,    36,    38,    53,    56,    61,    62,\n",
       "          70,    72,   100,   107,   208,   220,   263,   266,   279,\n",
       "         318,   323,   377,   378,   382,   406,  1162,  1326,  1331,\n",
       "        2112,  2693, 24929])"
      ]
     },
     "execution_count": 26,
     "metadata": {},
     "output_type": "execute_result"
    }
   ],
   "source": [
    "df['metric3'].sort_values().unique()\n"
   ]
  },
  {
   "cell_type": "code",
   "execution_count": 27,
   "id": "9ac7b8d4",
   "metadata": {},
   "outputs": [
    {
     "data": {
      "text/plain": [
       "array([   0,    1,    2,    3,    4,    5,    6,    7,    8,    9,   10,\n",
       "         11,   12,   13,   14,   15,   16,   17,   18,   19,   20,   21,\n",
       "         22,   23,   24,   25,   26,   27,   28,   29,   30,   31,   32,\n",
       "         34,   35,   36,   37,   38,   39,   40,   41,   43,   44,   45,\n",
       "         46,   48,   49,   50,   51,   52,   53,   55,   56,   57,   58,\n",
       "         60,   62,   65,   67,   69,   73,   74,   76,   79,   80,   86,\n",
       "         90,   91,   94,   95,   97,  100,  108,  112,  118,  121,  122,\n",
       "        128,  129,  135,  147,  160,  164,  173,  175,  186,  204,  214,\n",
       "        215,  235,  236,  256,  288,  297,  299,  300,  305,  322,  331,\n",
       "        399,  400,  401,  405,  406,  431,  486,  487,  521,  529,  533,\n",
       "        763,  841, 1033, 1074, 1666])"
      ]
     },
     "execution_count": 27,
     "metadata": {},
     "output_type": "execute_result"
    }
   ],
   "source": [
    "df['metric4'].sort_values().unique()\n"
   ]
  },
  {
   "cell_type": "code",
   "execution_count": 28,
   "id": "05c2bfb0",
   "metadata": {},
   "outputs": [],
   "source": [
    "df['mnw7'] = df['metric7']/2\n",
    "df['mnw7'] = df['mnw7'].astype(int)"
   ]
  },
  {
   "cell_type": "code",
   "execution_count": 29,
   "id": "a256a459",
   "metadata": {},
   "outputs": [],
   "source": [
    "df['mnw8'] = df['metric8']/2\n",
    "df['mnw8'] = df['mnw8'].astype(int)"
   ]
  },
  {
   "cell_type": "code",
   "execution_count": 30,
   "id": "a3f8f7a3",
   "metadata": {},
   "outputs": [],
   "source": [
    "df.drop(['metric1','metric2','metric7','metric8'], axis = 1 , inplace = True)"
   ]
  },
  {
   "cell_type": "code",
   "execution_count": 31,
   "id": "6ca7c47e",
   "metadata": {},
   "outputs": [],
   "source": [
    "metrics = ['mnw1','mnw2','metric3', 'metric4', 'metric5', 'metric6', 'mnw7', 'mnw8','metric9']\n"
   ]
  },
  {
   "cell_type": "code",
   "execution_count": 32,
   "id": "462f788c",
   "metadata": {},
   "outputs": [],
   "source": [
    "df['dif_m6'] = df['metric6']\n",
    "df['dif_m5'] = df['metric5']\n",
    "\n",
    "df['log_m2'] = np.log(df['mnw2']+1)\n",
    "df['log_m3'] = np.log(df['metric3']+1)\n",
    "df['log_m4'] = np.log(df['metric4']+1)\n",
    "df['log_m7'] = np.log(df['mnw7']+1)\n",
    "df['log_m8'] = np.log(df['mnw8']+1)\n",
    "df['log_m9'] = np.log(df['metric9']+1)\n",
    "\n",
    "df.drop(['mnw2','metric3','metric4','mnw7','mnw8','metric9'], axis = 1, inplace = True)\n",
    "dev_name = df['device'].unique()\n",
    "\n",
    "for i in dev_name:\n",
    "    filt = df[df['device'] == i]\n",
    "    df.loc[filt.index,'dif_m6'] = filt['dif_m6'] - filt['metric6'].min()\n",
    "    df.loc[filt.index,'dif_m5'] = filt['dif_m5'] - filt['metric5'].min()"
   ]
  },
  {
   "cell_type": "code",
   "execution_count": 33,
   "id": "b7aef1af",
   "metadata": {},
   "outputs": [],
   "source": [
    "df_final = df.drop(['device','log_m8','weekmonth','year','equipment','date','month'],axis =1)\n"
   ]
  },
  {
   "cell_type": "code",
   "execution_count": null,
   "id": "f5a717d2",
   "metadata": {},
   "outputs": [],
   "source": [
    "df_final"
   ]
  }
 ],
 "metadata": {
  "kernelspec": {
   "display_name": "Python 3",
   "language": "python",
   "name": "python3"
  },
  "language_info": {
   "codemirror_mode": {
    "name": "ipython",
    "version": 3
   },
   "file_extension": ".py",
   "mimetype": "text/x-python",
   "name": "python",
   "nbconvert_exporter": "python",
   "pygments_lexer": "ipython3",
   "version": "3.8.16"
  }
 },
 "nbformat": 4,
 "nbformat_minor": 5
}
