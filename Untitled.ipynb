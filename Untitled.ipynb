{
 "cells": [
  {
   "cell_type": "code",
   "execution_count": 2,
   "id": "0bc6cf40",
   "metadata": {},
   "outputs": [],
   "source": [
    "from snowflake.snowpark import Session\n",
    "import configparser\n",
    "def get_session():\n",
    "    parser = configparser.ConfigParser()\n",
    "    # Add the credential file name here\n",
    "    parser.read('config.ini')\n",
    "\n",
    "    connection_params = dict(user=parser['Credentials']['user'], \n",
    "                         password=parser['Credentials']['password'], \n",
    "                         account=parser['Credentials']['account'], \n",
    "                         warehouse=parser['Credentials']['warehouse'], \n",
    "                         database=parser['Credentials']['database'],\n",
    "                         schema=parser['Credentials']['schema'], \n",
    "                         role=parser['Credentials']['role'])\n",
    "\n",
    "    session = Session.builder.configs(connection_params).create()\n",
    "    return session"
   ]
  },
  {
   "cell_type": "code",
   "execution_count": 3,
   "id": "0f3e32f7",
   "metadata": {},
   "outputs": [],
   "source": [
    "session = get_session()"
   ]
  },
  {
   "cell_type": "code",
   "execution_count": null,
   "id": "659ed0a9",
   "metadata": {},
   "outputs": [
    {
     "name": "stderr",
     "output_type": "stream",
     "text": [
      "/opt/conda/lib/python3.8/site-packages/sklearn/preprocessing/_encoders.py:972: FutureWarning: `sparse` was renamed to `sparse_output` in version 1.2 and will be removed in 1.4. `sparse_output` is ignored unless you leave `sparse` to its default value.\n",
      "  warnings.warn(\n"
     ]
    }
   ],
   "source": [
    "    #add all imports\n",
    "    from sklearn.model_selection import train_test_split\n",
    "    from sklearn.preprocessing import OneHotEncoder\n",
    "    from sklearn.metrics import recall_score, f1_score, roc_auc_score, confusion_matrix,classification_report\n",
    "    from sklearn.linear_model import SGDClassifier\n",
    "    from sklearn.pipeline import Pipeline\n",
    "    \n",
    "    df_final = session.sql(\"SELECT * from {table}\".format(table=\"predictive_maintenance_final\")).to_pandas()\n",
    "    \n",
    "    # prepare data for training\n",
    "    X = df_final.drop(['FAILURE'], axis = 1)\n",
    "    y = df_final['FAILURE']\n",
    "    X_train, X_test, Y_train, Y_test = train_test_split(X,y,random_state = 0, test_size=0.25, shuffle = True)\n",
    "    X_train.reset_index(inplace = True, drop = True)\n",
    "    Y_train.reset_index(inplace = True, drop = True)\n",
    "\n",
    "    X_test.reset_index(inplace = True, drop = True)\n",
    "    Y_test.reset_index(inplace = True, drop = True)\n",
    "    \n",
    "    x_train, x_val, y_train, y_val = train_test_split(X_train, Y_train, random_state = 0, test_size=0.25)\n",
    "    \n",
    "    pipeline = Pipeline([\n",
    "        ('OHE', OneHotEncoder(handle_unknown = 'ignore',sparse=False)),\n",
    "#         ('SCALER', StandardScaler()),\n",
    "        ('SGD', SGDClassifier(random_state=0))\n",
    "     ])\n",
    "    \n",
    "    pipeline.fit(x_train,y_train)\n",
    "    y_pred = pipeline.predict(x_val) \n",
    "    cf_matrix = confusion_matrix(y_val, y_pred)\n",
    "    cls_report = classification_report(y_val, y_pred, output_dict=True)\n",
    "    print(cls_report)"
   ]
  },
  {
   "cell_type": "code",
   "execution_count": null,
   "id": "b69bfe4b",
   "metadata": {},
   "outputs": [],
   "source": []
  }
 ],
 "metadata": {
  "kernelspec": {
   "display_name": "Python 3",
   "language": "python",
   "name": "python3"
  },
  "language_info": {
   "codemirror_mode": {
    "name": "ipython",
    "version": 3
   },
   "file_extension": ".py",
   "mimetype": "text/x-python",
   "name": "python",
   "nbconvert_exporter": "python",
   "pygments_lexer": "ipython3",
   "version": "3.8.16"
  }
 },
 "nbformat": 4,
 "nbformat_minor": 5
}
