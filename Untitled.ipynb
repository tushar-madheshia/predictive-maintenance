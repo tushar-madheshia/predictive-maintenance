{
 "cells": [
  {
   "cell_type": "code",
   "execution_count": 1,
   "id": "91de04e7",
   "metadata": {},
   "outputs": [],
   "source": [
    "from snowflake.snowpark import Session\n",
    "import configparser\n",
    "def get_session():\n",
    "    parser = configparser.ConfigParser()\n",
    "    # Add the credential file name here\n",
    "    parser.read('config.ini')\n",
    "\n",
    "    connection_params = dict(user=parser['Credentials']['user'], \n",
    "                         password=parser['Credentials']['password'], \n",
    "                         account=parser['Credentials']['account'], \n",
    "                         warehouse=parser['Credentials']['warehouse'], \n",
    "                         database=parser['Credentials']['database'],\n",
    "                         schema=parser['Credentials']['schema'], \n",
    "                         role=parser['Credentials']['role'])\n",
    "\n",
    "    session = Session.builder.configs(connection_params).create()\n",
    "    return session"
   ]
  },
  {
   "cell_type": "code",
   "execution_count": 2,
   "id": "ed752004",
   "metadata": {},
   "outputs": [],
   "source": [
    "session = get_session()"
   ]
  },
  {
   "cell_type": "code",
   "execution_count": 44,
   "id": "a3ffa00e",
   "metadata": {},
   "outputs": [
    {
     "name": "stderr",
     "output_type": "stream",
     "text": [
      "The version of package joblib in the local environment is 1.3.2, which does not fit the criteria for the requirement joblib. Your UDF might not work when the package version is different between the server and your local environment\n"
     ]
    }
   ],
   "source": [
    "session.clear_imports()\n",
    "session.clear_packages()\n",
    "from snowflake.snowpark.functions import udf,call_udf\n",
    "\n",
    "# Add trained model as dependency\n",
    "session.add_import(\"@models/Predictive_Maintenance_model_20230919_194031.joblib.gz\")\n",
    "import pandas\n",
    "@udf(name='predict', session=session,is_permanent=True,replace=True,stage_location=\"@SCORE\",packages=[\"snowflake-snowpark-python\",\"pandas\", \"joblib\",\"scikit-learn\"])\n",
    "def score(payload: list) -> str:\n",
    "    import sys\n",
    "    import pandas as pd\n",
    "    from joblib import load\n",
    "\n",
    "    IMPORT_DIRECTORY_NAME = \"snowflake_import_directory\"\n",
    "    import_dir = sys._xoptions[IMPORT_DIRECTORY_NAME]\n",
    "\n",
    "    pipeline_file = import_dir + 'Predictive_Maintenance_model_20230919_194031.joblib.gz'\n",
    "    pipeline = load(pipeline_file)\n",
    "\n",
    "    prediction = pipeline.predict(df)[0]\n",
    "    header = ['METRIC5','METRIC6','DAY','DAY_WEEK','SECTOR','OP_PERIOD','DEV_RECONNECTED','MNW1','DIF_M6','DIF_M5','LOG_M2','LOG_M3','LOG_M4','LOG_M7','LOG_M9']\n",
    "#     if(prediction == 1):\n",
    "#         final_response = \"likely to survive\"\n",
    "#     else:\n",
    "#         final_response = \"likely to demise\"\n",
    "    \n",
    "    return prediction"
   ]
  },
  {
   "cell_type": "code",
   "execution_count": 53,
   "id": "65fdb396",
   "metadata": {},
   "outputs": [],
   "source": [
    "# df = session.sql(\"SELECT * from {table}\".format(table=\"predictive_maintenance_final limit 3\")).to_pandas()[:10].drop(\"FAILURE\", axis=1)\n",
    "df = session.sql(\"SELECT * from {table}\".format(table=\"predictive_maintenance_final limit 3\"))"
   ]
  },
  {
   "cell_type": "code",
   "execution_count": 41,
   "id": "27b5c88e",
   "metadata": {},
   "outputs": [],
   "source": [
    "inp = list(df.iloc[0])"
   ]
  },
  {
   "cell_type": "code",
   "execution_count": 54,
   "id": "6314f9c9",
   "metadata": {},
   "outputs": [],
   "source": [
    "header = [col('METRIC5'),col('METRIC6'),col('DAY'),col('DAY_WEEK'),col('SECTOR'),col('OP_PERIOD'),col('DEV_RECONNECTED'),col('MNW1'),col('DIF_M6'),col('DIF_M5'),col('LOG_M2'),col('LOG_M3'),col('LOG_M4'),col('LOG_M7'),col('LOG_M9')]"
   ]
  },
  {
   "cell_type": "code",
   "execution_count": 50,
   "id": "df8cd55e",
   "metadata": {},
   "outputs": [],
   "source": [
    "header = ['METRIC5','METRIC6','DAY','DAY_WEEK','SECTOR','OP_PERIOD','DEV_RECONNECTED','MNW1','DIF_M6','DIF_M5','LOG_M2','LOG_M3','LOG_M4','LOG_M7','LOG_M9']\n",
    "from snowflake.snowpark.functions import udf,call_udf\n",
    "from snowflake.snowpark.functions import sproc,col,array_construct"
   ]
  },
  {
   "cell_type": "code",
   "execution_count": 52,
   "id": "7c759ba9",
   "metadata": {},
   "outputs": [
    {
     "ename": "SnowparkPlanException",
     "evalue": "(1206): Cannot create a Literal for <class 'numpy.int8'>",
     "output_type": "error",
     "traceback": [
      "\u001b[0;31m---------------------------------------------------------------------------\u001b[0m",
      "\u001b[0;31mSnowparkPlanException\u001b[0m                     Traceback (most recent call last)",
      "Cell \u001b[0;32mIn[52], line 1\u001b[0m\n\u001b[0;32m----> 1\u001b[0m \u001b[43mcall_udf\u001b[49m\u001b[43m(\u001b[49m\u001b[38;5;124;43m\"\u001b[39;49m\u001b[38;5;124;43mpredict\u001b[39;49m\u001b[38;5;124;43m\"\u001b[39;49m\u001b[43m,\u001b[49m\u001b[43m \u001b[49m\u001b[43minp\u001b[49m\u001b[43m)\u001b[49m\n",
      "File \u001b[0;32m/tmp/pip_packages/snowflake/snowpark/functions.py:6706\u001b[0m, in \u001b[0;36mcall_udf\u001b[0;34m(udf_name, *args)\u001b[0m\n\u001b[1;32m   6683\u001b[0m \u001b[38;5;250m\u001b[39m\u001b[38;5;124;03m\"\"\"Calls a user-defined function (UDF) by name.\u001b[39;00m\n\u001b[1;32m   6684\u001b[0m \n\u001b[1;32m   6685\u001b[0m \u001b[38;5;124;03mArgs:\u001b[39;00m\n\u001b[0;32m   (...)\u001b[0m\n\u001b[1;32m   6702\u001b[0m \u001b[38;5;124;03m    <BLANKLINE>\u001b[39;00m\n\u001b[1;32m   6703\u001b[0m \u001b[38;5;124;03m\"\"\"\u001b[39;00m\n\u001b[1;32m   6705\u001b[0m validate_object_name(udf_name)\n\u001b[0;32m-> 6706\u001b[0m \u001b[38;5;28;01mreturn\u001b[39;00m \u001b[43m_call_function\u001b[49m\u001b[43m(\u001b[49m\u001b[43mudf_name\u001b[49m\u001b[43m,\u001b[49m\u001b[43m \u001b[49m\u001b[38;5;28;43;01mFalse\u001b[39;49;00m\u001b[43m,\u001b[49m\u001b[43m \u001b[49m\u001b[38;5;241;43m*\u001b[39;49m\u001b[43margs\u001b[49m\u001b[43m,\u001b[49m\u001b[43m \u001b[49m\u001b[43mapi_call_source\u001b[49m\u001b[38;5;241;43m=\u001b[39;49m\u001b[38;5;124;43m\"\u001b[39;49m\u001b[38;5;124;43mfunctions.call_udf\u001b[39;49m\u001b[38;5;124;43m\"\u001b[39;49m\u001b[43m)\u001b[49m\n",
      "File \u001b[0;32m/tmp/pip_packages/snowflake/snowpark/functions.py:6810\u001b[0m, in \u001b[0;36m_call_function\u001b[0;34m(name, is_distinct, api_call_source, *args)\u001b[0m\n\u001b[1;32m   6804\u001b[0m \u001b[38;5;28;01mdef\u001b[39;00m \u001b[38;5;21m_call_function\u001b[39m(\n\u001b[1;32m   6805\u001b[0m     name: \u001b[38;5;28mstr\u001b[39m,\n\u001b[1;32m   6806\u001b[0m     is_distinct: \u001b[38;5;28mbool\u001b[39m \u001b[38;5;241m=\u001b[39m \u001b[38;5;28;01mFalse\u001b[39;00m,\n\u001b[1;32m   6807\u001b[0m     \u001b[38;5;241m*\u001b[39margs: ColumnOrLiteral,\n\u001b[1;32m   6808\u001b[0m     api_call_source: Optional[\u001b[38;5;28mstr\u001b[39m] \u001b[38;5;241m=\u001b[39m \u001b[38;5;28;01mNone\u001b[39;00m,\n\u001b[1;32m   6809\u001b[0m ) \u001b[38;5;241m-\u001b[39m\u001b[38;5;241m>\u001b[39m Column:\n\u001b[0;32m-> 6810\u001b[0m     expressions \u001b[38;5;241m=\u001b[39m [Column\u001b[38;5;241m.\u001b[39m_to_expr(arg) \u001b[38;5;28;01mfor\u001b[39;00m arg \u001b[38;5;129;01min\u001b[39;00m parse_positional_args_to_list(\u001b[38;5;241m*\u001b[39margs)]\n\u001b[1;32m   6811\u001b[0m     \u001b[38;5;28;01mreturn\u001b[39;00m Column(\n\u001b[1;32m   6812\u001b[0m         FunctionExpression(\n\u001b[1;32m   6813\u001b[0m             name, expressions, is_distinct\u001b[38;5;241m=\u001b[39mis_distinct, api_call_source\u001b[38;5;241m=\u001b[39mapi_call_source\n\u001b[1;32m   6814\u001b[0m         )\n\u001b[1;32m   6815\u001b[0m     )\n",
      "File \u001b[0;32m/tmp/pip_packages/snowflake/snowpark/functions.py:6810\u001b[0m, in \u001b[0;36m<listcomp>\u001b[0;34m(.0)\u001b[0m\n\u001b[1;32m   6804\u001b[0m \u001b[38;5;28;01mdef\u001b[39;00m \u001b[38;5;21m_call_function\u001b[39m(\n\u001b[1;32m   6805\u001b[0m     name: \u001b[38;5;28mstr\u001b[39m,\n\u001b[1;32m   6806\u001b[0m     is_distinct: \u001b[38;5;28mbool\u001b[39m \u001b[38;5;241m=\u001b[39m \u001b[38;5;28;01mFalse\u001b[39;00m,\n\u001b[1;32m   6807\u001b[0m     \u001b[38;5;241m*\u001b[39margs: ColumnOrLiteral,\n\u001b[1;32m   6808\u001b[0m     api_call_source: Optional[\u001b[38;5;28mstr\u001b[39m] \u001b[38;5;241m=\u001b[39m \u001b[38;5;28;01mNone\u001b[39;00m,\n\u001b[1;32m   6809\u001b[0m ) \u001b[38;5;241m-\u001b[39m\u001b[38;5;241m>\u001b[39m Column:\n\u001b[0;32m-> 6810\u001b[0m     expressions \u001b[38;5;241m=\u001b[39m [\u001b[43mColumn\u001b[49m\u001b[38;5;241;43m.\u001b[39;49m\u001b[43m_to_expr\u001b[49m\u001b[43m(\u001b[49m\u001b[43marg\u001b[49m\u001b[43m)\u001b[49m \u001b[38;5;28;01mfor\u001b[39;00m arg \u001b[38;5;129;01min\u001b[39;00m parse_positional_args_to_list(\u001b[38;5;241m*\u001b[39margs)]\n\u001b[1;32m   6811\u001b[0m     \u001b[38;5;28;01mreturn\u001b[39;00m Column(\n\u001b[1;32m   6812\u001b[0m         FunctionExpression(\n\u001b[1;32m   6813\u001b[0m             name, expressions, is_distinct\u001b[38;5;241m=\u001b[39mis_distinct, api_call_source\u001b[38;5;241m=\u001b[39mapi_call_source\n\u001b[1;32m   6814\u001b[0m         )\n\u001b[1;32m   6815\u001b[0m     )\n",
      "File \u001b[0;32m/tmp/pip_packages/snowflake/snowpark/column.py:743\u001b[0m, in \u001b[0;36mColumn._to_expr\u001b[0;34m(cls, expr)\u001b[0m\n\u001b[1;32m    741\u001b[0m     \u001b[38;5;28;01mreturn\u001b[39;00m expr\n\u001b[1;32m    742\u001b[0m \u001b[38;5;28;01melse\u001b[39;00m:\n\u001b[0;32m--> 743\u001b[0m     \u001b[38;5;28;01mreturn\u001b[39;00m \u001b[43mLiteral\u001b[49m\u001b[43m(\u001b[49m\u001b[43mexpr\u001b[49m\u001b[43m)\u001b[49m\n",
      "File \u001b[0;32m/tmp/pip_packages/snowflake/snowpark/_internal/analyzer/expression.py:209\u001b[0m, in \u001b[0;36mLiteral.__init__\u001b[0;34m(self, value, datatype)\u001b[0m\n\u001b[1;32m    207\u001b[0m \u001b[38;5;66;03m# check value\u001b[39;00m\n\u001b[1;32m    208\u001b[0m \u001b[38;5;28;01mif\u001b[39;00m \u001b[38;5;129;01mnot\u001b[39;00m \u001b[38;5;28misinstance\u001b[39m(value, VALID_PYTHON_TYPES_FOR_LITERAL_VALUE):\n\u001b[0;32m--> 209\u001b[0m     \u001b[38;5;28;01mraise\u001b[39;00m SnowparkClientExceptionMessages\u001b[38;5;241m.\u001b[39mPLAN_CANNOT_CREATE_LITERAL(\n\u001b[1;32m    210\u001b[0m         \u001b[38;5;28mtype\u001b[39m(value)\n\u001b[1;32m    211\u001b[0m     )\n\u001b[1;32m    212\u001b[0m \u001b[38;5;28mself\u001b[39m\u001b[38;5;241m.\u001b[39mvalue \u001b[38;5;241m=\u001b[39m value\n\u001b[1;32m    214\u001b[0m \u001b[38;5;66;03m# check datatype\u001b[39;00m\n",
      "\u001b[0;31mSnowparkPlanException\u001b[0m: (1206): Cannot create a Literal for <class 'numpy.int8'>"
     ]
    }
   ],
   "source": [
    "    resp = test_df.select(\"PCLASS\",\"SEX\",\"AGE\",\"SIBSP\",\"PARCH\",\"FARE\",call_udf(udf_name, array_construct()))).collect()"
   ]
  },
  {
   "cell_type": "code",
   "execution_count": null,
   "id": "6d4307e0",
   "metadata": {},
   "outputs": [],
   "source": []
  }
 ],
 "metadata": {
  "kernelspec": {
   "display_name": "Python 3",
   "language": "python",
   "name": "python3"
  },
  "language_info": {
   "codemirror_mode": {
    "name": "ipython",
    "version": 3
   },
   "file_extension": ".py",
   "mimetype": "text/x-python",
   "name": "python",
   "nbconvert_exporter": "python",
   "pygments_lexer": "ipython3",
   "version": "3.8.16"
  }
 },
 "nbformat": 4,
 "nbformat_minor": 5
}
