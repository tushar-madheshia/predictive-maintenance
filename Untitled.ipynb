{
 "cells": [
  {
   "cell_type": "code",
   "execution_count": 2,
   "id": "7a302ff2",
   "metadata": {},
   "outputs": [],
   "source": [
    "from snowflake.snowpark import Session\n",
    "import configparser\n",
    "def get_session():\n",
    "    parser = configparser.ConfigParser()\n",
    "    # Add the credential file name here\n",
    "    parser.read('config.ini')\n",
    "\n",
    "    connection_params = dict(user=parser['Credentials']['user'], \n",
    "                         password=parser['Credentials']['password'], \n",
    "                         account=parser['Credentials']['account'], \n",
    "                         warehouse=parser['Credentials']['warehouse'], \n",
    "                         database=parser['Credentials']['database'],\n",
    "                         schema=parser['Credentials']['schema'], \n",
    "                         role=parser['Credentials']['role'])\n",
    "\n",
    "    session = Session.builder.configs(connection_params).create()\n",
    "    return session"
   ]
  },
  {
   "cell_type": "code",
   "execution_count": 3,
   "id": "2fc8b672",
   "metadata": {},
   "outputs": [],
   "source": [
    "session = get_session()"
   ]
  },
  {
   "cell_type": "code",
   "execution_count": 5,
   "id": "8e0937d1",
   "metadata": {},
   "outputs": [
    {
     "name": "stderr",
     "output_type": "stream",
     "text": [
      "/opt/conda/lib/python3.8/site-packages/sklearn/preprocessing/_encoders.py:972: FutureWarning: `sparse` was renamed to `sparse_output` in version 1.2 and will be removed in 1.4. `sparse_output` is ignored unless you leave `sparse` to its default value.\n",
      "  warnings.warn(\n"
     ]
    },
    {
     "name": "stdout",
     "output_type": "stream",
     "text": [
      "{'0': {'precision': 0.9991432120978452, 'recall': 1.0, 'f1-score': 0.9995714224488921, 'support': 23323.0}, '1': {'precision': 0.0, 'recall': 0.0, 'f1-score': 0.0, 'support': 20.0}, 'accuracy': 0.9991432120978452, 'macro avg': {'precision': 0.4995716060489226, 'recall': 0.5, 'f1-score': 0.49978571122444604, 'support': 23343.0}, 'weighted avg': {'precision': 0.9982871582811996, 'recall': 0.9991432120978452, 'f1-score': 0.9987150017467982, 'support': 23343.0}}\n"
     ]
    },
    {
     "name": "stderr",
     "output_type": "stream",
     "text": [
      "/opt/conda/lib/python3.8/site-packages/sklearn/metrics/_classification.py:1469: UndefinedMetricWarning: Precision and F-score are ill-defined and being set to 0.0 in labels with no predicted samples. Use `zero_division` parameter to control this behavior.\n",
      "  _warn_prf(average, modifier, msg_start, len(result))\n",
      "/opt/conda/lib/python3.8/site-packages/sklearn/metrics/_classification.py:1469: UndefinedMetricWarning: Precision and F-score are ill-defined and being set to 0.0 in labels with no predicted samples. Use `zero_division` parameter to control this behavior.\n",
      "  _warn_prf(average, modifier, msg_start, len(result))\n",
      "/opt/conda/lib/python3.8/site-packages/sklearn/metrics/_classification.py:1469: UndefinedMetricWarning: Precision and F-score are ill-defined and being set to 0.0 in labels with no predicted samples. Use `zero_division` parameter to control this behavior.\n",
      "  _warn_prf(average, modifier, msg_start, len(result))\n"
     ]
    }
   ],
   "source": [
    "    #add all imports\n",
    "    from sklearn.model_selection import train_test_split\n",
    "    from sklearn.preprocessing import OneHotEncoder\n",
    "    from sklearn.metrics import recall_score, f1_score, roc_auc_score, confusion_matrix,classification_report\n",
    "    from sklearn.linear_model import SGDClassifier\n",
    "    from sklearn.pipeline import Pipeline\n",
    "    \n",
    "    df_final = session.sql(\"SELECT * from {table}\".format(table=\"predictive_maintenance_final\")).to_pandas()\n",
    "    \n",
    "    # prepare data for training\n",
    "    X = df_final.drop(['FAILURE'], axis = 1)\n",
    "    y = df_final['FAILURE']\n",
    "    X_train, X_test, Y_train, Y_test = train_test_split(X,y,random_state = 0, test_size=0.25, shuffle = True)\n",
    "    X_train.reset_index(inplace = True, drop = True)\n",
    "    Y_train.reset_index(inplace = True, drop = True)\n",
    "\n",
    "    X_test.reset_index(inplace = True, drop = True)\n",
    "    Y_test.reset_index(inplace = True, drop = True)\n",
    "    \n",
    "    x_train, x_val, y_train, y_val = train_test_split(X_train, Y_train, random_state = 0, test_size=0.25)\n",
    "    \n",
    "    pipeline = Pipeline([\n",
    "        ('OHE', OneHotEncoder(handle_unknown = 'ignore',sparse=False)),\n",
    "#         ('SCALER', StandardScaler()),\n",
    "        ('SGD', SGDClassifier(random_state=0))\n",
    "     ])\n",
    "    \n",
    "    pipeline.fit(x_train,y_train)\n",
    "    y_pred = pipeline.predict(x_val) \n",
    "    cf_matrix = confusion_matrix(y_val, y_pred)\n",
    "    cls_report = classification_report(y_val, y_pred, output_dict=True)\n",
    "    print(cls_report)"
   ]
  },
  {
   "cell_type": "code",
   "execution_count": 11,
   "id": "910bd911",
   "metadata": {},
   "outputs": [],
   "source": [
    "x_val[\"LABEL\"] = y_val"
   ]
  },
  {
   "cell_type": "code",
   "execution_count": 12,
   "id": "93d1221a",
   "metadata": {},
   "outputs": [],
   "source": [
    "x_val[\"PREDICTION\"] = y_pred"
   ]
  },
  {
   "cell_type": "code",
   "execution_count": 16,
   "id": "c464a047",
   "metadata": {},
   "outputs": [],
   "source": [
    "ref = x_val[:5000]"
   ]
  },
  {
   "cell_type": "code",
   "execution_count": 20,
   "id": "aa6d6f00",
   "metadata": {},
   "outputs": [],
   "source": [
    "curr = x_val[5001:10001]"
   ]
  },
  {
   "cell_type": "code",
   "execution_count": 21,
   "id": "a85aa791",
   "metadata": {},
   "outputs": [
    {
     "data": {
      "text/plain": [
       "(5000, 17)"
      ]
     },
     "execution_count": 21,
     "metadata": {},
     "output_type": "execute_result"
    }
   ],
   "source": [
    "curr.shape"
   ]
  },
  {
   "cell_type": "code",
   "execution_count": 22,
   "id": "677981ac",
   "metadata": {},
   "outputs": [],
   "source": [
    "import pandas as pd\n",
    "# data_final = pd.read_csv('/data/predictive_maintenance_dataset/pred_mnt_prepared.csv')\n",
    "\n",
    "md = session.createDataFrame(ref.to_numpy().tolist(),\n",
    "                                   schema=ref.columns.tolist())\n",
    "md.write.mode(\"append\").save_as_table(\"drift_ref_predictive_maintenance\")"
   ]
  },
  {
   "cell_type": "code",
   "execution_count": 23,
   "id": "d2fd387b",
   "metadata": {},
   "outputs": [],
   "source": [
    "import pandas as pd\n",
    "# data_final = pd.read_csv('/data/predictive_maintenance_dataset/pred_mnt_prepared.csv')\n",
    "\n",
    "md = session.createDataFrame(curr.to_numpy().tolist(),\n",
    "                                   schema=curr.columns.tolist())\n",
    "md.write.mode(\"append\").save_as_table(\"drift_cur_predictive_maintenance\")"
   ]
  },
  {
   "cell_type": "code",
   "execution_count": null,
   "id": "36ce4407",
   "metadata": {},
   "outputs": [],
   "source": []
  }
 ],
 "metadata": {
  "kernelspec": {
   "display_name": "Python 3",
   "language": "python",
   "name": "python3"
  },
  "language_info": {
   "codemirror_mode": {
    "name": "ipython",
    "version": 3
   },
   "file_extension": ".py",
   "mimetype": "text/x-python",
   "name": "python",
   "nbconvert_exporter": "python",
   "pygments_lexer": "ipython3",
   "version": "3.8.16"
  }
 },
 "nbformat": 4,
 "nbformat_minor": 5
}
