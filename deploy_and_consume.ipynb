{
 "cells": [
  {
   "cell_type": "code",
   "execution_count": 1,
   "id": "95601cf7",
   "metadata": {},
   "outputs": [],
   "source": [
    "from snowflake.snowpark import Session\n",
    "import configparser\n",
    "def get_session():\n",
    "    parser = configparser.ConfigParser()\n",
    "    # Add the credential file name here\n",
    "    parser.read('config.ini')\n",
    "\n",
    "    connection_params = dict(user=parser['Credentials']['user'], \n",
    "                         password=parser['Credentials']['password'], \n",
    "                         account=parser['Credentials']['account'], \n",
    "                         warehouse=parser['Credentials']['warehouse'], \n",
    "                         database=parser['Credentials']['database'],\n",
    "                         schema=parser['Credentials']['schema'], \n",
    "                         role=parser['Credentials']['role'])\n",
    "\n",
    "    session = Session.builder.configs(connection_params).create()\n",
    "    return session"
   ]
  },
  {
   "cell_type": "code",
   "execution_count": 2,
   "id": "d9188f82",
   "metadata": {},
   "outputs": [],
   "source": [
    "session = get_session()"
   ]
  },
  {
   "cell_type": "markdown",
   "id": "c05fb7b3",
   "metadata": {},
   "source": [
    "### Deploy the model from stage location as a UDF"
   ]
  },
  {
   "cell_type": "code",
   "execution_count": 44,
   "id": "9ef8d0c9",
   "metadata": {},
   "outputs": [
    {
     "name": "stderr",
     "output_type": "stream",
     "text": [
      "The version of package joblib in the local environment is 1.3.2, which does not fit the criteria for the requirement joblib. Your UDF might not work when the package version is different between the server and your local environment\n"
     ]
    }
   ],
   "source": [
    "session.clear_imports()\n",
    "session.clear_packages()\n",
    "from snowflake.snowpark.functions import udf,call_udf\n",
    "\n",
    "# Add trained model as dependency\n",
    "session.add_import(\"@models/Predictive_Maintenance_model_20230919_194031.joblib.gz\")\n",
    "import pandas\n",
    "@udf(name='predict', session=session,is_permanent=True,replace=True,stage_location=\"@SCORE\",packages=[\"snowflake-snowpark-python\",\"pandas\", \"joblib\",\"scikit-learn\"])\n",
    "def score(payload: list) -> str:\n",
    "    import sys\n",
    "    import pandas as pd\n",
    "    from joblib import load\n",
    "\n",
    "    IMPORT_DIRECTORY_NAME = \"snowflake_import_directory\"\n",
    "    import_dir = sys._xoptions[IMPORT_DIRECTORY_NAME]\n",
    "\n",
    "    pipeline_file = import_dir + 'Predictive_Maintenance_model_20230919_194031.joblib.gz'\n",
    "    pipeline = load(pipeline_file)\n",
    "\n",
    "    prediction = pipeline.predict(df)[0]\n",
    "    \n",
    "    return prediction"
   ]
  },
  {
   "cell_type": "markdown",
   "id": "e94a693f",
   "metadata": {},
   "source": [
    "#### Sample Input "
   ]
  },
  {
   "cell_type": "code",
   "execution_count": 62,
   "id": "8a1d13d1",
   "metadata": {},
   "outputs": [],
   "source": [
    "inp =[6,407438,1,3,'S1F0',1,0,26953834,0,0,2.079441541679836,0.0,3.9702919135521215,0.0,2.079441541679836]"
   ]
  },
  {
   "cell_type": "markdown",
   "id": "7ebcc6e1",
   "metadata": {},
   "source": [
    "Consuming the model as a "
   ]
  },
  {
   "cell_type": "code",
   "execution_count": 59,
   "id": "7bb690bf",
   "metadata": {},
   "outputs": [],
   "source": [
    "output = session.sql(\"select PREDICT(\"+str(inp)+\")\").collect()"
   ]
  },
  {
   "cell_type": "code",
   "execution_count": 60,
   "id": "a6649c77",
   "metadata": {},
   "outputs": [
    {
     "data": {
      "text/plain": [
       "[Row(PREDICT([6, 407438, 1, 3, 'S1F0', 1, 0, 26953834, 0, 0, 2.079441541679836, 0.0, 3.9702919135521215, 0.0, 2.079441541679836])='0')]"
      ]
     },
     "execution_count": 60,
     "metadata": {},
     "output_type": "execute_result"
    }
   ],
   "source": [
    "output"
   ]
  },
  {
   "cell_type": "code",
   "execution_count": null,
   "id": "a2c21aeb",
   "metadata": {},
   "outputs": [],
   "source": []
  }
 ],
 "metadata": {
  "kernelspec": {
   "display_name": "Python 3",
   "language": "python",
   "name": "python3"
  },
  "language_info": {
   "codemirror_mode": {
    "name": "ipython",
    "version": 3
   },
   "file_extension": ".py",
   "mimetype": "text/x-python",
   "name": "python",
   "nbconvert_exporter": "python",
   "pygments_lexer": "ipython3",
   "version": "3.8.16"
  }
 },
 "nbformat": 4,
 "nbformat_minor": 5
}
