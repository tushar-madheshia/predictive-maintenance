{
 "cells": [
  {
   "cell_type": "code",
   "execution_count": 15,
   "id": "5f1ffb06",
   "metadata": {},
   "outputs": [
    {
     "name": "stdout",
     "output_type": "stream",
     "text": [
      "Collecting snowflake-snowpark-python==1.6.1\n",
      "\u001b[?25l  Downloading https://files.pythonhosted.org/packages/67/ef/e48835e08ab2bae59e9da1c32a37f4a76ddac2d8d6b55a008418162b9a99/snowflake_snowpark_python-1.6.1-py3-none-any.whl (318kB)\n",
      "\u001b[K     |████████████████████████████████| 327kB 7.1MB/s eta 0:00:01\n",
      "\u001b[?25hCollecting setuptools>=40.6.0\n",
      "\u001b[?25l  Downloading https://files.pythonhosted.org/packages/bb/26/7945080113158354380a12ce26873dd6c1ebd88d47f5bc24e2c5bb38c16a/setuptools-68.2.2-py3-none-any.whl (807kB)\n",
      "\u001b[K     |████████████████████████████████| 808kB 93kB/s s eta 0:00:01\n",
      "\u001b[?25hCollecting wheel\n",
      "\u001b[?25l  Downloading https://files.pythonhosted.org/packages/b8/8b/31273bf66016be6ad22bb7345c37ff350276cfd46e389a0c2ac5da9d9073/wheel-0.41.2-py3-none-any.whl (64kB)\n",
      "\u001b[K     |████████████████████████████████| 71kB 47kB/s s eta 0:00:01\n",
      "\u001b[?25hCollecting cloudpickle<=2.0.0,>=1.6.0\n",
      "  Downloading https://files.pythonhosted.org/packages/07/3c/bf72ebd3e78eb1ef773f4f0650ecdc29c6454aeafe9c08f6da3f227dd2bc/cloudpickle-2.0.0-py3-none-any.whl\n",
      "Collecting pyyaml\n",
      "\u001b[?25l  Downloading https://files.pythonhosted.org/packages/c8/6b/6600ac24725c7388255b2f5add93f91e58a5d7efaf4af244fdbcc11a541b/PyYAML-6.0.1-cp38-cp38-manylinux_2_17_x86_64.manylinux2014_x86_64.whl (736kB)\n",
      "\u001b[K     |████████████████████████████████| 737kB 37.5MB/s eta 0:00:01\n",
      "\u001b[?25hCollecting snowflake-connector-python<4.0.0,>=3.0.4\n",
      "\u001b[?25l  Downloading https://files.pythonhosted.org/packages/a6/0b/56310babca5020a2c875b294653b2e637be81d7f05b418c9823cd2459644/snowflake_connector_python-3.2.0-cp38-cp38-manylinux_2_17_x86_64.manylinux2014_x86_64.whl (24.6MB)\n",
      "\u001b[K     |████████████████████████████████| 24.6MB 61.8MB/s eta 0:00:01\n",
      "\u001b[?25hCollecting platformdirs<3.9.0,>=2.6.0\n",
      "  Downloading https://files.pythonhosted.org/packages/9e/d8/563a9fc17153c588c8c2042d2f0f84a89057cdb1c30270f589c88b42d62c/platformdirs-3.8.1-py3-none-any.whl\n",
      "Collecting sortedcontainers>=2.4.0\n",
      "  Downloading https://files.pythonhosted.org/packages/32/46/9cb0e58b2deb7f82b84065f37f3bffeb12413f947f9388e4cac22c4621ce/sortedcontainers-2.4.0-py2.py3-none-any.whl\n",
      "Collecting pytz\n",
      "\u001b[?25l  Downloading https://files.pythonhosted.org/packages/32/4d/aaf7eff5deb402fd9a24a1449a8119f00d74ae9c2efa79f8ef9994261fc2/pytz-2023.3.post1-py2.py3-none-any.whl (502kB)\n",
      "\u001b[K     |████████████████████████████████| 512kB 87.9MB/s eta 0:00:01\n",
      "\u001b[?25hCollecting cryptography<42.0.0,>=3.1.0\n",
      "\u001b[?25l  Downloading https://files.pythonhosted.org/packages/25/1d/f86ce362aedc580c3f90c0d74fa097289e3af9ba52b8d5a37369c186b0f1/cryptography-41.0.4-cp37-abi3-manylinux_2_17_x86_64.manylinux2014_x86_64.whl (4.4MB)\n",
      "\u001b[K     |████████████████████████████████| 4.4MB 79.9MB/s eta 0:00:01\n",
      "\u001b[?25hCollecting urllib3<1.27,>=1.21.1\n",
      "\u001b[?25l  Downloading https://files.pythonhosted.org/packages/c5/05/c214b32d21c0b465506f95c4f28ccbcba15022e000b043b72b3df7728471/urllib3-1.26.16-py2.py3-none-any.whl (143kB)\n",
      "\u001b[K     |████████████████████████████████| 143kB 112.1MB/s eta 0:00:01\n",
      "\u001b[?25hCollecting typing-extensions<5,>=4.3\n",
      "  Downloading https://files.pythonhosted.org/packages/24/21/7d397a4b7934ff4028987914ac1044d3b7d52712f30e2ac7a2ae5bc86dd0/typing_extensions-4.8.0-py3-none-any.whl\n",
      "Collecting requests<3.0.0\n",
      "\u001b[?25l  Downloading https://files.pythonhosted.org/packages/70/8e/0e2d847013cb52cd35b38c009bb167a1a26b2ce6cd6965bf26b47bc0bf44/requests-2.31.0-py3-none-any.whl (62kB)\n",
      "\u001b[K     |████████████████████████████████| 71kB 3.6MB/s  eta 0:00:01\n",
      "\u001b[?25hCollecting charset-normalizer<4,>=2\n",
      "\u001b[?25l  Downloading https://files.pythonhosted.org/packages/cb/e7/5e43745003bf1f90668c7be23fc5952b3a2b9c2558f16749411c18039b36/charset_normalizer-3.2.0-cp38-cp38-manylinux_2_17_x86_64.manylinux2014_x86_64.whl (199kB)\n",
      "\u001b[K     |████████████████████████████████| 204kB 114.4MB/s eta 0:00:01\n",
      "\u001b[?25hCollecting oscrypto<2.0.0\n",
      "\u001b[?25l  Downloading https://files.pythonhosted.org/packages/01/7c/fa07d3da2b6253eb8474be16eab2eadf670460e364ccc895ca7ff388ee30/oscrypto-1.3.0-py2.py3-none-any.whl (194kB)\n",
      "\u001b[K     |████████████████████████████████| 194kB 105.9MB/s eta 0:00:01\n",
      "\u001b[?25hCollecting cffi<2.0.0,>=1.9\n",
      "\u001b[?25l  Downloading https://files.pythonhosted.org/packages/b7/8b/06f30caa03b5b3ac006de4f93478dbd0239e2a16566d81a106c322dc4f79/cffi-1.15.1-cp38-cp38-manylinux_2_17_x86_64.manylinux2014_x86_64.whl (442kB)\n",
      "\u001b[K     |████████████████████████████████| 450kB 107.8MB/s eta 0:00:01\n",
      "\u001b[?25hCollecting asn1crypto<2.0.0,>0.24.0\n",
      "\u001b[?25l  Downloading https://files.pythonhosted.org/packages/c9/7f/09065fd9e27da0eda08b4d6897f1c13535066174cc023af248fc2a8d5e5a/asn1crypto-1.5.1-py2.py3-none-any.whl (105kB)\n",
      "\u001b[K     |████████████████████████████████| 112kB 118.9MB/s eta 0:00:01\n",
      "\u001b[?25hCollecting tomlkit\n",
      "  Downloading https://files.pythonhosted.org/packages/a0/6d/808775ed618e51edaa7bbe6759e22e1c7eafe359af6e084700c6d39d3455/tomlkit-0.12.1-py3-none-any.whl\n",
      "Collecting pycryptodomex!=3.5.0,<4.0.0,>=3.2\n",
      "\u001b[?25l  Downloading https://files.pythonhosted.org/packages/23/23/3f3d042c96ff7bece5b126365593b1f9c8e3ae62ce80d44e9da39c5e8a73/pycryptodomex-3.19.0-cp35-abi3-manylinux_2_17_x86_64.manylinux2014_x86_64.whl (2.1MB)\n",
      "\u001b[K     |████████████████████████████████| 2.1MB 88.9MB/s eta 0:00:01\n",
      "\u001b[?25hCollecting pyOpenSSL<24.0.0,>=16.2.0\n",
      "\u001b[?25l  Downloading https://files.pythonhosted.org/packages/f0/e2/f8b4f1c67933a4907e52228241f4bd52169f3196b70af04403b29c63238a/pyOpenSSL-23.2.0-py3-none-any.whl (59kB)\n",
      "\u001b[K     |████████████████████████████████| 61kB 1.6MB/s  eta 0:00:01\n",
      "\u001b[?25hCollecting pyjwt<3.0.0\n",
      "  Downloading https://files.pythonhosted.org/packages/2b/4f/e04a8067c7c96c364cef7ef73906504e2f40d690811c021e1a1901473a19/PyJWT-2.8.0-py3-none-any.whl\n",
      "Collecting idna<4,>=2.5\n",
      "\u001b[?25l  Downloading https://files.pythonhosted.org/packages/fc/34/3030de6f1370931b9dbb4dad48f6ab1015ab1d32447850b9fc94e60097be/idna-3.4-py3-none-any.whl (61kB)\n",
      "\u001b[K     |████████████████████████████████| 71kB 2.6MB/s  eta 0:00:01\n",
      "\u001b[?25hCollecting packaging\n",
      "\u001b[?25l  Downloading https://files.pythonhosted.org/packages/ab/c3/57f0601a2d4fe15de7a553c00adbc901425661bf048f2a22dfc500caf121/packaging-23.1-py3-none-any.whl (48kB)\n",
      "\u001b[K     |████████████████████████████████| 51kB 2.1MB/s  eta 0:00:01\n",
      "\u001b[?25hCollecting filelock<4,>=3.5\n",
      "  Downloading https://files.pythonhosted.org/packages/5e/5d/97afbafd9d584ff1b45fcb354a479a3609bd97f912f8f1f6c563cb1fae21/filelock-3.12.4-py3-none-any.whl\n",
      "Collecting certifi>=2017.4.17\n",
      "\u001b[?25l  Downloading https://files.pythonhosted.org/packages/4c/dd/2234eab22353ffc7d94e8d13177aaa050113286e93e7b40eae01fbf7c3d9/certifi-2023.7.22-py3-none-any.whl (158kB)\n",
      "\u001b[K     |████████████████████████████████| 163kB 123.6MB/s eta 0:00:01\n",
      "\u001b[?25hCollecting pycparser\n",
      "\u001b[?25l  Downloading https://files.pythonhosted.org/packages/62/d5/5f610ebe421e85889f2e55e33b7f9a6795bd982198517d912eb1c76e1a53/pycparser-2.21-py2.py3-none-any.whl (118kB)\n",
      "\u001b[K     |████████████████████████████████| 122kB 121.1MB/s eta 0:00:01\n",
      "\u001b[31mERROR: jupyterlab 3.2.4 has requirement jupyter-server~=1.4, but you'll have jupyter-server 2.0.0a1 which is incompatible.\u001b[0m\n",
      "\u001b[31mERROR: jupyterlab-server 2.23.0 has requirement jsonschema>=4.17.3, but you'll have jsonschema 3.2.0 which is incompatible.\u001b[0m\n",
      "\u001b[?25hInstalling collected packages: setuptools, wheel, cloudpickle, pyyaml, platformdirs, sortedcontainers, pytz, pycparser, cffi, cryptography, urllib3, typing-extensions, charset-normalizer, certifi, idna, requests, asn1crypto, oscrypto, tomlkit, pycryptodomex, pyOpenSSL, pyjwt, packaging, filelock, snowflake-connector-python, snowflake-snowpark-python\n",
      "Successfully installed asn1crypto-1.5.1 certifi-2023.7.22 cffi-1.15.1 charset-normalizer-3.2.0 cloudpickle-2.0.0 cryptography-41.0.4 filelock-3.12.4 idna-3.4 oscrypto-1.3.0 packaging-23.1 platformdirs-3.8.1 pyOpenSSL-23.2.0 pycparser-2.21 pycryptodomex-3.19.0 pyjwt-2.8.0 pytz-2023.3.post1 pyyaml-6.0.1 requests-2.31.0 setuptools-68.2.2 snowflake-connector-python-3.2.0 snowflake-snowpark-python-1.6.1 sortedcontainers-2.4.0 tomlkit-0.12.1 typing-extensions-4.8.0 urllib3-1.26.16 wheel-0.41.2\n"
     ]
    }
   ],
   "source": [
    "! sudo pip install snowflake-ml-python==1.0.5 -U\n",
    "! pip install snowflake-snowpark-python==1.6.1 -U"
   ]
  },
  {
   "cell_type": "code",
   "execution_count": 2,
   "id": "8056f652",
   "metadata": {},
   "outputs": [
    {
     "name": "stdout",
     "output_type": "stream",
     "text": [
      "Collecting xgboost==1.7.3\n",
      "\u001b[?25l  Downloading https://files.pythonhosted.org/packages/62/c9/479450f314a76925dfeac1bf23c53f06bd0f1a2a7185621a5ad1979dd139/xgboost-1.7.3-py3-none-manylinux2014_x86_64.whl (193.6MB)\n",
      "\u001b[K     |████████████████████████████████| 193.6MB 17kB/s /s eta 0:00:01\n",
      "\u001b[?25hCollecting numpy\n",
      "\u001b[?25l  Downloading https://files.pythonhosted.org/packages/98/5d/5738903efe0ecb73e51eb44feafba32bdba2081263d40c5043568ff60faf/numpy-1.24.4-cp38-cp38-manylinux_2_17_x86_64.manylinux2014_x86_64.whl (17.3MB)\n",
      "\u001b[K     |████████████████████████████████| 17.3MB 82.1MB/s eta 0:00:01\n",
      "\u001b[?25hCollecting scipy\n",
      "\u001b[?25l  Downloading https://files.pythonhosted.org/packages/69/f0/fb07a9548e48b687b8bf2fa81d71aba9cfc548d365046ca1c791e24db99d/scipy-1.10.1-cp38-cp38-manylinux_2_17_x86_64.manylinux2014_x86_64.whl (34.5MB)\n",
      "\u001b[K     |████████████████████████████████| 34.5MB 102.1MB/s eta 0:00:01\n",
      "\u001b[?25hInstalling collected packages: numpy, scipy, xgboost\n",
      "Successfully installed numpy-1.24.4 scipy-1.10.1 xgboost-1.7.3\n"
     ]
    }
   ],
   "source": [
    "! pip install --upgrade xgboost==1.7.3"
   ]
  },
  {
   "cell_type": "code",
   "execution_count": 4,
   "id": "a49d8a69",
   "metadata": {},
   "outputs": [
    {
     "name": "stdout",
     "output_type": "stream",
     "text": [
      "Package                    Version     \r\n",
      "-------------------------- ------------\r\n",
      "absl-py                    1.4.0       \r\n",
      "aiohttp                    3.8.5       \r\n",
      "aiosignal                  1.3.1       \r\n",
      "alembic                    1.11.1      \r\n",
      "anyio                      3.7.0       \r\n",
      "argon2-cffi                21.3.0      \r\n",
      "argon2-cffi-bindings       21.2.0      \r\n",
      "asn1crypto                 1.5.1       \r\n",
      "asttokens                  2.2.1       \r\n",
      "async-generator            1.10        \r\n",
      "async-timeout              4.0.3       \r\n",
      "attrs                      23.1.0      \r\n",
      "Babel                      2.12.1      \r\n",
      "backcall                   0.2.0       \r\n",
      "beautifulsoup4             4.12.2      \r\n",
      "bleach                     4.1.0       \r\n",
      "boltons                    23.0.0      \r\n",
      "bqplot                     0.12.39     \r\n",
      "brotlipy                   0.7.0       \r\n",
      "certifi                    2023.7.22   \r\n",
      "certipy                    0.1.3       \r\n",
      "cffi                       1.15.1      \r\n",
      "charset-normalizer         3.2.0       \r\n",
      "cloudpickle                2.0.0       \r\n",
      "conda                      23.5.0      \r\n",
      "conda-package-handling     2.1.0       \r\n",
      "conda-package-streaming    0.8.0       \r\n",
      "cryptography               41.0.4      \r\n",
      "decorator                  5.1.1       \r\n",
      "defusedxml                 0.7.1       \r\n",
      "entrypoints                0.4         \r\n",
      "exceptiongroup             1.1.1       \r\n",
      "executing                  1.2.0       \r\n",
      "fastjsonschema             2.17.1      \r\n",
      "filelock                   3.12.4      \r\n",
      "frozenlist                 1.4.0       \r\n",
      "fsspec                     2023.1.0    \r\n",
      "greenlet                   2.0.2       \r\n",
      "idna                       3.4         \r\n",
      "importlib-metadata         6.7.0       \r\n",
      "importlib-resources        5.12.0      \r\n",
      "ipykernel                  5.5.5       \r\n",
      "ipython                    8.12.2      \r\n",
      "ipython-genutils           0.2.0       \r\n",
      "ipywidgets                 8.0.6       \r\n",
      "jedi                       0.18.2      \r\n",
      "Jinja2                     3.1.2       \r\n",
      "joblib                     1.3.2       \r\n",
      "json5                      0.9.14      \r\n",
      "jsonpatch                  1.32        \r\n",
      "jsonpointer                2.1         \r\n",
      "jsonschema                 3.2.0       \r\n",
      "jupyter-client             8.2.0       \r\n",
      "jupyter-core               5.3.1       \r\n",
      "jupyter-server             2.0.0a1     \r\n",
      "jupyter-server-terminals   0.4.4       \r\n",
      "jupyter-telemetry          0.1.0       \r\n",
      "jupyterhub                 1.5.0       \r\n",
      "jupyterlab                 3.2.4       \r\n",
      "jupyterlab-pygments        0.2.2       \r\n",
      "jupyterlab-server          2.23.0      \r\n",
      "jupyterlab-widgets         3.0.7       \r\n",
      "Mako                       1.2.4       \r\n",
      "MarkupSafe                 2.1.3       \r\n",
      "matplotlib-inline          0.1.6       \r\n",
      "mistune                    3.0.1       \r\n",
      "multidict                  6.0.4       \r\n",
      "nbclassic                  0.5.6       \r\n",
      "nbclient                   0.5.4       \r\n",
      "nbconvert                  7.6.0       \r\n",
      "nbformat                   5.9.0       \r\n",
      "nest-asyncio               1.5.6       \r\n",
      "notebook                   6.4.10      \r\n",
      "notebook-shim              0.2.3       \r\n",
      "numpy                      1.24.4      \r\n",
      "oauthlib                   3.2.2       \r\n",
      "oscrypto                   1.3.0       \r\n",
      "packaging                  23.1        \r\n",
      "pamela                     1.1.0       \r\n",
      "pandas                     1.5.3       \r\n",
      "pandocfilters              1.5.0       \r\n",
      "parso                      0.8.3       \r\n",
      "pexpect                    4.8.0       \r\n",
      "pickleshare                0.7.5       \r\n",
      "pip                        19.3.1      \r\n",
      "platformdirs               3.8.1       \r\n",
      "pluggy                     1.0.0       \r\n",
      "prometheus-client          0.17.0      \r\n",
      "prompt-toolkit             3.0.38      \r\n",
      "ptyprocess                 0.7.0       \r\n",
      "pure-eval                  0.2.2       \r\n",
      "pyarrow                    10.0.1      \r\n",
      "pycosat                    0.6.4       \r\n",
      "pycparser                  2.21        \r\n",
      "pycryptodomex              3.19.0      \r\n",
      "Pygments                   2.15.1      \r\n",
      "PyJWT                      2.8.0       \r\n",
      "pyOpenSSL                  23.2.0      \r\n",
      "pyrsistent                 0.19.3      \r\n",
      "PySocks                    1.7.1       \r\n",
      "python-dateutil            2.8.2       \r\n",
      "python-json-logger         2.0.7       \r\n",
      "pytz                       2023.3.post1\r\n",
      "PyYAML                     6.0.1       \r\n",
      "pyzmq                      25.1.0      \r\n",
      "requests                   2.31.0      \r\n",
      "ruamel-yaml-conda          0.15.100    \r\n",
      "ruamel.yaml                0.16.9      \r\n",
      "ruamel.yaml.clib           0.2.6       \r\n",
      "scikit-learn               1.2.2       \r\n",
      "scipy                      1.10.1      \r\n",
      "Send2Trash                 1.8.2       \r\n",
      "setuptools                 68.2.2      \r\n",
      "six                        1.16.0      \r\n",
      "sniffio                    1.3.0       \r\n",
      "snowflake-connector-python 3.2.0       \r\n",
      "snowflake-ml-python        1.0.5       \r\n",
      "snowflake-snowpark-python  1.6.1       \r\n",
      "sortedcontainers           2.4.0       \r\n",
      "soupsieve                  2.4.1       \r\n",
      "SQLAlchemy                 2.0.16      \r\n",
      "sqlparse                   0.4.4       \r\n",
      "stack-data                 0.6.2       \r\n",
      "terminado                  0.17.1      \r\n",
      "threadpoolctl              3.2.0       \r\n",
      "tinycss2                   1.2.1       \r\n",
      "tomlkit                    0.12.1      \r\n",
      "toolz                      0.12.0      \r\n",
      "tornado                    6.3.2       \r\n",
      "tqdm                       4.65.0      \r\n",
      "traitlets                  5.9.0       \r\n",
      "traittypes                 0.2.1       \r\n",
      "typing-extensions          4.8.0       \r\n",
      "tzdata                     2023.3      \r\n",
      "urllib3                    1.26.16     \r\n",
      "wcwidth                    0.2.6       \r\n",
      "webencodings               0.5.1       \r\n",
      "websocket-client           1.6.0       \r\n",
      "wheel                      0.41.2      \r\n",
      "widgetsnbextension         4.0.7       \r\n",
      "xgboost                    1.7.3       \r\n",
      "yarl                       1.9.2       \r\n",
      "zipp                       3.15.0      \r\n",
      "zstandard                  0.19.0      \r\n"
     ]
    }
   ],
   "source": [
    "! pip list"
   ]
  },
  {
   "cell_type": "code",
   "execution_count": 1,
   "id": "69108f14",
   "metadata": {},
   "outputs": [],
   "source": [
    "from snowflake.ml.modeling.pipeline import Pipeline\n",
    "from snowflake.ml.modeling.xgboost import XGBClassifier\n",
    "from snowflake.ml.modeling.linear_model import SGDClassifier\n",
    "from snowflake.ml.modeling.preprocessing import MinMaxScaler, OrdinalEncoder, OneHotEncoder\n",
    "from sklearn.metrics import mean_absolute_percentage_error"
   ]
  },
  {
   "cell_type": "code",
   "execution_count": 2,
   "id": "77a2bea6",
   "metadata": {},
   "outputs": [],
   "source": [
    "from snowflake.snowpark import Session\n",
    "import configparser\n",
    "def get_session():\n",
    "    parser = configparser.ConfigParser()\n",
    "    # Add the credential file name here\n",
    "    parser.read('/notebooks/notebooks/config.ini')\n",
    "\n",
    "    connection_params = dict(user=parser['Credentials']['user'], \n",
    "                         password=parser['Credentials']['password'], \n",
    "                         account=parser['Credentials']['account'], \n",
    "                         warehouse=parser['Credentials']['warehouse'], \n",
    "                         database=parser['Credentials']['database'],\n",
    "                         schema=parser['Credentials']['schema'], \n",
    "                         role=parser['Credentials']['role'])\n",
    "\n",
    "    session = Session.builder.configs(connection_params).create()\n",
    "    return session\n",
    "\n"
   ]
  },
  {
   "cell_type": "code",
   "execution_count": 3,
   "id": "78e3def1",
   "metadata": {},
   "outputs": [],
   "source": [
    "session = get_session()"
   ]
  },
  {
   "cell_type": "markdown",
   "id": "0710059b",
   "metadata": {},
   "source": [
    "# Model Building\n",
    "### Load the final data from snowflake table"
   ]
  },
  {
   "cell_type": "code",
   "execution_count": 4,
   "id": "292103e6",
   "metadata": {},
   "outputs": [],
   "source": [
    "table_name = 'predictive_maintenance_final'"
   ]
  },
  {
   "cell_type": "code",
   "execution_count": 5,
   "id": "e89dd19d",
   "metadata": {},
   "outputs": [],
   "source": [
    "sf_df = session.table(table_name).drop('ROW')"
   ]
  },
  {
   "cell_type": "code",
   "execution_count": 6,
   "id": "026a3abf",
   "metadata": {},
   "outputs": [
    {
     "name": "stdout",
     "output_type": "stream",
     "text": [
      "-------------------------------------------------------------------------------------------------------------------------------------------------------------------------------------------------------------------------------------\n",
      "|\"FAILURE\"  |\"METRIC5\"  |\"METRIC6\"  |\"DAY\"  |\"DAY_WEEK\"  |\"SECTOR\"  |\"OP_PERIOD\"  |\"DEV_RECONNECTED\"  |\"MNW1\"    |\"DIF_M6\"  |\"DIF_M5\"  |\"LOG_M2\"           |\"LOG_M3\"            |\"LOG_M4\"            |\"LOG_M7\"  |\"LOG_M9\"           |\n",
      "-------------------------------------------------------------------------------------------------------------------------------------------------------------------------------------------------------------------------------------\n",
      "|0          |6          |407438     |1      |3           |S1F0      |1            |0                  |26953834  |0         |0         |2.079441541679836  |0.0                 |3.9702919135521215  |0.0       |2.079441541679836  |\n",
      "|0          |6          |403174     |1      |3           |S1F0      |1            |0                  |7671335   |0         |0         |0.0                |1.3862943611198906  |0.0                 |0.0       |0.0                |\n",
      "|0          |12         |237394     |1      |3           |S1F0      |1            |0                  |21661996  |0         |0         |0.0                |0.0                 |0.0                 |0.0       |0.0                |\n",
      "-------------------------------------------------------------------------------------------------------------------------------------------------------------------------------------------------------------------------------------\n",
      "\n"
     ]
    }
   ],
   "source": [
    "sf_df.show(3)"
   ]
  },
  {
   "cell_type": "code",
   "execution_count": 8,
   "id": "366cf3ab",
   "metadata": {},
   "outputs": [],
   "source": [
    "a = sf_df.to_pandas()"
   ]
  },
  {
   "cell_type": "code",
   "execution_count": 11,
   "id": "424fe2af",
   "metadata": {},
   "outputs": [
    {
     "data": {
      "text/plain": [
       "['FAILURE',\n",
       " 'METRIC5',\n",
       " 'METRIC6',\n",
       " 'DAY',\n",
       " 'DAY_WEEK',\n",
       " 'SECTOR',\n",
       " 'OP_PERIOD',\n",
       " 'DEV_RECONNECTED',\n",
       " 'MNW1',\n",
       " 'DIF_M6',\n",
       " 'DIF_M5',\n",
       " 'LOG_M2',\n",
       " 'LOG_M3',\n",
       " 'LOG_M4',\n",
       " 'LOG_M7',\n",
       " 'LOG_M9']"
      ]
     },
     "execution_count": 11,
     "metadata": {},
     "output_type": "execute_result"
    }
   ],
   "source": [
    "list(a.columns)"
   ]
  },
  {
   "cell_type": "code",
   "execution_count": 10,
   "id": "f120d746",
   "metadata": {},
   "outputs": [
    {
     "data": {
      "text/html": [
       "<div>\n",
       "<style scoped>\n",
       "    .dataframe tbody tr th:only-of-type {\n",
       "        vertical-align: middle;\n",
       "    }\n",
       "\n",
       "    .dataframe tbody tr th {\n",
       "        vertical-align: top;\n",
       "    }\n",
       "\n",
       "    .dataframe thead th {\n",
       "        text-align: right;\n",
       "    }\n",
       "</style>\n",
       "<table border=\"1\" class=\"dataframe\">\n",
       "  <thead>\n",
       "    <tr style=\"text-align: right;\">\n",
       "      <th></th>\n",
       "      <th>FAILURE</th>\n",
       "      <th>METRIC5</th>\n",
       "      <th>METRIC6</th>\n",
       "      <th>DAY</th>\n",
       "      <th>DAY_WEEK</th>\n",
       "      <th>SECTOR</th>\n",
       "      <th>OP_PERIOD</th>\n",
       "      <th>DEV_RECONNECTED</th>\n",
       "      <th>MNW1</th>\n",
       "      <th>DIF_M6</th>\n",
       "      <th>DIF_M5</th>\n",
       "      <th>LOG_M2</th>\n",
       "      <th>LOG_M3</th>\n",
       "      <th>LOG_M4</th>\n",
       "      <th>LOG_M7</th>\n",
       "      <th>LOG_M9</th>\n",
       "    </tr>\n",
       "  </thead>\n",
       "  <tbody>\n",
       "    <tr>\n",
       "      <th>0</th>\n",
       "      <td>0</td>\n",
       "      <td>6</td>\n",
       "      <td>407438</td>\n",
       "      <td>1</td>\n",
       "      <td>3</td>\n",
       "      <td>S1F0</td>\n",
       "      <td>1</td>\n",
       "      <td>0</td>\n",
       "      <td>26953834</td>\n",
       "      <td>0</td>\n",
       "      <td>0</td>\n",
       "      <td>2.079442</td>\n",
       "      <td>0.000000</td>\n",
       "      <td>3.970292</td>\n",
       "      <td>0.0</td>\n",
       "      <td>2.079442</td>\n",
       "    </tr>\n",
       "    <tr>\n",
       "      <th>1</th>\n",
       "      <td>0</td>\n",
       "      <td>6</td>\n",
       "      <td>403174</td>\n",
       "      <td>1</td>\n",
       "      <td>3</td>\n",
       "      <td>S1F0</td>\n",
       "      <td>1</td>\n",
       "      <td>0</td>\n",
       "      <td>7671335</td>\n",
       "      <td>0</td>\n",
       "      <td>0</td>\n",
       "      <td>0.000000</td>\n",
       "      <td>1.386294</td>\n",
       "      <td>0.000000</td>\n",
       "      <td>0.0</td>\n",
       "      <td>0.000000</td>\n",
       "    </tr>\n",
       "    <tr>\n",
       "      <th>2</th>\n",
       "      <td>0</td>\n",
       "      <td>12</td>\n",
       "      <td>237394</td>\n",
       "      <td>1</td>\n",
       "      <td>3</td>\n",
       "      <td>S1F0</td>\n",
       "      <td>1</td>\n",
       "      <td>0</td>\n",
       "      <td>21661996</td>\n",
       "      <td>0</td>\n",
       "      <td>0</td>\n",
       "      <td>0.000000</td>\n",
       "      <td>0.000000</td>\n",
       "      <td>0.000000</td>\n",
       "      <td>0.0</td>\n",
       "      <td>0.000000</td>\n",
       "    </tr>\n",
       "    <tr>\n",
       "      <th>3</th>\n",
       "      <td>0</td>\n",
       "      <td>6</td>\n",
       "      <td>410186</td>\n",
       "      <td>1</td>\n",
       "      <td>3</td>\n",
       "      <td>S1F0</td>\n",
       "      <td>1</td>\n",
       "      <td>0</td>\n",
       "      <td>9961753</td>\n",
       "      <td>0</td>\n",
       "      <td>0</td>\n",
       "      <td>0.000000</td>\n",
       "      <td>0.000000</td>\n",
       "      <td>0.000000</td>\n",
       "      <td>0.0</td>\n",
       "      <td>0.000000</td>\n",
       "    </tr>\n",
       "    <tr>\n",
       "      <th>4</th>\n",
       "      <td>0</td>\n",
       "      <td>15</td>\n",
       "      <td>313173</td>\n",
       "      <td>1</td>\n",
       "      <td>3</td>\n",
       "      <td>S1F0</td>\n",
       "      <td>1</td>\n",
       "      <td>0</td>\n",
       "      <td>16996310</td>\n",
       "      <td>0</td>\n",
       "      <td>0</td>\n",
       "      <td>0.000000</td>\n",
       "      <td>0.000000</td>\n",
       "      <td>0.000000</td>\n",
       "      <td>0.0</td>\n",
       "      <td>1.386294</td>\n",
       "    </tr>\n",
       "  </tbody>\n",
       "</table>\n",
       "</div>"
      ],
      "text/plain": [
       "   FAILURE  METRIC5  METRIC6  DAY  DAY_WEEK SECTOR  OP_PERIOD  \\\n",
       "0        0        6   407438    1         3   S1F0          1   \n",
       "1        0        6   403174    1         3   S1F0          1   \n",
       "2        0       12   237394    1         3   S1F0          1   \n",
       "3        0        6   410186    1         3   S1F0          1   \n",
       "4        0       15   313173    1         3   S1F0          1   \n",
       "\n",
       "   DEV_RECONNECTED      MNW1  DIF_M6  DIF_M5    LOG_M2    LOG_M3    LOG_M4  \\\n",
       "0                0  26953834       0       0  2.079442  0.000000  3.970292   \n",
       "1                0   7671335       0       0  0.000000  1.386294  0.000000   \n",
       "2                0  21661996       0       0  0.000000  0.000000  0.000000   \n",
       "3                0   9961753       0       0  0.000000  0.000000  0.000000   \n",
       "4                0  16996310       0       0  0.000000  0.000000  0.000000   \n",
       "\n",
       "   LOG_M7    LOG_M9  \n",
       "0     0.0  2.079442  \n",
       "1     0.0  0.000000  \n",
       "2     0.0  0.000000  \n",
       "3     0.0  0.000000  \n",
       "4     0.0  1.386294  "
      ]
     },
     "execution_count": 10,
     "metadata": {},
     "output_type": "execute_result"
    }
   ],
   "source": [
    "a.head()"
   ]
  },
  {
   "cell_type": "code",
   "execution_count": 7,
   "id": "9804df34",
   "metadata": {},
   "outputs": [],
   "source": [
    "CATEGORICAL_COLUMNS = [\"SECTOR\"]\n",
    "CATEGORICAL_COLUMNS_OE = [\"SECTOR_OE\"]\n",
    "NUMERICAL_COLUMNS = ['METRIC5','METRIC6','DAY','DAY_WEEK','OP_PERIOD','MNW1','DIF_M6','DIF_M5','LOG_M2',\n",
    " 'LOG_M3','LOG_M4','LOG_M7','LOG_M9']\n",
    "LABEL_COLUMNS = [\"FAILURE\"]\n",
    "OUTPUT_COLUMNS = [\"PREDICTION\"]"
   ]
  },
  {
   "cell_type": "code",
   "execution_count": 8,
   "id": "5b387852",
   "metadata": {},
   "outputs": [],
   "source": [
    "train_df, test_df = sf_df.random_split([0.8,0.2])"
   ]
  },
  {
   "cell_type": "code",
   "execution_count": 9,
   "id": "24af2f25",
   "metadata": {},
   "outputs": [
    {
     "name": "stdout",
     "output_type": "stream",
     "text": [
      "-------------------------------------------------------------------------------------------------------------------------------------------------------------------------------------------------------------------------------------\n",
      "|\"FAILURE\"  |\"METRIC5\"  |\"METRIC6\"  |\"DAY\"  |\"DAY_WEEK\"  |\"SECTOR\"  |\"OP_PERIOD\"  |\"DEV_RECONNECTED\"  |\"MNW1\"    |\"DIF_M6\"  |\"DIF_M5\"  |\"LOG_M2\"           |\"LOG_M3\"            |\"LOG_M4\"            |\"LOG_M7\"  |\"LOG_M9\"           |\n",
      "-------------------------------------------------------------------------------------------------------------------------------------------------------------------------------------------------------------------------------------\n",
      "|0          |6          |407438     |1      |3           |S1F0      |1            |0                  |26953834  |0         |0         |2.079441541679836  |0.0                 |3.9702919135521215  |0.0       |2.079441541679836  |\n",
      "|0          |6          |403174     |1      |3           |S1F0      |1            |0                  |7671335   |0         |0         |0.0                |1.3862943611198906  |0.0                 |0.0       |0.0                |\n",
      "|0          |6          |410186     |1      |3           |S1F0      |1            |0                  |9961753   |0         |0         |0.0                |0.0                 |0.0                 |0.0       |0.0                |\n",
      "-------------------------------------------------------------------------------------------------------------------------------------------------------------------------------------------------------------------------------------\n",
      "\n"
     ]
    }
   ],
   "source": [
    "train_df.show(3)"
   ]
  },
  {
   "cell_type": "markdown",
   "id": "43a89f16",
   "metadata": {},
   "source": [
    "Create a pipeline with preprocessing steps and model definition"
   ]
  },
  {
   "cell_type": "code",
   "execution_count": 12,
   "id": "b0578699",
   "metadata": {},
   "outputs": [],
   "source": [
    "pipeline = Pipeline(\n",
    "    steps=[\n",
    "            (\n",
    "                \"OHE\",\n",
    "                OrdinalEncoder(\n",
    "                input_cols=CATEGORICAL_COLUMNS,\n",
    "                output_cols=CATEGORICAL_COLUMNS_OE\n",
    "                )\n",
    "            ),\n",
    "            (\n",
    "                \"MMS\",\n",
    "                MinMaxScaler(\n",
    "                clip=True,\n",
    "                input_cols=NUMERICAL_COLUMNS,\n",
    "                output_cols=NUMERICAL_COLUMNS,\n",
    "                )\n",
    "            ),\n",
    "            (\n",
    "                \"classification\",\n",
    "                SGDClassifier(\n",
    "                input_cols=NUMERICAL_COLUMNS + CATEGORICAL_COLUMNS_OE + ['DEV_RECONNECTED'],\n",
    "                label_cols=LABEL_COLUMNS,\n",
    "                output_cols=OUTPUT_COLUMNS\n",
    "                )\n",
    "            )\n",
    "    ]\n",
    ")"
   ]
  },
  {
   "cell_type": "code",
   "execution_count": 13,
   "id": "e603dec8",
   "metadata": {},
   "outputs": [
    {
     "name": "stderr",
     "output_type": "stream",
     "text": [
      "The version of package 'numpy' in the local environment is 1.24.4, which does not fit the criteria for the requirement 'numpy==1.24.3'. Your UDF might not work when the package version is different between the server and your local environment.\n"
     ]
    },
    {
     "data": {
      "text/plain": [
       "<snowflake.ml.modeling.pipeline.pipeline.Pipeline at 0x7f97a1e7ac70>"
      ]
     },
     "execution_count": 13,
     "metadata": {},
     "output_type": "execute_result"
    }
   ],
   "source": [
    "pipeline.fit(train_df)"
   ]
  },
  {
   "cell_type": "code",
   "execution_count": null,
   "id": "190b2fef",
   "metadata": {},
   "outputs": [],
   "source": [
    "result = pipeline.predict(test_df)"
   ]
  },
  {
   "cell_type": "code",
   "execution_count": 8,
   "id": "d4556b32",
   "metadata": {},
   "outputs": [],
   "source": [
    "sf_df1 = session.table(\"BANK_CUSTOMER_CHURN_PREDICTION\").drop('ROW')"
   ]
  },
  {
   "cell_type": "code",
   "execution_count": 9,
   "id": "f33abf65",
   "metadata": {},
   "outputs": [],
   "source": [
    "CATEGORICAL_COLUMNS = [\"COUNTRY\", \"GENDER\"]\n",
    "CATEGORICAL_COLUMNS_OE = [\"COUNTRY_OE\", \"GENDER_OE\"]\n",
    "NUMERICAL_COLUMNS = [\"CREDIT_SCORE\", \"AGE\", \"TENURE\", \"BALANCE\", \"PRODUCTS_NUMBER\", \"ESTIMATED_SALARY\"]\n",
    "LABEL_COLUMNS = [\"CHURN\"]\n",
    "OUTPUT_COLUMNS = [\"PREDICTION\"]"
   ]
  },
  {
   "cell_type": "code",
   "execution_count": 10,
   "id": "243bc429",
   "metadata": {},
   "outputs": [],
   "source": [
    "pipeline1 = Pipeline(\n",
    "    steps=[\n",
    "            (\n",
    "                \"OE\",\n",
    "                OrdinalEncoder(\n",
    "                input_cols=CATEGORICAL_COLUMNS,\n",
    "                output_cols=CATEGORICAL_COLUMNS_OE\n",
    "                )\n",
    "            ),\n",
    "            (\n",
    "                \"MMS\",\n",
    "                MinMaxScaler(\n",
    "                clip=True,\n",
    "                input_cols=NUMERICAL_COLUMNS,\n",
    "                output_cols=NUMERICAL_COLUMNS,\n",
    "                )\n",
    "            ),\n",
    "            (\n",
    "                \"classification\",\n",
    "                XGBClassifier(\n",
    "                input_cols=CATEGORICAL_COLUMNS_OE+NUMERICAL_COLUMNS + [\"CREDIT_CARD\"],\n",
    "                label_cols=LABEL_COLUMNS,\n",
    "                output_cols=OUTPUT_COLUMNS\n",
    "                )\n",
    "            )\n",
    "    ]\n",
    ")"
   ]
  },
  {
   "cell_type": "code",
   "execution_count": 11,
   "id": "64b5a519",
   "metadata": {},
   "outputs": [],
   "source": [
    "train_df1, test_df1 = sf_df1.random_split([0.8,0.2])"
   ]
  },
  {
   "cell_type": "code",
   "execution_count": 12,
   "id": "3e960307",
   "metadata": {},
   "outputs": [
    {
     "name": "stderr",
     "output_type": "stream",
     "text": [
      "The version of package 'numpy' in the local environment is 1.24.4, which does not fit the criteria for the requirement 'numpy==1.24.3'. Your UDF might not work when the package version is different between the server and your local environment.\n"
     ]
    },
    {
     "data": {
      "text/plain": [
       "<snowflake.ml.modeling.pipeline.pipeline.Pipeline at 0x7f1e217d6910>"
      ]
     },
     "execution_count": 12,
     "metadata": {},
     "output_type": "execute_result"
    }
   ],
   "source": [
    "pipeline1.fit(train_df1)"
   ]
  },
  {
   "cell_type": "code",
   "execution_count": null,
   "id": "d17754ae",
   "metadata": {},
   "outputs": [],
   "source": []
  }
 ],
 "metadata": {
  "kernelspec": {
   "display_name": "Python 3",
   "language": "python",
   "name": "python3"
  },
  "language_info": {
   "codemirror_mode": {
    "name": "ipython",
    "version": 3
   },
   "file_extension": ".py",
   "mimetype": "text/x-python",
   "name": "python",
   "nbconvert_exporter": "python",
   "pygments_lexer": "ipython3",
   "version": "3.8.16"
  }
 },
 "nbformat": 4,
 "nbformat_minor": 5
}
