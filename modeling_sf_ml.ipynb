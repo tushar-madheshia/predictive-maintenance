{
 "cells": [
  {
   "cell_type": "code",
   "execution_count": 1,
   "id": "5f1ffb06",
   "metadata": {},
   "outputs": [
    {
     "name": "stdout",
     "output_type": "stream",
     "text": [
      "Collecting snowflake-ml-python\n",
      "\u001b[?25l  Downloading https://files.pythonhosted.org/packages/05/1f/738b02586c868aed616def737786b5849fe7b7475cfc6e3ee2f1c6badacc/snowflake_ml_python-1.0.8-py3-none-any.whl (1.7MB)\n",
      "\u001b[K     |████████████████████████████████| 1.7MB 7.2MB/s eta 0:00:01\n",
      "\u001b[?25hCollecting snowflake-connector-python[pandas]<4,>=3.0.4\n",
      "\u001b[?25l  Downloading https://files.pythonhosted.org/packages/a6/0b/56310babca5020a2c875b294653b2e637be81d7f05b418c9823cd2459644/snowflake_connector_python-3.2.0-cp38-cp38-manylinux_2_17_x86_64.manylinux2014_x86_64.whl (24.6MB)\n",
      "\u001b[K     |████████████████████████████████| 24.6MB 55.7MB/s eta 0:00:01\n",
      "\u001b[?25hCollecting typing-extensions<5,>=4.1.0\n",
      "  Downloading https://files.pythonhosted.org/packages/24/21/7d397a4b7934ff4028987914ac1044d3b7d52712f30e2ac7a2ae5bc86dd0/typing_extensions-4.8.0-py3-none-any.whl\n",
      "Collecting absl-py<2,>=0.15\n",
      "\u001b[?25l  Downloading https://files.pythonhosted.org/packages/dd/87/de5c32fa1b1c6c3305d576e299801d8655c175ca9557019906247b994331/absl_py-1.4.0-py3-none-any.whl (126kB)\n",
      "\u001b[K     |████████████████████████████████| 133kB 111.2MB/s eta 0:00:01\n",
      "\u001b[?25hCollecting anyio<4,>=3.5.0\n",
      "\u001b[?25l  Downloading https://files.pythonhosted.org/packages/19/24/44299477fe7dcc9cb58d0a57d5a7588d6af2ff403fdd2d47a246c91a3246/anyio-3.7.1-py3-none-any.whl (80kB)\n",
      "\u001b[K     |████████████████████████████████| 81kB 1.2MB/s  eta 0:00:01\n",
      "\u001b[?25hCollecting pandas<2,>=1.0.0\n",
      "\u001b[?25l  Downloading https://files.pythonhosted.org/packages/54/a0/c62d63c5c69be9aae07836e4d7e25e7a6f5590be3d8f2d53f43eeec5c475/pandas-1.5.3-cp38-cp38-manylinux_2_17_x86_64.manylinux2014_x86_64.whl (12.2MB)\n",
      "\u001b[K     |████████████████████████████████| 12.2MB 73.5MB/s eta 0:00:01\n",
      "\u001b[?25hCollecting pyyaml<7,>=6.0\n",
      "\u001b[?25l  Downloading https://files.pythonhosted.org/packages/c8/6b/6600ac24725c7388255b2f5add93f91e58a5d7efaf4af244fdbcc11a541b/PyYAML-6.0.1-cp38-cp38-manylinux_2_17_x86_64.manylinux2014_x86_64.whl (736kB)\n",
      "\u001b[K     |████████████████████████████████| 737kB 96.6MB/s eta 0:00:01\n",
      "\u001b[?25hCollecting scipy<2,>=1.9\n",
      "\u001b[?25l  Downloading https://files.pythonhosted.org/packages/69/f0/fb07a9548e48b687b8bf2fa81d71aba9cfc548d365046ca1c791e24db99d/scipy-1.10.1-cp38-cp38-manylinux_2_17_x86_64.manylinux2014_x86_64.whl (34.5MB)\n",
      "\u001b[K     |████████████████████████████████| 34.5MB 101.1MB/s eta 0:00:01\n",
      "\u001b[?25hCollecting cloudpickle\n",
      "  Downloading https://files.pythonhosted.org/packages/15/80/44286939ca215e88fa827b2aeb6fa3fd2b4a7af322485c7170d6f9fd96e0/cloudpickle-2.2.1-py3-none-any.whl\n",
      "Collecting snowflake-snowpark-python<2,>=1.5.1\n",
      "\u001b[?25l  Downloading https://files.pythonhosted.org/packages/08/40/566c32e83a9aa3cab05a92608ca5198fe027b52aceed7cbd0edf6a164a6e/snowflake_snowpark_python-1.8.0-py3-none-any.whl (326kB)\n",
      "\u001b[K     |████████████████████████████████| 327kB 112.7MB/s eta 0:00:01\n",
      "\u001b[?25hCollecting sqlparse<1,>=0.4\n",
      "\u001b[?25l  Downloading https://files.pythonhosted.org/packages/98/5a/66d7c9305baa9f11857f247d4ba761402cea75db6058ff850ed7128957b7/sqlparse-0.4.4-py3-none-any.whl (41kB)\n",
      "\u001b[K     |████████████████████████████████| 51kB 2.8MB/s  eta 0:00:01\n",
      "\u001b[?25hCollecting xgboost<2,>=1.7.3\n",
      "\u001b[?25l  Downloading https://files.pythonhosted.org/packages/8c/3a/c9c5d4d5c49b132ef15ac7b5ccf56ef1c82efe36cd19414771762e97c00e/xgboost-1.7.6-py3-none-manylinux2014_x86_64.whl (200.3MB)\n",
      "\u001b[K     |████████████████████████████████| 200.3MB 25kB/s /s eta 0:00:01\n",
      "\u001b[?25hCollecting scikit-learn<1.4,>=1.2.1\n",
      "\u001b[?25l  Downloading https://files.pythonhosted.org/packages/bf/15/d1b649fc7685d11b806b4546a5438191fb2ad761de70da95ff676189dcec/scikit_learn-1.3.0-cp38-cp38-manylinux_2_17_x86_64.manylinux2014_x86_64.whl (11.1MB)\n",
      "\u001b[K     |████████████████████████████████| 11.1MB 72.6MB/s eta 0:00:01\n",
      "\u001b[?25hCollecting numpy<2,>=1.23\n",
      "\u001b[?25l  Downloading https://files.pythonhosted.org/packages/98/5d/5738903efe0ecb73e51eb44feafba32bdba2081263d40c5043568ff60faf/numpy-1.24.4-cp38-cp38-manylinux_2_17_x86_64.manylinux2014_x86_64.whl (17.3MB)\n",
      "\u001b[K     |████████████████████████████████| 17.3MB 85.9MB/s eta 0:00:01\n",
      "\u001b[?25hCollecting s3fs<2024,>=2022.11\n",
      "  Downloading https://files.pythonhosted.org/packages/51/dc/ef0a84b2d7d03e042bdced0a5bab9cfee1e11a0080f010e43b37222784ce/s3fs-2023.9.1-py3-none-any.whl\n",
      "Collecting fsspec[http]<2024,>=2022.11\n",
      "\u001b[?25l  Downloading https://files.pythonhosted.org/packages/6a/af/c673e8c663e17bd4fb201a6f029153ad5d7023aa4442d81c7987743db379/fsspec-2023.9.1-py3-none-any.whl (173kB)\n",
      "\u001b[K     |████████████████████████████████| 174kB 99.5MB/s eta 0:00:01\n",
      "\u001b[?25hCollecting packaging<24,>=20.9\n",
      "\u001b[?25l  Downloading https://files.pythonhosted.org/packages/ab/c3/57f0601a2d4fe15de7a553c00adbc901425661bf048f2a22dfc500caf121/packaging-23.1-py3-none-any.whl (48kB)\n",
      "\u001b[K     |████████████████████████████████| 51kB 4.5MB/s  eta 0:00:01\n",
      "\u001b[?25hCollecting oscrypto<2.0.0\n",
      "\u001b[?25l  Downloading https://files.pythonhosted.org/packages/01/7c/fa07d3da2b6253eb8474be16eab2eadf670460e364ccc895ca7ff388ee30/oscrypto-1.3.0-py2.py3-none-any.whl (194kB)\n",
      "\u001b[K     |████████████████████████████████| 194kB 92.9MB/s eta 0:00:01\n",
      "\u001b[?25hCollecting pyjwt<3.0.0\n",
      "  Downloading https://files.pythonhosted.org/packages/2b/4f/e04a8067c7c96c364cef7ef73906504e2f40d690811c021e1a1901473a19/PyJWT-2.8.0-py3-none-any.whl\n",
      "Collecting certifi>=2017.4.17\n",
      "\u001b[?25l  Downloading https://files.pythonhosted.org/packages/4c/dd/2234eab22353ffc7d94e8d13177aaa050113286e93e7b40eae01fbf7c3d9/certifi-2023.7.22-py3-none-any.whl (158kB)\n",
      "\u001b[K     |████████████████████████████████| 163kB 99.2MB/s eta 0:00:01\n",
      "\u001b[?25hCollecting platformdirs<3.9.0,>=2.6.0\n",
      "  Downloading https://files.pythonhosted.org/packages/9e/d8/563a9fc17153c588c8c2042d2f0f84a89057cdb1c30270f589c88b42d62c/platformdirs-3.8.1-py3-none-any.whl\n",
      "Collecting pyOpenSSL<24.0.0,>=16.2.0\n",
      "\u001b[?25l  Downloading https://files.pythonhosted.org/packages/f0/e2/f8b4f1c67933a4907e52228241f4bd52169f3196b70af04403b29c63238a/pyOpenSSL-23.2.0-py3-none-any.whl (59kB)\n",
      "\u001b[K     |████████████████████████████████| 61kB 3.3MB/s  eta 0:00:01\n",
      "\u001b[?25hCollecting pycryptodomex!=3.5.0,<4.0.0,>=3.2\n",
      "\u001b[?25l  Downloading https://files.pythonhosted.org/packages/23/23/3f3d042c96ff7bece5b126365593b1f9c8e3ae62ce80d44e9da39c5e8a73/pycryptodomex-3.19.0-cp35-abi3-manylinux_2_17_x86_64.manylinux2014_x86_64.whl (2.1MB)\n",
      "\u001b[K     |████████████████████████████████| 2.1MB 77.2MB/s eta 0:00:01\n",
      "\u001b[?25hCollecting urllib3<1.27,>=1.21.1\n",
      "\u001b[?25l  Downloading https://files.pythonhosted.org/packages/c5/05/c214b32d21c0b465506f95c4f28ccbcba15022e000b043b72b3df7728471/urllib3-1.26.16-py2.py3-none-any.whl (143kB)\n",
      "\u001b[K     |████████████████████████████████| 143kB 102.6MB/s eta 0:00:01\n",
      "\u001b[?25hCollecting asn1crypto<2.0.0,>0.24.0\n",
      "\u001b[?25l  Downloading https://files.pythonhosted.org/packages/c9/7f/09065fd9e27da0eda08b4d6897f1c13535066174cc023af248fc2a8d5e5a/asn1crypto-1.5.1-py2.py3-none-any.whl (105kB)\n",
      "\u001b[K     |████████████████████████████████| 112kB 50kB/s /s eta 0:00:01\n",
      "\u001b[?25hCollecting sortedcontainers>=2.4.0\n",
      "  Downloading https://files.pythonhosted.org/packages/32/46/9cb0e58b2deb7f82b84065f37f3bffeb12413f947f9388e4cac22c4621ce/sortedcontainers-2.4.0-py2.py3-none-any.whl\n",
      "Collecting tomlkit\n",
      "  Downloading https://files.pythonhosted.org/packages/a0/6d/808775ed618e51edaa7bbe6759e22e1c7eafe359af6e084700c6d39d3455/tomlkit-0.12.1-py3-none-any.whl\n",
      "Collecting cryptography<42.0.0,>=3.1.0\n",
      "\u001b[?25l  Downloading https://files.pythonhosted.org/packages/25/1d/f86ce362aedc580c3f90c0d74fa097289e3af9ba52b8d5a37369c186b0f1/cryptography-41.0.4-cp37-abi3-manylinux_2_17_x86_64.manylinux2014_x86_64.whl (4.4MB)\n",
      "\u001b[K     |████████████████████████████████| 4.4MB 84.3MB/s eta 0:00:01\n",
      "\u001b[?25hCollecting idna<4,>=2.5\n",
      "\u001b[?25l  Downloading https://files.pythonhosted.org/packages/fc/34/3030de6f1370931b9dbb4dad48f6ab1015ab1d32447850b9fc94e60097be/idna-3.4-py3-none-any.whl (61kB)\n",
      "\u001b[K     |████████████████████████████████| 71kB 1.6MB/s  eta 0:00:01\n",
      "\u001b[?25hCollecting cffi<2.0.0,>=1.9\n",
      "\u001b[?25l  Downloading https://files.pythonhosted.org/packages/b7/8b/06f30caa03b5b3ac006de4f93478dbd0239e2a16566d81a106c322dc4f79/cffi-1.15.1-cp38-cp38-manylinux_2_17_x86_64.manylinux2014_x86_64.whl (442kB)\n",
      "\u001b[K     |████████████████████████████████| 450kB 96.5MB/s eta 0:00:01\n",
      "\u001b[?25hCollecting filelock<4,>=3.5\n",
      "  Downloading https://files.pythonhosted.org/packages/5e/5d/97afbafd9d584ff1b45fcb354a479a3609bd97f912f8f1f6c563cb1fae21/filelock-3.12.4-py3-none-any.whl\n"
     ]
    },
    {
     "name": "stdout",
     "output_type": "stream",
     "text": [
      "Collecting requests<3.0.0\n",
      "\u001b[?25l  Downloading https://files.pythonhosted.org/packages/70/8e/0e2d847013cb52cd35b38c009bb167a1a26b2ce6cd6965bf26b47bc0bf44/requests-2.31.0-py3-none-any.whl (62kB)\n",
      "\u001b[K     |████████████████████████████████| 71kB 815kB/s  eta 0:00:01\n",
      "\u001b[?25hCollecting pytz\n",
      "\u001b[?25l  Downloading https://files.pythonhosted.org/packages/32/4d/aaf7eff5deb402fd9a24a1449a8119f00d74ae9c2efa79f8ef9994261fc2/pytz-2023.3.post1-py2.py3-none-any.whl (502kB)\n",
      "\u001b[K     |████████████████████████████████| 512kB 93.1MB/s eta 0:00:01\n",
      "\u001b[?25hCollecting charset-normalizer<4,>=2\n",
      "\u001b[?25l  Downloading https://files.pythonhosted.org/packages/cb/e7/5e43745003bf1f90668c7be23fc5952b3a2b9c2558f16749411c18039b36/charset_normalizer-3.2.0-cp38-cp38-manylinux_2_17_x86_64.manylinux2014_x86_64.whl (199kB)\n",
      "\u001b[K     |████████████████████████████████| 204kB 104.3MB/s eta 0:00:01\n",
      "\u001b[?25hCollecting pyarrow<10.1.0,>=10.0.1; extra == \"pandas\"\n",
      "\u001b[?25l  Downloading https://files.pythonhosted.org/packages/89/b4/04ae9d39130d0dc40803eb6fbe84873c247f9c8e8111ac9b2cb30c35b515/pyarrow-10.0.1-cp38-cp38-manylinux_2_17_x86_64.manylinux2014_x86_64.whl (36.0MB)\n",
      "\u001b[K     |████████████████████████████████| 36.0MB 85.0MB/s eta 0:00:01\n",
      "\u001b[?25hCollecting sniffio>=1.1\n",
      "  Downloading https://files.pythonhosted.org/packages/c3/a0/5dba8ed157b0136607c7f2151db695885606968d1fae123dc3391e0cfdbf/sniffio-1.3.0-py3-none-any.whl\n",
      "Collecting exceptiongroup; python_version < \"3.11\"\n",
      "  Downloading https://files.pythonhosted.org/packages/ad/83/b71e58666f156a39fb29417e4c8ca4bc7400c0dd4ed9e8842ab54dc8c344/exceptiongroup-1.1.3-py3-none-any.whl\n",
      "Collecting python-dateutil>=2.8.1\n",
      "\u001b[?25l  Downloading https://files.pythonhosted.org/packages/36/7a/87837f39d0296e723bb9b62bbb257d0355c7f6128853c78955f57342a56d/python_dateutil-2.8.2-py2.py3-none-any.whl (247kB)\n",
      "\u001b[K     |████████████████████████████████| 256kB 96.8MB/s eta 0:00:01\n",
      "\u001b[?25hCollecting wheel\n",
      "\u001b[?25l  Downloading https://files.pythonhosted.org/packages/b8/8b/31273bf66016be6ad22bb7345c37ff350276cfd46e389a0c2ac5da9d9073/wheel-0.41.2-py3-none-any.whl (64kB)\n",
      "\u001b[K     |████████████████████████████████| 71kB 4.8MB/s  eta 0:00:01\n",
      "\u001b[?25hCollecting setuptools>=40.6.0\n",
      "\u001b[?25l  Downloading https://files.pythonhosted.org/packages/bb/26/7945080113158354380a12ce26873dd6c1ebd88d47f5bc24e2c5bb38c16a/setuptools-68.2.2-py3-none-any.whl (807kB)\n",
      "\u001b[K     |████████████████████████████████| 808kB 83.0MB/s eta 0:00:01\n",
      "\u001b[?25hCollecting joblib>=1.1.1\n",
      "\u001b[?25l  Downloading https://files.pythonhosted.org/packages/10/40/d551139c85db202f1f384ba8bcf96aca2f329440a844f924c8a0040b6d02/joblib-1.3.2-py3-none-any.whl (302kB)\n",
      "\u001b[K     |████████████████████████████████| 307kB 97.0MB/s eta 0:00:01\n",
      "\u001b[?25hCollecting threadpoolctl>=2.0.0\n",
      "  Downloading https://files.pythonhosted.org/packages/81/12/fd4dea011af9d69e1cad05c75f3f7202cdcbeac9b712eea58ca779a72865/threadpoolctl-3.2.0-py3-none-any.whl\n",
      "Collecting aiohttp!=4.0.0a0,!=4.0.0a1\n",
      "\u001b[?25l  Downloading https://files.pythonhosted.org/packages/84/22/20c41a698eb5435ff7cd3bc6884542d2a40f3c91a221f713d77217facc39/aiohttp-3.8.5-cp38-cp38-manylinux_2_17_x86_64.manylinux2014_x86_64.whl (1.1MB)\n",
      "\u001b[K     |████████████████████████████████| 1.1MB 82.9MB/s eta 0:00:01\n",
      "\u001b[?25hCollecting aiobotocore~=2.5.4\n",
      "\u001b[?25l  Downloading https://files.pythonhosted.org/packages/20/00/01780c5fa93e3feb6d776ac8c7bd05dbe9290165636c13edcbdde6853537/aiobotocore-2.5.4-py3-none-any.whl (73kB)\n",
      "\u001b[K     |████████████████████████████████| 81kB 3.4MB/s  eta 0:00:01\n",
      "\u001b[?25hCollecting pycparser\n",
      "\u001b[?25l  Downloading https://files.pythonhosted.org/packages/62/d5/5f610ebe421e85889f2e55e33b7f9a6795bd982198517d912eb1c76e1a53/pycparser-2.21-py2.py3-none-any.whl (118kB)\n",
      "\u001b[K     |████████████████████████████████| 122kB 95.8MB/s eta 0:00:01\n",
      "\u001b[?25hCollecting six>=1.5\n",
      "  Downloading https://files.pythonhosted.org/packages/d9/5a/e7c31adbe875f2abbb91bd84cf2dc52d792b5a01506781dbcf25c91daf11/six-1.16.0-py2.py3-none-any.whl\n",
      "Collecting frozenlist>=1.1.1\n",
      "\u001b[?25l  Downloading https://files.pythonhosted.org/packages/0b/36/c276486f89bee9098332710af2207344f360c6c6f104a4931a7566039b1d/frozenlist-1.4.0-cp38-cp38-manylinux_2_5_x86_64.manylinux1_x86_64.manylinux_2_17_x86_64.manylinux2014_x86_64.whl (220kB)\n",
      "\u001b[K     |████████████████████████████████| 225kB 95.5MB/s eta 0:00:01\n",
      "\u001b[?25hCollecting aiosignal>=1.1.2\n",
      "  Downloading https://files.pythonhosted.org/packages/76/ac/a7305707cb852b7e16ff80eaf5692309bde30e2b1100a1fcacdc8f731d97/aiosignal-1.3.1-py3-none-any.whl\n",
      "Collecting async-timeout<5.0,>=4.0.0a3\n",
      "  Downloading https://files.pythonhosted.org/packages/a7/fa/e01228c2938de91d47b307831c62ab9e4001e747789d0b05baf779a6488c/async_timeout-4.0.3-py3-none-any.whl\n",
      "Collecting attrs>=17.3.0\n",
      "\u001b[?25l  Downloading https://files.pythonhosted.org/packages/f0/eb/fcb708c7bf5056045e9e98f62b93bd7467eb718b0202e7698eb11d66416c/attrs-23.1.0-py3-none-any.whl (61kB)\n",
      "\u001b[K     |████████████████████████████████| 61kB 4.8MB/s  eta 0:00:01\n",
      "\u001b[?25hCollecting multidict<7.0,>=4.5\n",
      "\u001b[?25l  Downloading https://files.pythonhosted.org/packages/fe/0c/8469202f8f4b0e65816f91c3febc4bda7316c995b59ecdf3b15c574f7a24/multidict-6.0.4-cp38-cp38-manylinux_2_17_x86_64.manylinux2014_x86_64.whl (121kB)\n",
      "\u001b[K     |████████████████████████████████| 122kB 95.5MB/s eta 0:00:01\n",
      "\u001b[?25hCollecting yarl<2.0,>=1.0\n",
      "\u001b[?25l  Downloading https://files.pythonhosted.org/packages/c4/0c/7898c35ca4945fdd416e1dadeda985cc391e4f9298ae5e71c3a5cd88e82d/yarl-1.9.2-cp38-cp38-manylinux_2_17_x86_64.manylinux2014_x86_64.whl (266kB)\n",
      "\u001b[K     |████████████████████████████████| 276kB 107.4MB/s eta 0:00:01\n",
      "\u001b[?25hCollecting wrapt<2.0.0,>=1.10.10\n",
      "\u001b[?25l  Downloading https://files.pythonhosted.org/packages/af/7f/25913aacbe0c2c68e7354222bdefe4e840489725eb835e311c581396f91f/wrapt-1.15.0-cp38-cp38-manylinux_2_5_x86_64.manylinux1_x86_64.manylinux_2_17_x86_64.manylinux2014_x86_64.whl (81kB)\n",
      "\u001b[K     |████████████████████████████████| 81kB 3.1MB/s  eta 0:00:01\n",
      "\u001b[?25hCollecting botocore<1.31.18,>=1.31.17\n",
      "\u001b[?25l  Downloading https://files.pythonhosted.org/packages/3d/e5/32a88f5a95e3d43c2e3ed86fc1ffdb715547a04f95a51d00e1185af63b0c/botocore-1.31.17-py3-none-any.whl (11.1MB)\n",
      "\u001b[K     |████████████████████████████████| 11.1MB 97.3MB/s eta 0:00:01\n",
      "\u001b[?25hCollecting aioitertools<1.0.0,>=0.5.1\n",
      "  Downloading https://files.pythonhosted.org/packages/45/66/d1a9fd8e6ff88f2157cb145dd054defb0fd7fe2507fe5a01347e7c690eab/aioitertools-0.11.0-py3-none-any.whl\n",
      "Collecting jmespath<2.0.0,>=0.7.1\n",
      "  Downloading https://files.pythonhosted.org/packages/31/b4/b9b800c45527aadd64d5b442f9b932b00648617eb5d63d2c7a6587b7cafc/jmespath-1.0.1-py3-none-any.whl\n",
      "\u001b[31mERROR: snowflake-snowpark-python 1.8.0 has requirement cloudpickle<=2.0.0,>=1.6.0, but you'll have cloudpickle 2.2.1 which is incompatible.\u001b[0m\n",
      "\u001b[31mERROR: jupyterlab 3.2.4 has requirement jupyter-server~=1.4, but you'll have jupyter-server 2.0.0a1 which is incompatible.\u001b[0m\n",
      "\u001b[31mERROR: jupyterlab-server 2.23.0 has requirement jsonschema>=4.17.3, but you'll have jsonschema 3.2.0 which is incompatible.\u001b[0m\n",
      "Installing collected packages: asn1crypto, oscrypto, packaging, pyjwt, certifi, platformdirs, pycparser, cffi, cryptography, pyOpenSSL, pycryptodomex, urllib3, sortedcontainers, tomlkit, typing-extensions, idna, filelock, charset-normalizer, requests, pytz, numpy, pyarrow, six, python-dateutil, pandas, snowflake-connector-python, absl-py, sniffio, exceptiongroup, anyio, pyyaml, scipy, cloudpickle, wheel, setuptools, snowflake-snowpark-python, sqlparse, xgboost, joblib, threadpoolctl, scikit-learn, frozenlist, aiosignal, async-timeout, attrs, multidict, yarl, aiohttp, fsspec, wrapt, jmespath, botocore, aioitertools, aiobotocore, s3fs, snowflake-ml-python\n",
      "Successfully installed absl-py-1.4.0 aiobotocore-2.5.4 aiohttp-3.8.5 aioitertools-0.11.0 aiosignal-1.3.1 anyio-3.7.1 asn1crypto-1.5.1 async-timeout-4.0.3 attrs-23.1.0 botocore-1.31.17 certifi-2023.7.22 cffi-1.15.1 charset-normalizer-3.2.0 cloudpickle-2.2.1 cryptography-41.0.4 exceptiongroup-1.1.3 filelock-3.12.4 frozenlist-1.4.0 fsspec-2023.9.1 idna-3.4 jmespath-1.0.1 joblib-1.3.2 multidict-6.0.4 numpy-1.24.4 oscrypto-1.3.0 packaging-23.1 pandas-1.5.3 platformdirs-3.8.1 pyOpenSSL-23.2.0 pyarrow-10.0.1 pycparser-2.21 pycryptodomex-3.19.0 pyjwt-2.8.0 python-dateutil-2.8.2 pytz-2023.3.post1 pyyaml-6.0.1 requests-2.31.0 s3fs-2023.9.1 scikit-learn-1.3.0 scipy-1.10.1 setuptools-68.2.2 six-1.16.0 sniffio-1.3.0 snowflake-connector-python-3.2.0 snowflake-ml-python-1.0.8 snowflake-snowpark-python-1.8.0 sortedcontainers-2.4.0 sqlparse-0.4.4 threadpoolctl-3.2.0 tomlkit-0.12.1 typing-extensions-4.8.0 urllib3-1.26.16 wheel-0.41.2 wrapt-1.15.0 xgboost-1.7.6 yarl-1.9.2\n"
     ]
    }
   ],
   "source": [
    "! pip install snowflake-ml-python -U"
   ]
  },
  {
   "cell_type": "code",
   "execution_count": 1,
   "id": "69108f14",
   "metadata": {},
   "outputs": [
    {
     "name": "stderr",
     "output_type": "stream",
     "text": [
      "/tmp/pip_packages/snowflake/connector/options.py:103: UserWarning: You have an incompatible version of 'pyarrow' installed (10.0.1), please install a version that adheres to: 'pyarrow<8.1.0,>=8.0.0; extra == \"pandas\"'\n",
      "  warn_incompatible_dep(\n"
     ]
    }
   ],
   "source": [
    "from snowflake.ml.modeling.pipeline import Pipeline\n",
    "from snowflake.ml.modeling.xgboost import XGBClassifier\n",
    "from snowflake.ml.modeling.linear_model import SGDClassifier\n",
    "from snowflake.ml.modeling.preprocessing import MinMaxScaler, OrdinalEncoder, OneHotEncoder\n",
    "from sklearn.metrics import mean_absolute_percentage_error"
   ]
  },
  {
   "cell_type": "code",
   "execution_count": 2,
   "id": "77a2bea6",
   "metadata": {},
   "outputs": [],
   "source": [
    "from snowflake.snowpark import Session\n",
    "import configparser\n",
    "def get_session():\n",
    "    parser = configparser.ConfigParser()\n",
    "    # Add the credential file name here\n",
    "    parser.read('/notebooks/notebooks/config.ini')\n",
    "\n",
    "    connection_params = dict(user=parser['Credentials']['user'], \n",
    "                         password=parser['Credentials']['password'], \n",
    "                         account=parser['Credentials']['account'], \n",
    "                         warehouse=parser['Credentials']['warehouse'], \n",
    "                         database=parser['Credentials']['database'],\n",
    "                         schema=parser['Credentials']['schema'], \n",
    "                         role=parser['Credentials']['role'])\n",
    "\n",
    "    session = Session.builder.configs(connection_params).create()\n",
    "    return session\n",
    "\n"
   ]
  },
  {
   "cell_type": "code",
   "execution_count": 3,
   "id": "78e3def1",
   "metadata": {},
   "outputs": [],
   "source": [
    "session = get_session()"
   ]
  },
  {
   "cell_type": "markdown",
   "id": "0710059b",
   "metadata": {},
   "source": [
    "# Model Building\n",
    "### Load the final data from snowflake table"
   ]
  },
  {
   "cell_type": "code",
   "execution_count": 4,
   "id": "292103e6",
   "metadata": {},
   "outputs": [],
   "source": [
    "table_name = 'predictive_maintenance_final'"
   ]
  },
  {
   "cell_type": "code",
   "execution_count": 5,
   "id": "e89dd19d",
   "metadata": {},
   "outputs": [],
   "source": [
    "sf_df = session.table(table_name).drop('ROW')"
   ]
  },
  {
   "cell_type": "code",
   "execution_count": 6,
   "id": "026a3abf",
   "metadata": {},
   "outputs": [
    {
     "name": "stdout",
     "output_type": "stream",
     "text": [
      "-------------------------------------------------------------------------------------------------------------------------------------------------------------------------------------------------------------------------------------\n",
      "|\"FAILURE\"  |\"METRIC5\"  |\"METRIC6\"  |\"DAY\"  |\"DAY_WEEK\"  |\"SECTOR\"  |\"OP_PERIOD\"  |\"DEV_RECONNECTED\"  |\"MNW1\"    |\"DIF_M6\"  |\"DIF_M5\"  |\"LOG_M2\"           |\"LOG_M3\"            |\"LOG_M4\"            |\"LOG_M7\"  |\"LOG_M9\"           |\n",
      "-------------------------------------------------------------------------------------------------------------------------------------------------------------------------------------------------------------------------------------\n",
      "|0          |6          |407438     |1      |3           |S1F0      |1            |0                  |26953834  |0         |0         |2.079441541679836  |0.0                 |3.9702919135521215  |0.0       |2.079441541679836  |\n",
      "|0          |6          |403174     |1      |3           |S1F0      |1            |0                  |7671335   |0         |0         |0.0                |1.3862943611198906  |0.0                 |0.0       |0.0                |\n",
      "|0          |12         |237394     |1      |3           |S1F0      |1            |0                  |21661996  |0         |0         |0.0                |0.0                 |0.0                 |0.0       |0.0                |\n",
      "-------------------------------------------------------------------------------------------------------------------------------------------------------------------------------------------------------------------------------------\n",
      "\n"
     ]
    }
   ],
   "source": [
    "sf_df.show(3)"
   ]
  },
  {
   "cell_type": "code",
   "execution_count": 8,
   "id": "366cf3ab",
   "metadata": {},
   "outputs": [],
   "source": [
    "a = sf_df.to_pandas()"
   ]
  },
  {
   "cell_type": "code",
   "execution_count": 11,
   "id": "424fe2af",
   "metadata": {},
   "outputs": [
    {
     "data": {
      "text/plain": [
       "['FAILURE',\n",
       " 'METRIC5',\n",
       " 'METRIC6',\n",
       " 'DAY',\n",
       " 'DAY_WEEK',\n",
       " 'SECTOR',\n",
       " 'OP_PERIOD',\n",
       " 'DEV_RECONNECTED',\n",
       " 'MNW1',\n",
       " 'DIF_M6',\n",
       " 'DIF_M5',\n",
       " 'LOG_M2',\n",
       " 'LOG_M3',\n",
       " 'LOG_M4',\n",
       " 'LOG_M7',\n",
       " 'LOG_M9']"
      ]
     },
     "execution_count": 11,
     "metadata": {},
     "output_type": "execute_result"
    }
   ],
   "source": [
    "list(a.columns)"
   ]
  },
  {
   "cell_type": "code",
   "execution_count": 10,
   "id": "f120d746",
   "metadata": {},
   "outputs": [
    {
     "data": {
      "text/html": [
       "<div>\n",
       "<style scoped>\n",
       "    .dataframe tbody tr th:only-of-type {\n",
       "        vertical-align: middle;\n",
       "    }\n",
       "\n",
       "    .dataframe tbody tr th {\n",
       "        vertical-align: top;\n",
       "    }\n",
       "\n",
       "    .dataframe thead th {\n",
       "        text-align: right;\n",
       "    }\n",
       "</style>\n",
       "<table border=\"1\" class=\"dataframe\">\n",
       "  <thead>\n",
       "    <tr style=\"text-align: right;\">\n",
       "      <th></th>\n",
       "      <th>FAILURE</th>\n",
       "      <th>METRIC5</th>\n",
       "      <th>METRIC6</th>\n",
       "      <th>DAY</th>\n",
       "      <th>DAY_WEEK</th>\n",
       "      <th>SECTOR</th>\n",
       "      <th>OP_PERIOD</th>\n",
       "      <th>DEV_RECONNECTED</th>\n",
       "      <th>MNW1</th>\n",
       "      <th>DIF_M6</th>\n",
       "      <th>DIF_M5</th>\n",
       "      <th>LOG_M2</th>\n",
       "      <th>LOG_M3</th>\n",
       "      <th>LOG_M4</th>\n",
       "      <th>LOG_M7</th>\n",
       "      <th>LOG_M9</th>\n",
       "    </tr>\n",
       "  </thead>\n",
       "  <tbody>\n",
       "    <tr>\n",
       "      <th>0</th>\n",
       "      <td>0</td>\n",
       "      <td>6</td>\n",
       "      <td>407438</td>\n",
       "      <td>1</td>\n",
       "      <td>3</td>\n",
       "      <td>S1F0</td>\n",
       "      <td>1</td>\n",
       "      <td>0</td>\n",
       "      <td>26953834</td>\n",
       "      <td>0</td>\n",
       "      <td>0</td>\n",
       "      <td>2.079442</td>\n",
       "      <td>0.000000</td>\n",
       "      <td>3.970292</td>\n",
       "      <td>0.0</td>\n",
       "      <td>2.079442</td>\n",
       "    </tr>\n",
       "    <tr>\n",
       "      <th>1</th>\n",
       "      <td>0</td>\n",
       "      <td>6</td>\n",
       "      <td>403174</td>\n",
       "      <td>1</td>\n",
       "      <td>3</td>\n",
       "      <td>S1F0</td>\n",
       "      <td>1</td>\n",
       "      <td>0</td>\n",
       "      <td>7671335</td>\n",
       "      <td>0</td>\n",
       "      <td>0</td>\n",
       "      <td>0.000000</td>\n",
       "      <td>1.386294</td>\n",
       "      <td>0.000000</td>\n",
       "      <td>0.0</td>\n",
       "      <td>0.000000</td>\n",
       "    </tr>\n",
       "    <tr>\n",
       "      <th>2</th>\n",
       "      <td>0</td>\n",
       "      <td>12</td>\n",
       "      <td>237394</td>\n",
       "      <td>1</td>\n",
       "      <td>3</td>\n",
       "      <td>S1F0</td>\n",
       "      <td>1</td>\n",
       "      <td>0</td>\n",
       "      <td>21661996</td>\n",
       "      <td>0</td>\n",
       "      <td>0</td>\n",
       "      <td>0.000000</td>\n",
       "      <td>0.000000</td>\n",
       "      <td>0.000000</td>\n",
       "      <td>0.0</td>\n",
       "      <td>0.000000</td>\n",
       "    </tr>\n",
       "    <tr>\n",
       "      <th>3</th>\n",
       "      <td>0</td>\n",
       "      <td>6</td>\n",
       "      <td>410186</td>\n",
       "      <td>1</td>\n",
       "      <td>3</td>\n",
       "      <td>S1F0</td>\n",
       "      <td>1</td>\n",
       "      <td>0</td>\n",
       "      <td>9961753</td>\n",
       "      <td>0</td>\n",
       "      <td>0</td>\n",
       "      <td>0.000000</td>\n",
       "      <td>0.000000</td>\n",
       "      <td>0.000000</td>\n",
       "      <td>0.0</td>\n",
       "      <td>0.000000</td>\n",
       "    </tr>\n",
       "    <tr>\n",
       "      <th>4</th>\n",
       "      <td>0</td>\n",
       "      <td>15</td>\n",
       "      <td>313173</td>\n",
       "      <td>1</td>\n",
       "      <td>3</td>\n",
       "      <td>S1F0</td>\n",
       "      <td>1</td>\n",
       "      <td>0</td>\n",
       "      <td>16996310</td>\n",
       "      <td>0</td>\n",
       "      <td>0</td>\n",
       "      <td>0.000000</td>\n",
       "      <td>0.000000</td>\n",
       "      <td>0.000000</td>\n",
       "      <td>0.0</td>\n",
       "      <td>1.386294</td>\n",
       "    </tr>\n",
       "  </tbody>\n",
       "</table>\n",
       "</div>"
      ],
      "text/plain": [
       "   FAILURE  METRIC5  METRIC6  DAY  DAY_WEEK SECTOR  OP_PERIOD  \\\n",
       "0        0        6   407438    1         3   S1F0          1   \n",
       "1        0        6   403174    1         3   S1F0          1   \n",
       "2        0       12   237394    1         3   S1F0          1   \n",
       "3        0        6   410186    1         3   S1F0          1   \n",
       "4        0       15   313173    1         3   S1F0          1   \n",
       "\n",
       "   DEV_RECONNECTED      MNW1  DIF_M6  DIF_M5    LOG_M2    LOG_M3    LOG_M4  \\\n",
       "0                0  26953834       0       0  2.079442  0.000000  3.970292   \n",
       "1                0   7671335       0       0  0.000000  1.386294  0.000000   \n",
       "2                0  21661996       0       0  0.000000  0.000000  0.000000   \n",
       "3                0   9961753       0       0  0.000000  0.000000  0.000000   \n",
       "4                0  16996310       0       0  0.000000  0.000000  0.000000   \n",
       "\n",
       "   LOG_M7    LOG_M9  \n",
       "0     0.0  2.079442  \n",
       "1     0.0  0.000000  \n",
       "2     0.0  0.000000  \n",
       "3     0.0  0.000000  \n",
       "4     0.0  1.386294  "
      ]
     },
     "execution_count": 10,
     "metadata": {},
     "output_type": "execute_result"
    }
   ],
   "source": [
    "a.head()"
   ]
  },
  {
   "cell_type": "code",
   "execution_count": 7,
   "id": "9804df34",
   "metadata": {},
   "outputs": [],
   "source": [
    "CATEGORICAL_COLUMNS = [\"SECTOR\"]\n",
    "CATEGORICAL_COLUMNS_OE = [\"SECTOR_OE\"]\n",
    "NUMERICAL_COLUMNS = ['METRIC5','METRIC6','DAY','DAY_WEEK','OP_PERIOD','MNW1','DIF_M6','DIF_M5','LOG_M2',\n",
    " 'LOG_M3','LOG_M4','LOG_M7','LOG_M9']\n",
    "LABEL_COLUMNS = [\"FAILURE\"]\n",
    "OUTPUT_COLUMNS = [\"PREDICTION\"]"
   ]
  },
  {
   "cell_type": "code",
   "execution_count": 8,
   "id": "5b387852",
   "metadata": {},
   "outputs": [],
   "source": [
    "train_df, test_df = sf_df.random_split([0.8,0.2])"
   ]
  },
  {
   "cell_type": "code",
   "execution_count": 9,
   "id": "24af2f25",
   "metadata": {},
   "outputs": [
    {
     "name": "stdout",
     "output_type": "stream",
     "text": [
      "---------------------------------------------------------------------------------------------------------------------------------------------------------------------------------------------------------\n",
      "|\"FAILURE\"  |\"METRIC5\"  |\"METRIC6\"  |\"DAY\"  |\"DAY_WEEK\"  |\"SECTOR\"  |\"OP_PERIOD\"  |\"DEV_RECONNECTED\"  |\"MNW1\"    |\"DIF_M6\"  |\"DIF_M5\"  |\"LOG_M2\"  |\"LOG_M3\"            |\"LOG_M4\"  |\"LOG_M7\"  |\"LOG_M9\"  |\n",
      "---------------------------------------------------------------------------------------------------------------------------------------------------------------------------------------------------------\n",
      "|0          |6          |403174     |1      |3           |S1F0      |1            |0                  |7671335   |0         |0         |0.0       |1.3862943611198906  |0.0       |0.0       |0.0       |\n",
      "|0          |12         |237394     |1      |3           |S1F0      |1            |0                  |21661996  |0         |0         |0.0       |0.0                 |0.0       |0.0       |0.0       |\n",
      "|0          |6          |410186     |1      |3           |S1F0      |1            |0                  |9961753   |0         |0         |0.0       |0.0                 |0.0       |0.0       |0.0       |\n",
      "---------------------------------------------------------------------------------------------------------------------------------------------------------------------------------------------------------\n",
      "\n"
     ]
    }
   ],
   "source": [
    "train_df.show(3)"
   ]
  },
  {
   "cell_type": "markdown",
   "id": "43a89f16",
   "metadata": {},
   "source": [
    "Create a pipeline with preprocessing steps and model definition"
   ]
  },
  {
   "cell_type": "code",
   "execution_count": 10,
   "id": "b0578699",
   "metadata": {},
   "outputs": [],
   "source": [
    "pipeline = Pipeline(\n",
    "    steps=[\n",
    "            (\n",
    "                \"OHE\",\n",
    "                OneHotEncoder(\n",
    "                input_cols=CATEGORICAL_COLUMNS,\n",
    "                output_cols=CATEGORICAL_COLUMNS_OE\n",
    "                )\n",
    "            ),\n",
    "#             (\n",
    "#                 \"MMS\",\n",
    "#                 MinMaxScaler(\n",
    "#                 clip=True,\n",
    "#                 input_cols=NUMERICAL_COLUMNS,\n",
    "#                 output_cols=NUMERICAL_COLUMNS,\n",
    "#                 )\n",
    "#             ),\n",
    "            (\n",
    "                \"classification\",\n",
    "                SGDClassifier(\n",
    "                input_cols=NUMERICAL_COLUMNS,\n",
    "                label_cols=LABEL_COLUMNS,\n",
    "                output_cols=OUTPUT_COLUMNS\n",
    "                )\n",
    "            )\n",
    "    ]\n",
    ")"
   ]
  },
  {
   "cell_type": "code",
   "execution_count": 11,
   "id": "e603dec8",
   "metadata": {},
   "outputs": [
    {
     "name": "stderr",
     "output_type": "stream",
     "text": [
      "/tmp/pip_packages/snowflake/snowpark/session.py:1860: UserWarning: Pandas Dataframe has non-standard index of type <class 'pandas.core.indexes.numeric.Int64Index'> which will not be written. Consider changing the index to pd.RangeIndex(start=0,...,step=1) or call reset_index() to keep index as column(s)\n",
      "  success, nchunks, nrows, ci_output = write_pandas(\n",
      "/tmp/pip_packages/snowflake/snowpark/session.py:1860: UserWarning: Pandas Dataframe has non-standard index of type <class 'pandas.core.indexes.numeric.Int64Index'> which will not be written. Consider changing the index to pd.RangeIndex(start=0,...,step=1) or call reset_index() to keep index as column(s)\n",
      "  success, nchunks, nrows, ci_output = write_pandas(\n",
      "The version of package 'snowflake-snowpark-python' in the local environment is 1.8.0, which does not fit the criteria for the requirement 'snowflake-snowpark-python'. Your UDF might not work when the package version is different between the server and your local environment.\n",
      "The version of package 'numpy' in the local environment is 1.24.4, which does not fit the criteria for the requirement 'numpy==1.24.3'. Your UDF might not work when the package version is different between the server and your local environment.\n"
     ]
    },
    {
     "ename": "SnowparkSQLException",
     "evalue": "(1300) (1304): 01af1b66-0503-cace-0072-f3030bf43e62: 100357 (P0000): Python Interpreter Error:\nTraceback (most recent call last):\n  File \"_udf_code.py\", line 90, in compute\n  File \"/tmp/pip_packages/snowflake/ml/modeling/_internal/snowpark_handlers.py\", line 90, in fit_wrapper_sproc\n  File \"/usr/lib/python_udf/47551a7bfd00f4b7db3a8f702d9cb264485e91e604075ad17c0dfcb8e138b05a/lib/python3.8/site-packages/snowflake/snowpark/_internal/telemetry.py\", line 76, in wrap\n    result = func(*args, **kwargs)\n  File \"/usr/lib/python_udf/47551a7bfd00f4b7db3a8f702d9cb264485e91e604075ad17c0dfcb8e138b05a/lib/python3.8/site-packages/snowflake/snowpark/dataframe.py\", line 492, in to_pandas\n    result = self._session._conn.execute(self._plan, to_pandas=True, **kwargs)\n  File \"/usr/lib/python_udf/47551a7bfd00f4b7db3a8f702d9cb264485e91e604075ad17c0dfcb8e138b05a/lib/python3.8/site-packages/snowflake/snowpark/_internal/server_connection.py\", line 354, in execute\n    result_set, result_meta = self.get_result_set(\n  File \"/usr/lib/python_udf/47551a7bfd00f4b7db3a8f702d9cb264485e91e604075ad17c0dfcb8e138b05a/lib/python3.8/site-packages/snowflake/snowpark/_internal/analyzer/snowflake_plan.py\", line 84, in wrap\n    return func(*args, **kwargs)\n  File \"/usr/lib/python_udf/47551a7bfd00f4b7db3a8f702d9cb264485e91e604075ad17c0dfcb8e138b05a/lib/python3.8/site-packages/snowflake/snowpark/_internal/server_connection.py\", line 390, in get_result_set\n    result = self.run_query(\n  File \"/usr/lib/python_udf/47551a7bfd00f4b7db3a8f702d9cb264485e91e604075ad17c0dfcb8e138b05a/lib/python3.8/site-packages/snowflake/snowpark/_internal/server_connection.py\", line 102, in wrap\n    raise ex\n  File \"/usr/lib/python_udf/47551a7bfd00f4b7db3a8f702d9cb264485e91e604075ad17c0dfcb8e138b05a/lib/python3.8/site-packages/snowflake/snowpark/_internal/server_connection.py\", line 95, in wrap\n    return func(*args, **kwargs)\n  File \"/usr/lib/python_udf/47551a7bfd00f4b7db3a8f702d9cb264485e91e604075ad17c0dfcb8e138b05a/lib/python3.8/site-packages/snowflake/snowpark/_internal/server_connection.py\", line 311, in run_query\n    raise ex\n  File \"/usr/lib/python_udf/47551a7bfd00f4b7db3a8f702d9cb264485e91e604075ad17c0dfcb8e138b05a/lib/python3.8/site-packages/snowflake/snowpark/_internal/server_connection.py\", line 304, in run_query\n    results_cursor = self._cursor.execute(query, **kwargs)\nTypeError: execute() got an unexpected keyword argument 'statement_params'\n in function SNOWPARK_TEMP_PROCEDURE_KWZI68PTG3 with handler compute",
     "output_type": "error",
     "traceback": [
      "\u001b[0;31m---------------------------------------------------------------------------\u001b[0m",
      "\u001b[0;31mSnowflakeMLException\u001b[0m                      Traceback (most recent call last)",
      "\u001b[0;31mSnowflakeMLException\u001b[0m: SnowparkSQLException('(1300) (1304): 01af1b66-0503-cace-0072-f3030bf43e62: 100357 (P0000): Python Interpreter Error:\\nTraceback (most recent call last):\\n  File \"_udf_code.py\", line 90, in compute\\n  File \"/tmp/pip_packages/snowflake/ml/modeling/_internal/snowpark_handlers.py\", line 90, in fit_wrapper_sproc\\n  File \"/usr/lib/python_udf/47551a7bfd00f4b7db3a8f702d9cb264485e91e604075ad17c0dfcb8e138b05a/lib/python3.8/site-packages/snowflake/snowpark/_internal/telemetry.py\", line 76, in wrap\\n    result = func(*args, **kwargs)\\n  File \"/usr/lib/python_udf/47551a7bfd00f4b7db3a8f702d9cb264485e91e604075ad17c0dfcb8e138b05a/lib/python3.8/site-packages/snowflake/snowpark/dataframe.py\", line 492, in to_pandas\\n    result = self._session._conn.execute(self._plan, to_pandas=True, **kwargs)\\n  File \"/usr/lib/python_udf/47551a7bfd00f4b7db3a8f702d9cb264485e91e604075ad17c0dfcb8e138b05a/lib/python3.8/site-packages/snowflake/snowpark/_internal/server_connection.py\", line 354, in execute\\n    result_set, result_meta = self.get_result_set(\\n  File \"/usr/lib/python_udf/47551a7bfd00f4b7db3a8f702d9cb264485e91e604075ad17c0dfcb8e138b05a/lib/python3.8/site-packages/snowflake/snowpark/_internal/analyzer/snowflake_plan.py\", line 84, in wrap\\n    return func(*args, **kwargs)\\n  File \"/usr/lib/python_udf/47551a7bfd00f4b7db3a8f702d9cb264485e91e604075ad17c0dfcb8e138b05a/lib/python3.8/site-packages/snowflake/snowpark/_internal/server_connection.py\", line 390, in get_result_set\\n    result = self.run_query(\\n  File \"/usr/lib/python_udf/47551a7bfd00f4b7db3a8f702d9cb264485e91e604075ad17c0dfcb8e138b05a/lib/python3.8/site-packages/snowflake/snowpark/_internal/server_connection.py\", line 102, in wrap\\n    raise ex\\n  File \"/usr/lib/python_udf/47551a7bfd00f4b7db3a8f702d9cb264485e91e604075ad17c0dfcb8e138b05a/lib/python3.8/site-packages/snowflake/snowpark/_internal/server_connection.py\", line 95, in wrap\\n    return func(*args, **kwargs)\\n  File \"/usr/lib/python_udf/47551a7bfd00f4b7db3a8f702d9cb264485e91e604075ad17c0dfcb8e138b05a/lib/python3.8/site-packages/snowflake/snowpark/_internal/server_connection.py\", line 311, in run_query\\n    raise ex\\n  File \"/usr/lib/python_udf/47551a7bfd00f4b7db3a8f702d9cb264485e91e604075ad17c0dfcb8e138b05a/lib/python3.8/site-packages/snowflake/snowpark/_internal/server_connection.py\", line 304, in run_query\\n    results_cursor = self._cursor.execute(query, **kwargs)\\nTypeError: execute() got an unexpected keyword argument \\'statement_params\\'\\n in function SNOWPARK_TEMP_PROCEDURE_KWZI68PTG3 with handler compute', None, None)",
      "\nThe above exception was the direct cause of the following exception:\n",
      "\u001b[0;31mSnowparkSQLException\u001b[0m                      Traceback (most recent call last)",
      "Cell \u001b[0;32mIn[11], line 1\u001b[0m\n\u001b[0;32m----> 1\u001b[0m \u001b[43mpipeline\u001b[49m\u001b[38;5;241;43m.\u001b[39;49m\u001b[43mfit\u001b[49m\u001b[43m(\u001b[49m\u001b[43mtrain_df\u001b[49m\u001b[43m)\u001b[49m\n",
      "File \u001b[0;32m/tmp/pip_packages/snowflake/ml/_internal/telemetry.py:315\u001b[0m, in \u001b[0;36msend_api_usage_telemetry.<locals>.decorator.<locals>.wrap\u001b[0;34m(*args, **kwargs)\u001b[0m\n\u001b[1;32m    312\u001b[0m \u001b[38;5;28;01mif\u001b[39;00m \u001b[38;5;129;01mnot\u001b[39;00m \u001b[38;5;28misinstance\u001b[39m(e, snowml_exceptions\u001b[38;5;241m.\u001b[39mSnowflakeMLException):\n\u001b[1;32m    313\u001b[0m     \u001b[38;5;66;03m# already handled via a nested decorated function\u001b[39;00m\n\u001b[1;32m    314\u001b[0m     \u001b[38;5;28;01mif\u001b[39;00m \u001b[38;5;28mhasattr\u001b[39m(e, \u001b[38;5;124m\"\u001b[39m\u001b[38;5;124m_snowflake_ml_handled\u001b[39m\u001b[38;5;124m\"\u001b[39m) \u001b[38;5;129;01mand\u001b[39;00m e\u001b[38;5;241m.\u001b[39m_snowflake_ml_handled:\n\u001b[0;32m--> 315\u001b[0m         \u001b[38;5;28;01mraise\u001b[39;00m e\n\u001b[1;32m    316\u001b[0m     \u001b[38;5;28;01mif\u001b[39;00m \u001b[38;5;28misinstance\u001b[39m(e, snowpark_exceptions\u001b[38;5;241m.\u001b[39mSnowparkClientException):\n\u001b[1;32m    317\u001b[0m         e \u001b[38;5;241m=\u001b[39m snowml_exceptions\u001b[38;5;241m.\u001b[39mSnowflakeMLException(\n\u001b[1;32m    318\u001b[0m             error_code\u001b[38;5;241m=\u001b[39merror_codes\u001b[38;5;241m.\u001b[39mINTERNAL_SNOWPARK_ERROR, original_exception\u001b[38;5;241m=\u001b[39me\n\u001b[1;32m    319\u001b[0m         )\n",
      "File \u001b[0;32m/tmp/pip_packages/snowflake/ml/_internal/telemetry.py:310\u001b[0m, in \u001b[0;36msend_api_usage_telemetry.<locals>.decorator.<locals>.wrap\u001b[0;34m(*args, **kwargs)\u001b[0m\n\u001b[1;32m    301\u001b[0m telemetry_args \u001b[38;5;241m=\u001b[39m \u001b[38;5;28mdict\u001b[39m(\n\u001b[1;32m    302\u001b[0m     func_name\u001b[38;5;241m=\u001b[39m_get_full_func_name(func),\n\u001b[1;32m    303\u001b[0m     function_category\u001b[38;5;241m=\u001b[39mTelemetryField\u001b[38;5;241m.\u001b[39mFUNC_CAT_USAGE\u001b[38;5;241m.\u001b[39mvalue,\n\u001b[0;32m   (...)\u001b[0m\n\u001b[1;32m    307\u001b[0m     custom_tags\u001b[38;5;241m=\u001b[39mcustom_tags,\n\u001b[1;32m    308\u001b[0m )\n\u001b[1;32m    309\u001b[0m \u001b[38;5;28;01mtry\u001b[39;00m:\n\u001b[0;32m--> 310\u001b[0m     res \u001b[38;5;241m=\u001b[39m \u001b[43mfunc\u001b[49m\u001b[43m(\u001b[49m\u001b[38;5;241;43m*\u001b[39;49m\u001b[43margs\u001b[49m\u001b[43m,\u001b[49m\u001b[43m \u001b[49m\u001b[38;5;241;43m*\u001b[39;49m\u001b[38;5;241;43m*\u001b[39;49m\u001b[43mkwargs\u001b[49m\u001b[43m)\u001b[49m\n\u001b[1;32m    311\u001b[0m \u001b[38;5;28;01mexcept\u001b[39;00m \u001b[38;5;167;01mException\u001b[39;00m \u001b[38;5;28;01mas\u001b[39;00m e:\n\u001b[1;32m    312\u001b[0m     \u001b[38;5;28;01mif\u001b[39;00m \u001b[38;5;129;01mnot\u001b[39;00m \u001b[38;5;28misinstance\u001b[39m(e, snowml_exceptions\u001b[38;5;241m.\u001b[39mSnowflakeMLException):\n\u001b[1;32m    313\u001b[0m         \u001b[38;5;66;03m# already handled via a nested decorated function\u001b[39;00m\n",
      "File \u001b[0;32m/tmp/pip_packages/snowflake/ml/modeling/pipeline/pipeline.py:245\u001b[0m, in \u001b[0;36mPipeline.fit\u001b[0;34m(self, dataset)\u001b[0m\n\u001b[1;32m    243\u001b[0m \u001b[38;5;28;01mif\u001b[39;00m estimator:\n\u001b[1;32m    244\u001b[0m     all_cols \u001b[38;5;241m=\u001b[39m transformed_dataset\u001b[38;5;241m.\u001b[39mcolumns[:]\n\u001b[0;32m--> 245\u001b[0m     \u001b[43mestimator\u001b[49m\u001b[43m[\u001b[49m\u001b[38;5;241;43m1\u001b[39;49m\u001b[43m]\u001b[49m\u001b[38;5;241;43m.\u001b[39;49m\u001b[43mfit\u001b[49m\u001b[43m(\u001b[49m\u001b[43mtransformed_dataset\u001b[49m\u001b[43m)\u001b[49m\n\u001b[1;32m    247\u001b[0m     \u001b[38;5;28mself\u001b[39m\u001b[38;5;241m.\u001b[39m_append_step_feature_consumption_info(\n\u001b[1;32m    248\u001b[0m         step_name\u001b[38;5;241m=\u001b[39mestimator[\u001b[38;5;241m0\u001b[39m], all_cols\u001b[38;5;241m=\u001b[39mall_cols, input_cols\u001b[38;5;241m=\u001b[39mestimator[\u001b[38;5;241m1\u001b[39m]\u001b[38;5;241m.\u001b[39mget_input_cols()\n\u001b[1;32m    249\u001b[0m     )\n\u001b[1;32m    251\u001b[0m \u001b[38;5;28mself\u001b[39m\u001b[38;5;241m.\u001b[39m_get_model_signatures(dataset\u001b[38;5;241m=\u001b[39mdataset)\n",
      "File \u001b[0;32m/tmp/pip_packages/snowflake/ml/_internal/telemetry.py:327\u001b[0m, in \u001b[0;36msend_api_usage_telemetry.<locals>.decorator.<locals>.wrap\u001b[0;34m(*args, **kwargs)\u001b[0m\n\u001b[1;32m    325\u001b[0m     telemetry_args[\u001b[38;5;124m\"\u001b[39m\u001b[38;5;124merror_code\u001b[39m\u001b[38;5;124m\"\u001b[39m] \u001b[38;5;241m=\u001b[39m e\u001b[38;5;241m.\u001b[39merror_code\n\u001b[1;32m    326\u001b[0m     e\u001b[38;5;241m.\u001b[39moriginal_exception\u001b[38;5;241m.\u001b[39m_snowflake_ml_handled \u001b[38;5;241m=\u001b[39m \u001b[38;5;28;01mTrue\u001b[39;00m  \u001b[38;5;66;03m# type: ignore[attr-defined]\u001b[39;00m\n\u001b[0;32m--> 327\u001b[0m     \u001b[38;5;28;01mraise\u001b[39;00m e\u001b[38;5;241m.\u001b[39moriginal_exception \u001b[38;5;28;01mfrom\u001b[39;00m \u001b[38;5;21;01me\u001b[39;00m\n\u001b[1;32m    328\u001b[0m \u001b[38;5;28;01melse\u001b[39;00m:\n\u001b[1;32m    329\u001b[0m     \u001b[38;5;28;01mreturn\u001b[39;00m res\n",
      "\u001b[0;31mSnowparkSQLException\u001b[0m: (1300) (1304): 01af1b66-0503-cace-0072-f3030bf43e62: 100357 (P0000): Python Interpreter Error:\nTraceback (most recent call last):\n  File \"_udf_code.py\", line 90, in compute\n  File \"/tmp/pip_packages/snowflake/ml/modeling/_internal/snowpark_handlers.py\", line 90, in fit_wrapper_sproc\n  File \"/usr/lib/python_udf/47551a7bfd00f4b7db3a8f702d9cb264485e91e604075ad17c0dfcb8e138b05a/lib/python3.8/site-packages/snowflake/snowpark/_internal/telemetry.py\", line 76, in wrap\n    result = func(*args, **kwargs)\n  File \"/usr/lib/python_udf/47551a7bfd00f4b7db3a8f702d9cb264485e91e604075ad17c0dfcb8e138b05a/lib/python3.8/site-packages/snowflake/snowpark/dataframe.py\", line 492, in to_pandas\n    result = self._session._conn.execute(self._plan, to_pandas=True, **kwargs)\n  File \"/usr/lib/python_udf/47551a7bfd00f4b7db3a8f702d9cb264485e91e604075ad17c0dfcb8e138b05a/lib/python3.8/site-packages/snowflake/snowpark/_internal/server_connection.py\", line 354, in execute\n    result_set, result_meta = self.get_result_set(\n  File \"/usr/lib/python_udf/47551a7bfd00f4b7db3a8f702d9cb264485e91e604075ad17c0dfcb8e138b05a/lib/python3.8/site-packages/snowflake/snowpark/_internal/analyzer/snowflake_plan.py\", line 84, in wrap\n    return func(*args, **kwargs)\n  File \"/usr/lib/python_udf/47551a7bfd00f4b7db3a8f702d9cb264485e91e604075ad17c0dfcb8e138b05a/lib/python3.8/site-packages/snowflake/snowpark/_internal/server_connection.py\", line 390, in get_result_set\n    result = self.run_query(\n  File \"/usr/lib/python_udf/47551a7bfd00f4b7db3a8f702d9cb264485e91e604075ad17c0dfcb8e138b05a/lib/python3.8/site-packages/snowflake/snowpark/_internal/server_connection.py\", line 102, in wrap\n    raise ex\n  File \"/usr/lib/python_udf/47551a7bfd00f4b7db3a8f702d9cb264485e91e604075ad17c0dfcb8e138b05a/lib/python3.8/site-packages/snowflake/snowpark/_internal/server_connection.py\", line 95, in wrap\n    return func(*args, **kwargs)\n  File \"/usr/lib/python_udf/47551a7bfd00f4b7db3a8f702d9cb264485e91e604075ad17c0dfcb8e138b05a/lib/python3.8/site-packages/snowflake/snowpark/_internal/server_connection.py\", line 311, in run_query\n    raise ex\n  File \"/usr/lib/python_udf/47551a7bfd00f4b7db3a8f702d9cb264485e91e604075ad17c0dfcb8e138b05a/lib/python3.8/site-packages/snowflake/snowpark/_internal/server_connection.py\", line 304, in run_query\n    results_cursor = self._cursor.execute(query, **kwargs)\nTypeError: execute() got an unexpected keyword argument 'statement_params'\n in function SNOWPARK_TEMP_PROCEDURE_KWZI68PTG3 with handler compute"
     ]
    }
   ],
   "source": [
    "pipeline.fit(train_df)"
   ]
  },
  {
   "cell_type": "code",
   "execution_count": null,
   "id": "190b2fef",
   "metadata": {},
   "outputs": [],
   "source": [
    "result = pipeline.predict(test_df)"
   ]
  }
 ],
 "metadata": {
  "kernelspec": {
   "display_name": "Python 3",
   "language": "python",
   "name": "python3"
  },
  "language_info": {
   "codemirror_mode": {
    "name": "ipython",
    "version": 3
   },
   "file_extension": ".py",
   "mimetype": "text/x-python",
   "name": "python",
   "nbconvert_exporter": "python",
   "pygments_lexer": "ipython3",
   "version": "3.8.16"
  }
 },
 "nbformat": 4,
 "nbformat_minor": 5
}
