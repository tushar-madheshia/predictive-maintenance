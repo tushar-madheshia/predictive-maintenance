{
 "cells": [
  {
   "cell_type": "code",
   "execution_count": null,
   "id": "5f1ffb06",
   "metadata": {},
   "outputs": [],
   "source": [
    "# ! sudo pip install snowflake-ml-python==1.0.2 -U \n",
    "# ! pip install snowflake-snowpark-python==1.5.1 -U\n",
    "# ! pip install --upgrade xgboost==1.7.3"
   ]
  },
  {
   "cell_type": "code",
   "execution_count": 2,
   "id": "8056f652",
   "metadata": {},
   "outputs": [
    {
     "name": "stdout",
     "output_type": "stream",
     "text": [
      "Collecting xgboost==1.7.3\n",
      "\u001b[?25l  Downloading https://files.pythonhosted.org/packages/62/c9/479450f314a76925dfeac1bf23c53f06bd0f1a2a7185621a5ad1979dd139/xgboost-1.7.3-py3-none-manylinux2014_x86_64.whl (193.6MB)\n",
      "\u001b[K     |████████████████████████████████| 193.6MB 22kB/s /s eta 0:00:01\n",
      "\u001b[?25hCollecting scipy\n",
      "\u001b[?25l  Downloading https://files.pythonhosted.org/packages/69/f0/fb07a9548e48b687b8bf2fa81d71aba9cfc548d365046ca1c791e24db99d/scipy-1.10.1-cp38-cp38-manylinux_2_17_x86_64.manylinux2014_x86_64.whl (34.5MB)\n",
      "\u001b[K     |████████████████████████████████| 34.5MB 110.0MB/s eta 0:00:01\n",
      "\u001b[?25hCollecting numpy\n",
      "\u001b[?25l  Downloading https://files.pythonhosted.org/packages/98/5d/5738903efe0ecb73e51eb44feafba32bdba2081263d40c5043568ff60faf/numpy-1.24.4-cp38-cp38-manylinux_2_17_x86_64.manylinux2014_x86_64.whl (17.3MB)\n",
      "\u001b[K     |████████████████████████████████| 17.3MB 99.3MB/s eta 0:00:01\n",
      "\u001b[31mERROR: snowflake-ml-python 1.0.2 has requirement cryptography<39.0.0,>=3.1.0, but you'll have cryptography 41.0.4 which is incompatible.\u001b[0m\n",
      "\u001b[?25hInstalling collected packages: numpy, scipy, xgboost\n",
      "Successfully installed numpy-1.24.4 scipy-1.10.1 xgboost-1.7.3\n"
     ]
    }
   ],
   "source": []
  },
  {
   "cell_type": "code",
   "execution_count": 1,
   "id": "a49d8a69",
   "metadata": {},
   "outputs": [
    {
     "name": "stdout",
     "output_type": "stream",
     "text": [
      "Package                    Version     \r\n",
      "-------------------------- ------------\r\n",
      "absl-py                    1.4.0       \r\n",
      "aiohttp                    3.8.5       \r\n",
      "aiosignal                  1.3.1       \r\n",
      "alembic                    1.11.1      \r\n",
      "anyio                      3.7.0       \r\n",
      "argon2-cffi                21.3.0      \r\n",
      "argon2-cffi-bindings       21.2.0      \r\n",
      "asn1crypto                 1.5.1       \r\n",
      "asttokens                  2.2.1       \r\n",
      "async-generator            1.10        \r\n",
      "async-timeout              4.0.3       \r\n",
      "attrs                      23.1.0      \r\n",
      "Babel                      2.12.1      \r\n",
      "backcall                   0.2.0       \r\n",
      "beautifulsoup4             4.12.2      \r\n",
      "bleach                     4.1.0       \r\n",
      "boltons                    23.0.0      \r\n",
      "bqplot                     0.12.39     \r\n",
      "brotlipy                   0.7.0       \r\n",
      "certifi                    2023.7.22   \r\n",
      "certipy                    0.1.3       \r\n",
      "cffi                       1.15.1      \r\n",
      "charset-normalizer         3.2.0       \r\n",
      "cloudpickle                2.0.0       \r\n",
      "conda                      23.5.0      \r\n",
      "conda-package-handling     2.1.0       \r\n",
      "conda-package-streaming    0.8.0       \r\n",
      "cryptography               41.0.4      \r\n",
      "decorator                  5.1.1       \r\n",
      "defusedxml                 0.7.1       \r\n",
      "entrypoints                0.4         \r\n",
      "exceptiongroup             1.1.1       \r\n",
      "executing                  1.2.0       \r\n",
      "fastjsonschema             2.17.1      \r\n",
      "filelock                   3.12.4      \r\n",
      "frozenlist                 1.4.0       \r\n",
      "fsspec                     2023.1.0    \r\n",
      "greenlet                   2.0.2       \r\n",
      "idna                       3.4         \r\n",
      "importlib-metadata         6.7.0       \r\n",
      "importlib-resources        5.12.0      \r\n",
      "ipykernel                  5.5.5       \r\n",
      "ipython                    8.12.2      \r\n",
      "ipython-genutils           0.2.0       \r\n",
      "ipywidgets                 8.0.6       \r\n",
      "jedi                       0.18.2      \r\n",
      "Jinja2                     3.1.2       \r\n",
      "joblib                     1.3.2       \r\n",
      "json5                      0.9.14      \r\n",
      "jsonpatch                  1.32        \r\n",
      "jsonpointer                2.1         \r\n",
      "jsonschema                 3.2.0       \r\n",
      "jupyter-client             8.2.0       \r\n",
      "jupyter-core               5.3.1       \r\n",
      "jupyter-server             2.0.0a1     \r\n",
      "jupyter-server-terminals   0.4.4       \r\n",
      "jupyter-telemetry          0.1.0       \r\n",
      "jupyterhub                 1.5.0       \r\n",
      "jupyterlab                 3.2.4       \r\n",
      "jupyterlab-pygments        0.2.2       \r\n",
      "jupyterlab-server          2.23.0      \r\n",
      "jupyterlab-widgets         3.0.7       \r\n",
      "Mako                       1.2.4       \r\n",
      "MarkupSafe                 2.1.3       \r\n",
      "matplotlib-inline          0.1.6       \r\n",
      "mistune                    3.0.1       \r\n",
      "multidict                  6.0.4       \r\n",
      "nbclassic                  0.5.6       \r\n",
      "nbclient                   0.5.4       \r\n",
      "nbconvert                  7.6.0       \r\n",
      "nbformat                   5.9.0       \r\n",
      "nest-asyncio               1.5.6       \r\n",
      "notebook                   6.4.10      \r\n",
      "notebook-shim              0.2.3       \r\n",
      "numpy                      1.24.4      \r\n",
      "oauthlib                   3.2.2       \r\n",
      "oscrypto                   1.3.0       \r\n",
      "packaging                  23.1        \r\n",
      "pamela                     1.1.0       \r\n",
      "pandas                     1.5.3       \r\n",
      "pandocfilters              1.5.0       \r\n",
      "parso                      0.8.3       \r\n",
      "pexpect                    4.8.0       \r\n",
      "pickleshare                0.7.5       \r\n",
      "pip                        19.3.1      \r\n",
      "platformdirs               3.8.1       \r\n",
      "pluggy                     1.0.0       \r\n",
      "prometheus-client          0.17.0      \r\n",
      "prompt-toolkit             3.0.38      \r\n",
      "ptyprocess                 0.7.0       \r\n",
      "pure-eval                  0.2.2       \r\n",
      "pyarrow                    10.0.1      \r\n",
      "pycosat                    0.6.4       \r\n",
      "pycparser                  2.21        \r\n",
      "pycryptodomex              3.19.0      \r\n",
      "Pygments                   2.15.1      \r\n",
      "PyJWT                      2.8.0       \r\n",
      "pyOpenSSL                  23.2.0      \r\n",
      "pyrsistent                 0.19.3      \r\n",
      "PySocks                    1.7.1       \r\n",
      "python-dateutil            2.8.2       \r\n",
      "python-json-logger         2.0.7       \r\n",
      "pytz                       2023.3.post1\r\n",
      "PyYAML                     6.0.1       \r\n",
      "pyzmq                      25.1.0      \r\n",
      "requests                   2.31.0      \r\n",
      "ruamel-yaml-conda          0.15.100    \r\n",
      "ruamel.yaml                0.16.9      \r\n",
      "ruamel.yaml.clib           0.2.6       \r\n",
      "scikit-learn               1.3.0       \r\n",
      "scipy                      1.10.1      \r\n",
      "Send2Trash                 1.8.2       \r\n",
      "setuptools                 68.2.2      \r\n",
      "six                        1.16.0      \r\n",
      "sniffio                    1.3.0       \r\n",
      "snowflake-connector-python 3.2.0       \r\n",
      "snowflake-ml-python        1.0.2       \r\n",
      "snowflake-snowpark-python  1.5.1       \r\n",
      "sortedcontainers           2.4.0       \r\n",
      "soupsieve                  2.4.1       \r\n",
      "SQLAlchemy                 2.0.16      \r\n",
      "sqlparse                   0.4.4       \r\n",
      "stack-data                 0.6.2       \r\n",
      "terminado                  0.17.1      \r\n",
      "threadpoolctl              3.2.0       \r\n",
      "tinycss2                   1.2.1       \r\n",
      "tomlkit                    0.12.1      \r\n",
      "toolz                      0.12.0      \r\n",
      "tornado                    6.3.2       \r\n",
      "tqdm                       4.65.0      \r\n",
      "traitlets                  5.9.0       \r\n",
      "traittypes                 0.2.1       \r\n",
      "typing-extensions          4.8.0       \r\n",
      "tzdata                     2023.3      \r\n",
      "urllib3                    1.26.16     \r\n",
      "wcwidth                    0.2.6       \r\n",
      "webencodings               0.5.1       \r\n",
      "websocket-client           1.6.0       \r\n",
      "wheel                      0.41.2      \r\n",
      "widgetsnbextension         4.0.7       \r\n",
      "xgboost                    1.7.3       \r\n",
      "yarl                       1.9.2       \r\n",
      "zipp                       3.15.0      \r\n",
      "zstandard                  0.19.0      \r\n"
     ]
    }
   ],
   "source": [
    "! pip list"
   ]
  },
  {
   "cell_type": "code",
   "execution_count": 1,
   "id": "69108f14",
   "metadata": {},
   "outputs": [],
   "source": [
    "from snowflake.ml.modeling.pipeline import Pipeline\n",
    "from snowflake.ml.modeling.xgboost import XGBClassifier\n",
    "from snowflake.ml.modeling.linear_model import SGDClassifier\n",
    "from snowflake.ml.modeling.preprocessing import MinMaxScaler, OrdinalEncoder, OneHotEncoder\n",
    "from sklearn.metrics import mean_absolute_percentage_error"
   ]
  },
  {
   "cell_type": "code",
   "execution_count": 2,
   "id": "77a2bea6",
   "metadata": {},
   "outputs": [],
   "source": [
    "from snowflake.snowpark import Session\n",
    "import configparser\n",
    "def get_session():\n",
    "    parser = configparser.ConfigParser()\n",
    "    # Add the credential file name here\n",
    "    parser.read('/notebooks/notebooks/config.ini')\n",
    "\n",
    "    connection_params = dict(user=parser['Credentials']['user'], \n",
    "                         password=parser['Credentials']['password'], \n",
    "                         account=parser['Credentials']['account'], \n",
    "                         warehouse=parser['Credentials']['warehouse'], \n",
    "                         database=parser['Credentials']['database'],\n",
    "                         schema=parser['Credentials']['schema'], \n",
    "                         role=parser['Credentials']['role'])\n",
    "\n",
    "    session = Session.builder.configs(connection_params).create()\n",
    "    return session\n",
    "\n"
   ]
  },
  {
   "cell_type": "code",
   "execution_count": 3,
   "id": "78e3def1",
   "metadata": {},
   "outputs": [],
   "source": [
    "session = get_session()"
   ]
  },
  {
   "cell_type": "markdown",
   "id": "0710059b",
   "metadata": {},
   "source": [
    "# Model Building\n",
    "### Load the final data from snowflake table"
   ]
  },
  {
   "cell_type": "code",
   "execution_count": 4,
   "id": "292103e6",
   "metadata": {},
   "outputs": [],
   "source": [
    "table_name = 'predictive_maintenance_final'"
   ]
  },
  {
   "cell_type": "code",
   "execution_count": 5,
   "id": "e89dd19d",
   "metadata": {},
   "outputs": [],
   "source": [
    "sf_df = session.table(table_name).drop('ROW')"
   ]
  },
  {
   "cell_type": "code",
   "execution_count": 6,
   "id": "026a3abf",
   "metadata": {},
   "outputs": [
    {
     "name": "stdout",
     "output_type": "stream",
     "text": [
      "-------------------------------------------------------------------------------------------------------------------------------------------------------------------------------------------------------------------------------------\n",
      "|\"FAILURE\"  |\"METRIC5\"  |\"METRIC6\"  |\"DAY\"  |\"DAY_WEEK\"  |\"SECTOR\"  |\"OP_PERIOD\"  |\"DEV_RECONNECTED\"  |\"MNW1\"    |\"DIF_M6\"  |\"DIF_M5\"  |\"LOG_M2\"           |\"LOG_M3\"            |\"LOG_M4\"            |\"LOG_M7\"  |\"LOG_M9\"           |\n",
      "-------------------------------------------------------------------------------------------------------------------------------------------------------------------------------------------------------------------------------------\n",
      "|0          |6          |407438     |1      |3           |S1F0      |1            |0                  |26953834  |0         |0         |2.079441541679836  |0.0                 |3.9702919135521215  |0.0       |2.079441541679836  |\n",
      "|0          |6          |403174     |1      |3           |S1F0      |1            |0                  |7671335   |0         |0         |0.0                |1.3862943611198906  |0.0                 |0.0       |0.0                |\n",
      "|0          |12         |237394     |1      |3           |S1F0      |1            |0                  |21661996  |0         |0         |0.0                |0.0                 |0.0                 |0.0       |0.0                |\n",
      "-------------------------------------------------------------------------------------------------------------------------------------------------------------------------------------------------------------------------------------\n",
      "\n"
     ]
    }
   ],
   "source": [
    "sf_df.show(3)"
   ]
  },
  {
   "cell_type": "code",
   "execution_count": 8,
   "id": "366cf3ab",
   "metadata": {},
   "outputs": [],
   "source": [
    "a = sf_df.to_pandas()"
   ]
  },
  {
   "cell_type": "code",
   "execution_count": 9,
   "id": "424fe2af",
   "metadata": {},
   "outputs": [
    {
     "data": {
      "text/plain": [
       "['FAILURE',\n",
       " 'METRIC5',\n",
       " 'METRIC6',\n",
       " 'DAY',\n",
       " 'DAY_WEEK',\n",
       " 'SECTOR',\n",
       " 'OP_PERIOD',\n",
       " 'DEV_RECONNECTED',\n",
       " 'MNW1',\n",
       " 'DIF_M6',\n",
       " 'DIF_M5',\n",
       " 'LOG_M2',\n",
       " 'LOG_M3',\n",
       " 'LOG_M4',\n",
       " 'LOG_M7',\n",
       " 'LOG_M9']"
      ]
     },
     "execution_count": 9,
     "metadata": {},
     "output_type": "execute_result"
    }
   ],
   "source": [
    "list(a.columns)"
   ]
  },
  {
   "cell_type": "code",
   "execution_count": 10,
   "id": "f120d746",
   "metadata": {},
   "outputs": [
    {
     "data": {
      "text/html": [
       "<div>\n",
       "<style scoped>\n",
       "    .dataframe tbody tr th:only-of-type {\n",
       "        vertical-align: middle;\n",
       "    }\n",
       "\n",
       "    .dataframe tbody tr th {\n",
       "        vertical-align: top;\n",
       "    }\n",
       "\n",
       "    .dataframe thead th {\n",
       "        text-align: right;\n",
       "    }\n",
       "</style>\n",
       "<table border=\"1\" class=\"dataframe\">\n",
       "  <thead>\n",
       "    <tr style=\"text-align: right;\">\n",
       "      <th></th>\n",
       "      <th>FAILURE</th>\n",
       "      <th>METRIC5</th>\n",
       "      <th>METRIC6</th>\n",
       "      <th>DAY</th>\n",
       "      <th>DAY_WEEK</th>\n",
       "      <th>SECTOR</th>\n",
       "      <th>OP_PERIOD</th>\n",
       "      <th>DEV_RECONNECTED</th>\n",
       "      <th>MNW1</th>\n",
       "      <th>DIF_M6</th>\n",
       "      <th>DIF_M5</th>\n",
       "      <th>LOG_M2</th>\n",
       "      <th>LOG_M3</th>\n",
       "      <th>LOG_M4</th>\n",
       "      <th>LOG_M7</th>\n",
       "      <th>LOG_M9</th>\n",
       "    </tr>\n",
       "  </thead>\n",
       "  <tbody>\n",
       "    <tr>\n",
       "      <th>0</th>\n",
       "      <td>0</td>\n",
       "      <td>6</td>\n",
       "      <td>407438</td>\n",
       "      <td>1</td>\n",
       "      <td>3</td>\n",
       "      <td>S1F0</td>\n",
       "      <td>1</td>\n",
       "      <td>0</td>\n",
       "      <td>26953834</td>\n",
       "      <td>0</td>\n",
       "      <td>0</td>\n",
       "      <td>2.079442</td>\n",
       "      <td>0.000000</td>\n",
       "      <td>3.970292</td>\n",
       "      <td>0.0</td>\n",
       "      <td>2.079442</td>\n",
       "    </tr>\n",
       "    <tr>\n",
       "      <th>1</th>\n",
       "      <td>0</td>\n",
       "      <td>6</td>\n",
       "      <td>403174</td>\n",
       "      <td>1</td>\n",
       "      <td>3</td>\n",
       "      <td>S1F0</td>\n",
       "      <td>1</td>\n",
       "      <td>0</td>\n",
       "      <td>7671335</td>\n",
       "      <td>0</td>\n",
       "      <td>0</td>\n",
       "      <td>0.000000</td>\n",
       "      <td>1.386294</td>\n",
       "      <td>0.000000</td>\n",
       "      <td>0.0</td>\n",
       "      <td>0.000000</td>\n",
       "    </tr>\n",
       "    <tr>\n",
       "      <th>2</th>\n",
       "      <td>0</td>\n",
       "      <td>12</td>\n",
       "      <td>237394</td>\n",
       "      <td>1</td>\n",
       "      <td>3</td>\n",
       "      <td>S1F0</td>\n",
       "      <td>1</td>\n",
       "      <td>0</td>\n",
       "      <td>21661996</td>\n",
       "      <td>0</td>\n",
       "      <td>0</td>\n",
       "      <td>0.000000</td>\n",
       "      <td>0.000000</td>\n",
       "      <td>0.000000</td>\n",
       "      <td>0.0</td>\n",
       "      <td>0.000000</td>\n",
       "    </tr>\n",
       "    <tr>\n",
       "      <th>3</th>\n",
       "      <td>0</td>\n",
       "      <td>6</td>\n",
       "      <td>410186</td>\n",
       "      <td>1</td>\n",
       "      <td>3</td>\n",
       "      <td>S1F0</td>\n",
       "      <td>1</td>\n",
       "      <td>0</td>\n",
       "      <td>9961753</td>\n",
       "      <td>0</td>\n",
       "      <td>0</td>\n",
       "      <td>0.000000</td>\n",
       "      <td>0.000000</td>\n",
       "      <td>0.000000</td>\n",
       "      <td>0.0</td>\n",
       "      <td>0.000000</td>\n",
       "    </tr>\n",
       "    <tr>\n",
       "      <th>4</th>\n",
       "      <td>0</td>\n",
       "      <td>15</td>\n",
       "      <td>313173</td>\n",
       "      <td>1</td>\n",
       "      <td>3</td>\n",
       "      <td>S1F0</td>\n",
       "      <td>1</td>\n",
       "      <td>0</td>\n",
       "      <td>16996310</td>\n",
       "      <td>0</td>\n",
       "      <td>0</td>\n",
       "      <td>0.000000</td>\n",
       "      <td>0.000000</td>\n",
       "      <td>0.000000</td>\n",
       "      <td>0.0</td>\n",
       "      <td>1.386294</td>\n",
       "    </tr>\n",
       "  </tbody>\n",
       "</table>\n",
       "</div>"
      ],
      "text/plain": [
       "   FAILURE  METRIC5  METRIC6  DAY  DAY_WEEK SECTOR  OP_PERIOD  \\\n",
       "0        0        6   407438    1         3   S1F0          1   \n",
       "1        0        6   403174    1         3   S1F0          1   \n",
       "2        0       12   237394    1         3   S1F0          1   \n",
       "3        0        6   410186    1         3   S1F0          1   \n",
       "4        0       15   313173    1         3   S1F0          1   \n",
       "\n",
       "   DEV_RECONNECTED      MNW1  DIF_M6  DIF_M5    LOG_M2    LOG_M3    LOG_M4  \\\n",
       "0                0  26953834       0       0  2.079442  0.000000  3.970292   \n",
       "1                0   7671335       0       0  0.000000  1.386294  0.000000   \n",
       "2                0  21661996       0       0  0.000000  0.000000  0.000000   \n",
       "3                0   9961753       0       0  0.000000  0.000000  0.000000   \n",
       "4                0  16996310       0       0  0.000000  0.000000  0.000000   \n",
       "\n",
       "   LOG_M7    LOG_M9  \n",
       "0     0.0  2.079442  \n",
       "1     0.0  0.000000  \n",
       "2     0.0  0.000000  \n",
       "3     0.0  0.000000  \n",
       "4     0.0  1.386294  "
      ]
     },
     "execution_count": 10,
     "metadata": {},
     "output_type": "execute_result"
    }
   ],
   "source": [
    "a.head()"
   ]
  },
  {
   "cell_type": "code",
   "execution_count": 7,
   "id": "9804df34",
   "metadata": {},
   "outputs": [],
   "source": [
    "CATEGORICAL_COLUMNS = [\"SECTOR\"]\n",
    "CATEGORICAL_COLUMNS_OE = [\"SECTOR_OE\"]\n",
    "NUMERICAL_COLUMNS = ['METRIC5','METRIC6','DAY','DAY_WEEK','OP_PERIOD','MNW1','DIF_M6','DIF_M5','LOG_M2',\n",
    " 'LOG_M3','LOG_M4','LOG_M7','LOG_M9']\n",
    "LABEL_COLUMNS = [\"FAILURE\"]\n",
    "OUTPUT_COLUMNS = [\"PREDICTION\"]"
   ]
  },
  {
   "cell_type": "code",
   "execution_count": 8,
   "id": "5b387852",
   "metadata": {},
   "outputs": [],
   "source": [
    "train_df, test_df = sf_df.random_split([0.8,0.2])"
   ]
  },
  {
   "cell_type": "code",
   "execution_count": 9,
   "id": "24af2f25",
   "metadata": {},
   "outputs": [
    {
     "name": "stdout",
     "output_type": "stream",
     "text": [
      "-------------------------------------------------------------------------------------------------------------------------------------------------------------------------------------------------------------------------------------\n",
      "|\"FAILURE\"  |\"METRIC5\"  |\"METRIC6\"  |\"DAY\"  |\"DAY_WEEK\"  |\"SECTOR\"  |\"OP_PERIOD\"  |\"DEV_RECONNECTED\"  |\"MNW1\"    |\"DIF_M6\"  |\"DIF_M5\"  |\"LOG_M2\"           |\"LOG_M3\"            |\"LOG_M4\"            |\"LOG_M7\"  |\"LOG_M9\"           |\n",
      "-------------------------------------------------------------------------------------------------------------------------------------------------------------------------------------------------------------------------------------\n",
      "|0          |6          |407438     |1      |3           |S1F0      |1            |0                  |26953834  |0         |0         |2.079441541679836  |0.0                 |3.9702919135521215  |0.0       |2.079441541679836  |\n",
      "|0          |6          |403174     |1      |3           |S1F0      |1            |0                  |7671335   |0         |0         |0.0                |1.3862943611198906  |0.0                 |0.0       |0.0                |\n",
      "|0          |12         |237394     |1      |3           |S1F0      |1            |0                  |21661996  |0         |0         |0.0                |0.0                 |0.0                 |0.0       |0.0                |\n",
      "-------------------------------------------------------------------------------------------------------------------------------------------------------------------------------------------------------------------------------------\n",
      "\n"
     ]
    }
   ],
   "source": [
    "train_df.show(3)"
   ]
  },
  {
   "cell_type": "markdown",
   "id": "43a89f16",
   "metadata": {},
   "source": [
    "Create a pipeline with preprocessing steps and model definition"
   ]
  },
  {
   "cell_type": "code",
   "execution_count": 10,
   "id": "b0578699",
   "metadata": {},
   "outputs": [],
   "source": [
    "pipeline = Pipeline(\n",
    "    steps=[\n",
    "            (\n",
    "                \"OHE\",\n",
    "                OrdinalEncoder(\n",
    "                input_cols=CATEGORICAL_COLUMNS,\n",
    "                output_cols=CATEGORICAL_COLUMNS_OE\n",
    "                )\n",
    "            ),\n",
    "            (\n",
    "                \"MMS\",\n",
    "                MinMaxScaler(\n",
    "                clip=True,\n",
    "                input_cols=NUMERICAL_COLUMNS,\n",
    "                output_cols=NUMERICAL_COLUMNS,\n",
    "                )\n",
    "            ),\n",
    "            (\n",
    "                \"classification\",\n",
    "                SGDClassifier(\n",
    "                input_cols=NUMERICAL_COLUMNS + CATEGORICAL_COLUMNS_OE + ['DEV_RECONNECTED'],\n",
    "                label_cols=LABEL_COLUMNS,\n",
    "                output_cols=OUTPUT_COLUMNS\n",
    "                )\n",
    "            )\n",
    "    ]\n",
    ")"
   ]
  },
  {
   "cell_type": "code",
   "execution_count": 11,
   "id": "e603dec8",
   "metadata": {},
   "outputs": [
    {
     "name": "stderr",
     "output_type": "stream",
     "text": [
      "The version of package numpy in the local environment is 1.24.4, which does not fit the criteria for the requirement numpy==1.24.3. Your UDF might not work when the package version is different between the server and your local environment\n"
     ]
    },
    {
     "data": {
      "text/plain": [
       "<snowflake.ml.modeling.pipeline.pipeline.Pipeline at 0x7f730b9acb20>"
      ]
     },
     "execution_count": 11,
     "metadata": {},
     "output_type": "execute_result"
    }
   ],
   "source": [
    "pipeline.fit(train_df)"
   ]
  },
  {
   "cell_type": "code",
   "execution_count": 12,
   "id": "190b2fef",
   "metadata": {
    "scrolled": true
   },
   "outputs": [
    {
     "name": "stderr",
     "output_type": "stream",
     "text": [
      "The version of package numpy in the local environment is 1.24.4, which does not fit the criteria for the requirement numpy==1.24.3. Your UDF might not work when the package version is different between the server and your local environment\n"
     ]
    }
   ],
   "source": [
    "result = pipeline.predict(test_df)"
   ]
  },
  {
   "cell_type": "code",
   "execution_count": 20,
   "id": "2c9c0c48",
   "metadata": {},
   "outputs": [],
   "source": [
    "y_true = sf_df.to_pandas()[\"FAILURE\"]"
   ]
  },
  {
   "cell_type": "code",
   "execution_count": 22,
   "id": "25dd5af0",
   "metadata": {},
   "outputs": [
    {
     "name": "stderr",
     "output_type": "stream",
     "text": [
      "/opt/conda/lib/python3.8/site-packages/sklearn/metrics/_classification.py:1469: UndefinedMetricWarning: Precision and F-score are ill-defined and being set to 0.0 in labels with no predicted samples. Use `zero_division` parameter to control this behavior.\n",
      "  _warn_prf(average, modifier, msg_start, len(result))\n",
      "/opt/conda/lib/python3.8/site-packages/sklearn/metrics/_classification.py:1469: UndefinedMetricWarning: Precision and F-score are ill-defined and being set to 0.0 in labels with no predicted samples. Use `zero_division` parameter to control this behavior.\n",
      "  _warn_prf(average, modifier, msg_start, len(result))\n",
      "/opt/conda/lib/python3.8/site-packages/sklearn/metrics/_classification.py:1469: UndefinedMetricWarning: Precision and F-score are ill-defined and being set to 0.0 in labels with no predicted samples. Use `zero_division` parameter to control this behavior.\n",
      "  _warn_prf(average, modifier, msg_start, len(result))\n"
     ]
    }
   ],
   "source": [
    "from sklearn.metrics import confusion_matrix,log_loss,classification_report\n",
    "report = classification_report(y_true,y_pred, output_dict=True)"
   ]
  },
  {
   "cell_type": "code",
   "execution_count": 23,
   "id": "32a87eaa",
   "metadata": {},
   "outputs": [
    {
     "data": {
      "text/plain": [
       "{'0': {'precision': 0.9989718545174142,\n",
       "  'recall': 1.0,\n",
       "  'f1-score': 0.9994856628519995,\n",
       "  'support': 23319.0},\n",
       " '1': {'precision': 0.0, 'recall': 0.0, 'f1-score': 0.0, 'support': 24.0},\n",
       " 'accuracy': 0.9989718545174142,\n",
       " 'macro avg': {'precision': 0.4994859272587071,\n",
       "  'recall': 0.5,\n",
       "  'f1-score': 0.49974283142599973,\n",
       "  'support': 23343.0},\n",
       " 'weighted avg': {'precision': 0.9979447661179618,\n",
       "  'recall': 0.9989718545174142,\n",
       "  'f1-score': 0.9984580461828289,\n",
       "  'support': 23343.0}}"
      ]
     },
     "execution_count": 23,
     "metadata": {},
     "output_type": "execute_result"
    }
   ],
   "source": [
    "report"
   ]
  },
  {
   "cell_type": "markdown",
   "id": "b103dc52",
   "metadata": {},
   "source": [
    "# Model Registry"
   ]
  },
  {
   "cell_type": "code",
   "execution_count": 24,
   "id": "af8e37cf",
   "metadata": {},
   "outputs": [],
   "source": [
    "from snowflake.snowpark import Session, Column, functions"
   ]
  },
  {
   "cell_type": "code",
   "execution_count": 25,
   "id": "98dd5df8",
   "metadata": {},
   "outputs": [],
   "source": [
    "REGISTRY_DATABASE_NAME = \"MODEL_REGISTRY_SNOWFRACT\"\n",
    "REGISTRY_SCHEMA_NAME = \"SNOWFRACT\""
   ]
  },
  {
   "cell_type": "code",
   "execution_count": 26,
   "id": "58c2a31a",
   "metadata": {},
   "outputs": [],
   "source": [
    "from snowflake.ml.registry import model_registry"
   ]
  },
  {
   "cell_type": "code",
   "execution_count": 28,
   "id": "25bec723",
   "metadata": {},
   "outputs": [],
   "source": [
    "# create session with account admin access\n",
    "session = get_session()"
   ]
  },
  {
   "cell_type": "code",
   "execution_count": 29,
   "id": "619c7696",
   "metadata": {},
   "outputs": [
    {
     "name": "stderr",
     "output_type": "stream",
     "text": [
      "WARNING:absl:The database MODEL_REGISTRY_SNOWFRACT already exists. Skipping creation.\n",
      "WARNING:absl:The schmea \"MODEL_REGISTRY_SNOWFRACT\".\"SNOWFRACT\" already exists. Skipping creation.\n"
     ]
    },
    {
     "data": {
      "text/plain": [
       "True"
      ]
     },
     "execution_count": 29,
     "metadata": {},
     "output_type": "execute_result"
    }
   ],
   "source": [
    "model_registry.create_model_registry(session=session, database_name=REGISTRY_DATABASE_NAME, schema_name=REGISTRY_SCHEMA_NAME)"
   ]
  },
  {
   "cell_type": "code",
   "execution_count": 30,
   "id": "d4fa7124",
   "metadata": {},
   "outputs": [],
   "source": [
    "registry = model_registry.ModelRegistry(session=session, database_name=REGISTRY_DATABASE_NAME, schema_name=REGISTRY_SCHEMA_NAME)"
   ]
  },
  {
   "cell_type": "code",
   "execution_count": 31,
   "id": "3defb1ee",
   "metadata": {},
   "outputs": [
    {
     "name": "stderr",
     "output_type": "stream",
     "text": [
      "WARNING:snowflake.snowpark:ModelRegistry.get_history() is in private preview since 0.2.0. Do not use it in production. \n"
     ]
    },
    {
     "name": "stdout",
     "output_type": "stream",
     "text": [
      "-----------------------------------------------------------------------------------------------------------------------------------------------------------------------------------------------------------------\n",
      "|\"EVENT_TIMESTAMP\"                 |\"EVENT_ID\"                        |\"MODEL_ID\"                        |\"ROLE\"          |\"OPERATION\"  |\"ATTRIBUTE_NAME\"  |\"VALUE[ATTRIBUTE_NAME]\"                             |\n",
      "-----------------------------------------------------------------------------------------------------------------------------------------------------------------------------------------------------------------\n",
      "|2023-08-03 11:37:47.031000+00:00  |2b1437f231f211eeab49c6770d61e4f3  |29da402031f211eeab49c6770d61e4f3  |\"ACCOUNTADMIN\"  |SET          |REGISTRATION      |{                                                   |\n",
      "|                                  |                                  |                                  |                |             |                  |  \"CREATION_ENVIRONMENT_SPEC\": {                    |\n",
      "|                                  |                                  |                                  |                |             |                  |    \"python\": \"3.8.12\"                              |\n",
      "|                                  |                                  |                                  |                |             |                  |  },                                                |\n",
      "|                                  |                                  |                                  |                |             |                  |  \"CREATION_ROLE\": \"\\\"ACCOUNTADMIN\\\"\",              |\n",
      "|                                  |                                  |                                  |                |             |                  |  \"CREATION_TIME\": \"2023-08-03 11:37:47.031 Z\",     |\n",
      "|                                  |                                  |                                  |                |             |                  |  \"ID\": \"29da402031f211eeab49c6770d61e4f3\",         |\n",
      "|                                  |                                  |                                  |                |             |                  |  \"NAME\": \"ChurnPrediction\",                        |\n",
      "|                                  |                                  |                                  |                |             |                  |  \"TYPE\": \"snowml\",                                 |\n",
      "|                                  |                                  |                                  |                |             |                  |  \"URI\": \"sfc:MODEL_REGISTRY_SNOWFRACT.SNOWFRAC...  |\n",
      "|                                  |                                  |                                  |                |             |                  |  \"VERSION\": \"ee9215ef16a2c0fe34d17f557600a34b\"     |\n",
      "|                                  |                                  |                                  |                |             |                  |}                                                   |\n",
      "|2023-08-03 11:37:47.979000+00:00  |2ba628e231f211eeab49c6770d61e4f3  |29da402031f211eeab49c6770d61e4f3  |\"ACCOUNTADMIN\"  |SET          |TAGS              |{                                                   |\n",
      "|                                  |                                  |                                  |                |             |                  |  \"classifier_type\": \"xgboost\",                     |\n",
      "|                                  |                                  |                                  |                |             |                  |  \"stage\": \"testing\"                                |\n",
      "|                                  |                                  |                                  |                |             |                  |}                                                   |\n",
      "|2023-08-09 07:29:33.065000+00:00  |7c10ddb6368611ee8a6cba04da2ab610  |29da402031f211eeab49c6770d61e4f3  |\"ACCOUNTADMIN\"  |SET          |METRICS           |{                                                   |\n",
      "|                                  |                                  |                                  |                |             |                  |  \"classification_report\": \"NA\"                     |\n",
      "|                                  |                                  |                                  |                |             |                  |}                                                   |\n",
      "|2023-08-17 11:22:04.341000+00:00  |4afa87c03cf011ee8afe22df4b63f4a1  |495c6e9c3cf011ee8afe22df4b63f4a1  |\"ACCOUNTADMIN\"  |SET          |REGISTRATION      |{                                                   |\n",
      "|                                  |                                  |                                  |                |             |                  |  \"CREATION_ENVIRONMENT_SPEC\": {                    |\n",
      "|                                  |                                  |                                  |                |             |                  |    \"python\": \"3.8.12\"                              |\n",
      "|                                  |                                  |                                  |                |             |                  |  },                                                |\n",
      "|                                  |                                  |                                  |                |             |                  |  \"CREATION_ROLE\": \"\\\"ACCOUNTADMIN\\\"\",              |\n",
      "|                                  |                                  |                                  |                |             |                  |  \"CREATION_TIME\": \"2023-08-17 11:22:04.341 Z\",     |\n",
      "|                                  |                                  |                                  |                |             |                  |  \"ID\": \"495c6e9c3cf011ee8afe22df4b63f4a1\",         |\n",
      "|                                  |                                  |                                  |                |             |                  |  \"NAME\": \"ChurnPrediction\",                        |\n",
      "|                                  |                                  |                                  |                |             |                  |  \"TYPE\": \"snowml\",                                 |\n",
      "|                                  |                                  |                                  |                |             |                  |  \"URI\": \"sfc:MODEL_REGISTRY_SNOWFRACT.SNOWFRAC...  |\n",
      "|                                  |                                  |                                  |                |             |                  |  \"VERSION\": \"ee9215ef16a2c0fe34d17f557600a35b\"     |\n",
      "|                                  |                                  |                                  |                |             |                  |}                                                   |\n",
      "|2023-08-17 11:22:05.578000+00:00  |4bb799f03cf011ee8afe22df4b63f4a1  |495c6e9c3cf011ee8afe22df4b63f4a1  |\"ACCOUNTADMIN\"  |SET          |TAGS              |{                                                   |\n",
      "|                                  |                                  |                                  |                |             |                  |  \"classifier_type\": \"xgboost\",                     |\n",
      "|                                  |                                  |                                  |                |             |                  |  \"stage\": \"testing\"                                |\n",
      "|                                  |                                  |                                  |                |             |                  |}                                                   |\n",
      "|2023-08-21 07:19:57.339000+00:00  |21dd17583ff311ee89fa628aca6d24dc  |200e68963ff311ee89fa628aca6d24dc  |\"ACCOUNTADMIN\"  |SET          |REGISTRATION      |{                                                   |\n",
      "|                                  |                                  |                                  |                |             |                  |  \"CREATION_ENVIRONMENT_SPEC\": {                    |\n",
      "|                                  |                                  |                                  |                |             |                  |    \"python\": \"3.8.12\"                              |\n",
      "|                                  |                                  |                                  |                |             |                  |  },                                                |\n",
      "|                                  |                                  |                                  |                |             |                  |  \"CREATION_ROLE\": \"\\\"ACCOUNTADMIN\\\"\",              |\n",
      "|                                  |                                  |                                  |                |             |                  |  \"CREATION_TIME\": \"2023-08-21 07:19:57.339 Z\",     |\n",
      "|                                  |                                  |                                  |                |             |                  |  \"ID\": \"200e68963ff311ee89fa628aca6d24dc\",         |\n",
      "|                                  |                                  |                                  |                |             |                  |  \"NAME\": \"ChurnPrediction\",                        |\n",
      "|                                  |                                  |                                  |                |             |                  |  \"TYPE\": \"snowml\",                                 |\n",
      "|                                  |                                  |                                  |                |             |                  |  \"URI\": \"sfc:MODEL_REGISTRY_SNOWFRACT.SNOWFRAC...  |\n",
      "|                                  |                                  |                                  |                |             |                  |  \"VERSION\": \"ee9215ef16a2c0fe34d17f557600a36c\"     |\n",
      "|                                  |                                  |                                  |                |             |                  |}                                                   |\n",
      "|2023-08-21 07:19:58.928000+00:00  |22cf7ba63ff311ee89fa628aca6d24dc  |200e68963ff311ee89fa628aca6d24dc  |\"ACCOUNTADMIN\"  |SET          |TAGS              |{                                                   |\n",
      "|                                  |                                  |                                  |                |             |                  |  \"classifier_type\": \"xgboost\",                     |\n",
      "|                                  |                                  |                                  |                |             |                  |  \"stage\": \"testing\"                                |\n",
      "|                                  |                                  |                                  |                |             |                  |}                                                   |\n",
      "|2023-08-21 07:46:39.669000+00:00  |dcec17da3ff611ee89fa628aca6d24dc  |200e68963ff311ee89fa628aca6d24dc  |\"ACCOUNTADMIN\"  |SET          |METRICS           |{                                                   |\n",
      "|                                  |                                  |                                  |                |             |                  |  \"confusion_matrix\": [                             |\n",
      "|                                  |                                  |                                  |                |             |                  |    [                                               |\n",
      "|                                  |                                  |                                  |                |             |                  |      1477,                                         |\n",
      "|                                  |                                  |                                  |                |             |                  |      94                                            |\n",
      "|                                  |                                  |                                  |                |             |                  |    ],                                              |\n",
      "|                                  |                                  |                                  |                |             |                  |    [                                               |\n",
      "|                                  |                                  |                                  |                |             |                  |      208,                                          |\n",
      "|                                  |                                  |                                  |                |             |                  |      167                                           |\n",
      "|                                  |                                  |                                  |                |             |                  |    ]                                               |\n",
      "|                                  |                                  |                                  |                |             |                  |  ]                                                 |\n",
      "|                                  |                                  |                                  |                |             |                  |}                                                   |\n",
      "|2023-08-21 07:50:43.437000+00:00  |6e3964cc3ff711ee89fa628aca6d24dc  |200e68963ff311ee89fa628aca6d24dc  |\"ACCOUNTADMIN\"  |SET          |METRICS           |{                                                   |\n",
      "|                                  |                                  |                                  |                |             |                  |  \"classification_report\": {                        |\n",
      "|                                  |                                  |                                  |                |             |                  |    \"accuracy\": 0.8448098663926003,                 |\n",
      "|                                  |                                  |                                  |                |             |                  |    \"exit\": {                                       |\n",
      "|                                  |                                  |                                  |                |             |                  |      \"f1-score\": 0.5251572327044026,               |\n",
      "|                                  |                                  |                                  |                |             |                  |      \"precision\": 0.6398467432950191,              |\n",
      "|                                  |                                  |                                  |                |             |                  |      \"recall\": 0.44533333333333336,                |\n",
      "|                                  |                                  |                                  |                |             |                  |      \"support\": 375                                |\n",
      "|                                  |                                  |                                  |                |             |                  |    },                                              |\n",
      "|                                  |                                  |                                  |                |             |                  |    \"macro avg\": {                                  |\n",
      "|                                  |                                  |                                  |                |             |                  |      \"f1-score\": 0.7162026949762799,               |\n",
      "|                                  |                                  |                                  |                |             |                  |      \"precision\": 0.7582023033982515,              |\n",
      "|                                  |                                  |                                  |                |             |                  |      \"recall\": 0.6927494165075323,                 |\n",
      "|                                  |                                  |                                  |                |             |                  |      \"support\": 1946                               |\n",
      "|                                  |                                  |                                  |                |             |                  |    },                                              |\n",
      "|                                  |                                  |                                  |                |             |                  |    \"stay\": {                                       |\n",
      "|                                  |                                  |                                  |                |             |                  |      \"f1-score\": 0.9072481572481572,               |\n",
      "|                                  |                                  |                                  |                |             |                  |      \"precision\": 0.8765578635014837,              |\n",
      "|                                  |                                  |                                  |                |             |                  |      \"recall\": 0.9401654996817314,                 |\n",
      "|                                  |                                  |                                  |                |             |                  |      \"support\": 1571                               |\n",
      "|                                  |                                  |                                  |                |             |                  |    },                                              |\n",
      "|                                  |                                  |                                  |                |             |                  |    \"weighted avg\": {                               |\n",
      "|                                  |                                  |                                  |                |             |                  |      \"f1-score\": 0.8336180972769816,               |\n",
      "|                                  |                                  |                                  |                |             |                  |      \"precision\": 0.8309429251266511,              |\n",
      "|                                  |                                  |                                  |                |             |                  |      \"recall\": 0.8448098663926003,                 |\n",
      "|                                  |                                  |                                  |                |             |                  |      \"support\": 1946                               |\n",
      "|                                  |                                  |                                  |                |             |                  |    }                                               |\n",
      "|                                  |                                  |                                  |                |             |                  |  },                                                |\n",
      "|                                  |                                  |                                  |                |             |                  |  \"confusion_matrix\": [                             |\n",
      "|                                  |                                  |                                  |                |             |                  |    [                                               |\n",
      "|                                  |                                  |                                  |                |             |                  |      1477,                                         |\n",
      "|                                  |                                  |                                  |                |             |                  |      94                                            |\n",
      "|                                  |                                  |                                  |                |             |                  |    ],                                              |\n",
      "|                                  |                                  |                                  |                |             |                  |    [                                               |\n",
      "|                                  |                                  |                                  |                |             |                  |      208,                                          |\n",
      "|                                  |                                  |                                  |                |             |                  |      167                                           |\n",
      "|                                  |                                  |                                  |                |             |                  |    ]                                               |\n",
      "|                                  |                                  |                                  |                |             |                  |  ]                                                 |\n",
      "|                                  |                                  |                                  |                |             |                  |}                                                   |\n",
      "|2023-08-21 07:51:35.500000+00:00  |8d4190103ff711ee89fa628aca6d24dc  |200e68963ff311ee89fa628aca6d24dc  |\"ACCOUNTADMIN\"  |SET          |METRICS           |{                                                   |\n",
      "|                                  |                                  |                                  |                |             |                  |  \"confusion_matrix\": [                             |\n",
      "|                                  |                                  |                                  |                |             |                  |    [                                               |\n",
      "|                                  |                                  |                                  |                |             |                  |      1477,                                         |\n",
      "|                                  |                                  |                                  |                |             |                  |      94                                            |\n",
      "|                                  |                                  |                                  |                |             |                  |    ],                                              |\n",
      "|                                  |                                  |                                  |                |             |                  |    [                                               |\n",
      "|                                  |                                  |                                  |                |             |                  |      208,                                          |\n",
      "|                                  |                                  |                                  |                |             |                  |      167                                           |\n",
      "|                                  |                                  |                                  |                |             |                  |    ]                                               |\n",
      "|                                  |                                  |                                  |                |             |                  |  ]                                                 |\n",
      "|                                  |                                  |                                  |                |             |                  |}                                                   |\n",
      "-----------------------------------------------------------------------------------------------------------------------------------------------------------------------------------------------------------------\n",
      "\n"
     ]
    }
   ],
   "source": [
    "registry.get_history().show()"
   ]
  },
  {
   "cell_type": "code",
   "execution_count": 32,
   "id": "3136d49f",
   "metadata": {},
   "outputs": [],
   "source": [
    "MODEL_NAME=\"PredictiveMaintenance\"\n",
    "MODEL_VERSION=\"hg3295ef16a2c0fe34d17f557600l45j\""
   ]
  },
  {
   "cell_type": "code",
   "execution_count": 33,
   "id": "c5945313",
   "metadata": {},
   "outputs": [
    {
     "name": "stderr",
     "output_type": "stream",
     "text": [
      "WARNING:snowflake.snowpark:ModelRegistry.log_model() is in private preview since 0.2.0. Do not use it in production. \n",
      "WARNING:snowflake.snowpark:ModelRegistry.list_models() is in private preview since 0.2.0. Do not use it in production. \n"
     ]
    },
    {
     "name": "stdout",
     "output_type": "stream",
     "text": [
      "--------------------------------------------------------------------------------------------------------------------------------------------------------------------------------------------------------------------------------------\n",
      "|\"FAILURE\"  |\"METRIC5\"  |\"METRIC6\"  |\"DAY\"  |\"DAY_WEEK\"  |\"SECTOR\"  |\"OP_PERIOD\"  |\"DEV_RECONNECTED\"  |\"MNW1\"    |\"DIF_M6\"  |\"DIF_M5\"  |\"LOG_M2\"           |\"LOG_M3\"            |\"LOG_M4\"            |\"LOG_M7\"  |\"LOG_M9\"            |\n",
      "--------------------------------------------------------------------------------------------------------------------------------------------------------------------------------------------------------------------------------------\n",
      "|0          |14         |311869     |1      |3           |S1F0      |1            |0                  |1027230   |0         |0         |0.0                |0.6931471805599453  |0.0                 |0.0       |0.0                 |\n",
      "|0          |9          |389730     |1      |3           |S1F0      |1            |0                  |27549020  |0         |0         |0.0                |0.0                 |0.0                 |0.0       |0.0                 |\n",
      "|0          |3          |339205     |1      |3           |S1F0      |1            |0                  |13154319  |0         |0         |3.912023005428146  |10.123827176517604  |6.272877006546167   |0.0       |9.224046019032292   |\n",
      "|0          |4          |387410     |1      |3           |S1F0      |1            |0                  |20473105  |0         |0         |0.0                |0.0                 |2.079441541679836   |0.0       |4.060443010546419   |\n",
      "|0          |5          |331171     |1      |3           |S1F0      |1            |0                  |23551946  |0         |0         |4.143134726391533  |0.0                 |0.0                 |0.0       |0.0                 |\n",
      "|0          |4          |383073     |1      |3           |S1F0      |1            |0                  |15582743  |0         |0         |2.833213344056216  |0.0                 |0.0                 |0.0       |0.6931471805599453  |\n",
      "|0          |4          |333898     |1      |3           |S1F0      |1            |0                  |4604440   |0         |0         |4.543294782270004  |1.3862943611198906  |1.0986122886681096  |0.0       |1.9459101490553128  |\n",
      "|0          |7          |354416     |1      |3           |S1F0      |1            |0                  |9743279   |0         |0         |0.0                |0.0                 |0.0                 |0.0       |1.0986122886681096  |\n",
      "|0          |4          |350244     |1      |3           |S1F0      |1            |0                  |538574    |0         |0         |0.0                |0.0                 |0.0                 |0.0       |0.0                 |\n",
      "|0          |5          |315962     |1      |3           |S1F0      |1            |0                  |18677032  |0         |0         |5.043425116919247  |7.190676034332207   |1.6094379124341005  |0.0       |6.80128303447162    |\n",
      "--------------------------------------------------------------------------------------------------------------------------------------------------------------------------------------------------------------------------------------\n",
      "\n"
     ]
    }
   ],
   "source": [
    "# A name and model tags can be added to the model at registration time.\n",
    "model_id = registry.log_model(\n",
    "    model_name=MODEL_NAME,\n",
    "    model_version=MODEL_VERSION,\n",
    "    model=pipeline,\n",
    "    tags={\"stage\": \"testing\", \"classifier_type\": \"SGDClassifier\"},\n",
    "    sample_input_data=test_df.show(),\n",
    "    options={\"embed_local_ml_library\": True}\n",
    ")"
   ]
  },
  {
   "cell_type": "code",
   "execution_count": 34,
   "id": "67a12fb9",
   "metadata": {},
   "outputs": [
    {
     "data": {
      "text/plain": [
       "'3d6bcc1a577411eebfb12e186f38c059'"
      ]
     },
     "execution_count": 34,
     "metadata": {},
     "output_type": "execute_result"
    }
   ],
   "source": [
    "model_id"
   ]
  },
  {
   "cell_type": "markdown",
   "id": "f39ac284",
   "metadata": {},
   "source": [
    "## List models form snowflake repository\n"
   ]
  },
  {
   "cell_type": "code",
   "execution_count": 35,
   "id": "0323051c",
   "metadata": {},
   "outputs": [],
   "source": [
    "model_list = registry.list_models()"
   ]
  },
  {
   "cell_type": "code",
   "execution_count": 36,
   "id": "6028558a",
   "metadata": {},
   "outputs": [
    {
     "data": {
      "text/html": [
       "<div>\n",
       "<style scoped>\n",
       "    .dataframe tbody tr th:only-of-type {\n",
       "        vertical-align: middle;\n",
       "    }\n",
       "\n",
       "    .dataframe tbody tr th {\n",
       "        vertical-align: top;\n",
       "    }\n",
       "\n",
       "    .dataframe thead th {\n",
       "        text-align: right;\n",
       "    }\n",
       "</style>\n",
       "<table border=\"1\" class=\"dataframe\">\n",
       "  <thead>\n",
       "    <tr style=\"text-align: right;\">\n",
       "      <th></th>\n",
       "      <th>CREATION_CONTEXT</th>\n",
       "      <th>CREATION_ENVIRONMENT_SPEC</th>\n",
       "      <th>CREATION_ROLE</th>\n",
       "      <th>CREATION_TIME</th>\n",
       "      <th>ID</th>\n",
       "      <th>INPUT_SPEC</th>\n",
       "      <th>NAME</th>\n",
       "      <th>OUTPUT_SPEC</th>\n",
       "      <th>RUNTIME_ENVIRONMENT_SPEC</th>\n",
       "      <th>TYPE</th>\n",
       "      <th>URI</th>\n",
       "      <th>VERSION</th>\n",
       "      <th>DESCRIPTION</th>\n",
       "      <th>METRICS</th>\n",
       "      <th>TAGS</th>\n",
       "      <th>REGISTRATION_TIMESTAMP</th>\n",
       "    </tr>\n",
       "  </thead>\n",
       "  <tbody>\n",
       "    <tr>\n",
       "      <th>0</th>\n",
       "      <td>None</td>\n",
       "      <td>{\\n  \"python\": \"3.8.12\"\\n}</td>\n",
       "      <td>\"ACCOUNTADMIN\"</td>\n",
       "      <td>2023-08-03 11:37:46.109000+00:00</td>\n",
       "      <td>29da402031f211eeab49c6770d61e4f3</td>\n",
       "      <td>None</td>\n",
       "      <td>ChurnPrediction</td>\n",
       "      <td>None</td>\n",
       "      <td>None</td>\n",
       "      <td>snowml</td>\n",
       "      <td>sfc:MODEL_REGISTRY_SNOWFRACT.SNOWFRACT.SNOWML_...</td>\n",
       "      <td>ee9215ef16a2c0fe34d17f557600a34b</td>\n",
       "      <td>None</td>\n",
       "      <td>{\\n  \"classification_report\": \"NA\"\\n}</td>\n",
       "      <td>{\\n  \"classifier_type\": \"xgboost\",\\n  \"stage\":...</td>\n",
       "      <td>2023-08-03 11:37:47.031000+00:00</td>\n",
       "    </tr>\n",
       "    <tr>\n",
       "      <th>1</th>\n",
       "      <td>None</td>\n",
       "      <td>{\\n  \"python\": \"3.8.12\"\\n}</td>\n",
       "      <td>\"ACCOUNTADMIN\"</td>\n",
       "      <td>2023-08-17 11:22:03.077000+00:00</td>\n",
       "      <td>495c6e9c3cf011ee8afe22df4b63f4a1</td>\n",
       "      <td>None</td>\n",
       "      <td>ChurnPrediction</td>\n",
       "      <td>None</td>\n",
       "      <td>None</td>\n",
       "      <td>snowml</td>\n",
       "      <td>sfc:MODEL_REGISTRY_SNOWFRACT.SNOWFRACT.SNOWML_...</td>\n",
       "      <td>ee9215ef16a2c0fe34d17f557600a35b</td>\n",
       "      <td>None</td>\n",
       "      <td>None</td>\n",
       "      <td>{\\n  \"classifier_type\": \"xgboost\",\\n  \"stage\":...</td>\n",
       "      <td>2023-08-17 11:22:04.341000+00:00</td>\n",
       "    </tr>\n",
       "    <tr>\n",
       "      <th>2</th>\n",
       "      <td>None</td>\n",
       "      <td>{\\n  \"python\": \"3.8.12\"\\n}</td>\n",
       "      <td>\"ACCOUNTADMIN\"</td>\n",
       "      <td>2023-08-21 07:19:55.837000+00:00</td>\n",
       "      <td>200e68963ff311ee89fa628aca6d24dc</td>\n",
       "      <td>None</td>\n",
       "      <td>ChurnPrediction</td>\n",
       "      <td>None</td>\n",
       "      <td>None</td>\n",
       "      <td>snowml</td>\n",
       "      <td>sfc:MODEL_REGISTRY_SNOWFRACT.SNOWFRACT.SNOWML_...</td>\n",
       "      <td>ee9215ef16a2c0fe34d17f557600a36c</td>\n",
       "      <td>None</td>\n",
       "      <td>{\\n  \"build_time_metrics\": {\\n    \"accuracy\": ...</td>\n",
       "      <td>{\\n  \"classifier_type\": \"xgboost\",\\n  \"stage\":...</td>\n",
       "      <td>2023-08-21 07:19:57.339000+00:00</td>\n",
       "    </tr>\n",
       "    <tr>\n",
       "      <th>3</th>\n",
       "      <td>None</td>\n",
       "      <td>{\\n  \"python\": \"3.8.16\"\\n}</td>\n",
       "      <td>\"ACCOUNTADMIN\"</td>\n",
       "      <td>2023-09-20 05:12:07.700000+00:00</td>\n",
       "      <td>3d6bcc1a577411eebfb12e186f38c059</td>\n",
       "      <td>None</td>\n",
       "      <td>PredictiveMaintenance</td>\n",
       "      <td>None</td>\n",
       "      <td>None</td>\n",
       "      <td>snowml</td>\n",
       "      <td>sfc:MODEL_REGISTRY_SNOWFRACT.SNOWFRACT.SNOWML_...</td>\n",
       "      <td>hg3295ef16a2c0fe34d17f557600l45j</td>\n",
       "      <td>None</td>\n",
       "      <td>None</td>\n",
       "      <td>{\\n  \"classifier_type\": \"SGDClassifier\",\\n  \"s...</td>\n",
       "      <td>2023-09-20 05:12:09.618000+00:00</td>\n",
       "    </tr>\n",
       "  </tbody>\n",
       "</table>\n",
       "</div>"
      ],
      "text/plain": [
       "  CREATION_CONTEXT   CREATION_ENVIRONMENT_SPEC   CREATION_ROLE  \\\n",
       "0             None  {\\n  \"python\": \"3.8.12\"\\n}  \"ACCOUNTADMIN\"   \n",
       "1             None  {\\n  \"python\": \"3.8.12\"\\n}  \"ACCOUNTADMIN\"   \n",
       "2             None  {\\n  \"python\": \"3.8.12\"\\n}  \"ACCOUNTADMIN\"   \n",
       "3             None  {\\n  \"python\": \"3.8.16\"\\n}  \"ACCOUNTADMIN\"   \n",
       "\n",
       "                     CREATION_TIME                                ID  \\\n",
       "0 2023-08-03 11:37:46.109000+00:00  29da402031f211eeab49c6770d61e4f3   \n",
       "1 2023-08-17 11:22:03.077000+00:00  495c6e9c3cf011ee8afe22df4b63f4a1   \n",
       "2 2023-08-21 07:19:55.837000+00:00  200e68963ff311ee89fa628aca6d24dc   \n",
       "3 2023-09-20 05:12:07.700000+00:00  3d6bcc1a577411eebfb12e186f38c059   \n",
       "\n",
       "  INPUT_SPEC                   NAME OUTPUT_SPEC RUNTIME_ENVIRONMENT_SPEC  \\\n",
       "0       None        ChurnPrediction        None                     None   \n",
       "1       None        ChurnPrediction        None                     None   \n",
       "2       None        ChurnPrediction        None                     None   \n",
       "3       None  PredictiveMaintenance        None                     None   \n",
       "\n",
       "     TYPE                                                URI  \\\n",
       "0  snowml  sfc:MODEL_REGISTRY_SNOWFRACT.SNOWFRACT.SNOWML_...   \n",
       "1  snowml  sfc:MODEL_REGISTRY_SNOWFRACT.SNOWFRACT.SNOWML_...   \n",
       "2  snowml  sfc:MODEL_REGISTRY_SNOWFRACT.SNOWFRACT.SNOWML_...   \n",
       "3  snowml  sfc:MODEL_REGISTRY_SNOWFRACT.SNOWFRACT.SNOWML_...   \n",
       "\n",
       "                            VERSION DESCRIPTION  \\\n",
       "0  ee9215ef16a2c0fe34d17f557600a34b        None   \n",
       "1  ee9215ef16a2c0fe34d17f557600a35b        None   \n",
       "2  ee9215ef16a2c0fe34d17f557600a36c        None   \n",
       "3  hg3295ef16a2c0fe34d17f557600l45j        None   \n",
       "\n",
       "                                             METRICS  \\\n",
       "0              {\\n  \"classification_report\": \"NA\"\\n}   \n",
       "1                                               None   \n",
       "2  {\\n  \"build_time_metrics\": {\\n    \"accuracy\": ...   \n",
       "3                                               None   \n",
       "\n",
       "                                                TAGS  \\\n",
       "0  {\\n  \"classifier_type\": \"xgboost\",\\n  \"stage\":...   \n",
       "1  {\\n  \"classifier_type\": \"xgboost\",\\n  \"stage\":...   \n",
       "2  {\\n  \"classifier_type\": \"xgboost\",\\n  \"stage\":...   \n",
       "3  {\\n  \"classifier_type\": \"SGDClassifier\",\\n  \"s...   \n",
       "\n",
       "            REGISTRATION_TIMESTAMP  \n",
       "0 2023-08-03 11:37:47.031000+00:00  \n",
       "1 2023-08-17 11:22:04.341000+00:00  \n",
       "2 2023-08-21 07:19:57.339000+00:00  \n",
       "3 2023-09-20 05:12:09.618000+00:00  "
      ]
     },
     "execution_count": 36,
     "metadata": {},
     "output_type": "execute_result"
    }
   ],
   "source": [
    "model_list.to_pandas()"
   ]
  },
  {
   "cell_type": "code",
   "execution_count": 37,
   "id": "672727ac",
   "metadata": {},
   "outputs": [
    {
     "name": "stdout",
     "output_type": "stream",
     "text": [
      "-----------------------------------------------------------------------------\n",
      "|\"NAME\"                 |\"TAGS\"                                 |\"METRICS\"  |\n",
      "-----------------------------------------------------------------------------\n",
      "|PredictiveMaintenance  |{                                      |NULL       |\n",
      "|                       |  \"classifier_type\": \"SGDClassifier\",  |           |\n",
      "|                       |  \"stage\": \"testing\"                   |           |\n",
      "|                       |}                                      |           |\n",
      "-----------------------------------------------------------------------------\n",
      "\n"
     ]
    }
   ],
   "source": [
    "model_list.filter(model_list[\"ID\"] == model_id).select(\"NAME\",\"TAGS\",\"METRICS\").show()"
   ]
  },
  {
   "cell_type": "markdown",
   "id": "49db4ccf",
   "metadata": {},
   "source": [
    "## Adding metrics to a model registered"
   ]
  },
  {
   "cell_type": "code",
   "execution_count": 38,
   "id": "889ebdec",
   "metadata": {},
   "outputs": [
    {
     "name": "stderr",
     "output_type": "stream",
     "text": [
      "WARNING:snowflake.snowpark:ModelRegistry.set_metric() is in private preview since 0.2.0. Do not use it in production. \n",
      "WARNING:snowflake.snowpark:ModelRegistry.get_metrics() is in private preview since 0.2.0. Do not use it in production. \n"
     ]
    }
   ],
   "source": [
    "registry.set_metric(MODEL_NAME,MODEL_VERSION,\"build_time_metrics\", report)"
   ]
  },
  {
   "cell_type": "code",
   "execution_count": 39,
   "id": "52104a80",
   "metadata": {},
   "outputs": [
    {
     "name": "stdout",
     "output_type": "stream",
     "text": [
      "----------------------------------------------------------------------------------------------------------\n",
      "|\"NAME\"                 |\"TAGS\"                                 |\"METRICS\"                               |\n",
      "----------------------------------------------------------------------------------------------------------\n",
      "|PredictiveMaintenance  |{                                      |{                                       |\n",
      "|                       |  \"classifier_type\": \"SGDClassifier\",  |  \"build_time_metrics\": {               |\n",
      "|                       |  \"stage\": \"testing\"                   |    \"0\": {                              |\n",
      "|                       |}                                      |      \"f1-score\": 0.9994856628519995,   |\n",
      "|                       |                                       |      \"precision\": 0.9989718545174142,  |\n",
      "|                       |                                       |      \"recall\": 1,                      |\n",
      "|                       |                                       |      \"support\": 23319                  |\n",
      "|                       |                                       |    },                                  |\n",
      "|                       |                                       |    \"1\": {                              |\n",
      "|                       |                                       |      \"f1-score\": 0,                    |\n",
      "|                       |                                       |      \"precision\": 0,                   |\n",
      "|                       |                                       |      \"recall\": 0,                      |\n",
      "|                       |                                       |      \"support\": 24                     |\n",
      "|                       |                                       |    },                                  |\n",
      "|                       |                                       |    \"accuracy\": 0.9989718545174142,     |\n",
      "|                       |                                       |    \"macro avg\": {                      |\n",
      "|                       |                                       |      \"f1-score\": 0.49974283142599973,  |\n",
      "|                       |                                       |      \"precision\": 0.4994859272587071,  |\n",
      "|                       |                                       |      \"recall\": 0.5,                    |\n",
      "|                       |                                       |      \"support\": 23343                  |\n",
      "|                       |                                       |    },                                  |\n",
      "|                       |                                       |    \"weighted avg\": {                   |\n",
      "|                       |                                       |      \"f1-score\": 0.9984580461828289,   |\n",
      "|                       |                                       |      \"precision\": 0.9979447661179618,  |\n",
      "|                       |                                       |      \"recall\": 0.9989718545174142,     |\n",
      "|                       |                                       |      \"support\": 23343                  |\n",
      "|                       |                                       |    }                                   |\n",
      "|                       |                                       |  }                                     |\n",
      "|                       |                                       |}                                       |\n",
      "----------------------------------------------------------------------------------------------------------\n",
      "\n"
     ]
    }
   ],
   "source": [
    "model_list = registry.list_models()\n",
    "model_list.filter(model_list[\"ID\"] == model_id).select(\"NAME\",\"TAGS\",\"METRICS\").show()"
   ]
  },
  {
   "cell_type": "markdown",
   "id": "4133c7be",
   "metadata": {},
   "source": [
    "### Load model from snowflake repo"
   ]
  },
  {
   "cell_type": "code",
   "execution_count": 41,
   "id": "a1ce83f7",
   "metadata": {},
   "outputs": [],
   "source": [
    "model_list = registry.list_models()"
   ]
  },
  {
   "cell_type": "code",
   "execution_count": 42,
   "id": "699a067a",
   "metadata": {},
   "outputs": [],
   "source": [
    "ppln_loaded = model_registry.ModelReference(registry=registry, model_name=MODEL_NAME, model_version=MODEL_VERSION)"
   ]
  },
  {
   "cell_type": "code",
   "execution_count": 44,
   "id": "5016e803",
   "metadata": {},
   "outputs": [
    {
     "data": {
      "text/plain": [
       "snowflake.ml.registry.model_registry.ModelReference"
      ]
     },
     "execution_count": 44,
     "metadata": {},
     "output_type": "execute_result"
    }
   ],
   "source": [
    "type(ppln_loaded)"
   ]
  },
  {
   "cell_type": "code",
   "execution_count": 43,
   "id": "80f02178",
   "metadata": {},
   "outputs": [
    {
     "name": "stderr",
     "output_type": "stream",
     "text": [
      "WARNING:snowflake.snowpark:ModelRegistry.deploy() is in private preview since 0.2.0. Do not use it in production. \n",
      "/opt/conda/lib/python3.8/site-packages/snowflake/ml/model/_deploy_client/warehouse/deploy.py:178: RuntimeWarning: Cannot find conda resolver, use Snowflake information schema for best-effort dependency pre-check.\n",
      "  warnings.warn(\n"
     ]
    },
    {
     "name": "stdout",
     "output_type": "stream",
     "text": [
      "Generated UDF file is persisted at: /tmp/tmp2kzabxun.py\n"
     ]
    },
    {
     "name": "stderr",
     "output_type": "stream",
     "text": [
      "WARNING:snowflake.snowpark.session:The version of package anyio in the local environment is 3.7.0, which does not fit the criteria for the requirement anyio. Your UDF might not work when the package version is different between the server and your local environment\n",
      "WARNING:snowflake.snowpark.session:The version of package numpy in the local environment is 1.24.4, which does not fit the criteria for the requirement numpy. Your UDF might not work when the package version is different between the server and your local environment\n",
      "WARNING:snowflake.snowpark.session:The version of package pyyaml in the local environment is 6.0.1, which does not fit the criteria for the requirement pyyaml. Your UDF might not work when the package version is different between the server and your local environment\n",
      "WARNING:snowflake.snowpark.session:The version of package typing-extensions in the local environment is 4.8.0, which does not fit the criteria for the requirement typing-extensions. Your UDF might not work when the package version is different between the server and your local environment\n"
     ]
    },
    {
     "name": "stdout",
     "output_type": "stream",
     "text": [
      "\"MODEL_REGISTRY_SNOWFRACT\".\"SNOWFRACT\".\"pred_maintenance_final\" is deployed to warehouse.\n"
     ]
    }
   ],
   "source": [
    "# need model id for this\n",
    "ppln_loaded.deploy(\n",
    "    deployment_name=\"pred_maintenance_final\",\n",
    "    target_method=\"predict\",\n",
    "    permanent=True,\n",
    "    options={\"relax_version\":True}\n",
    ")"
   ]
  },
  {
   "cell_type": "code",
   "execution_count": null,
   "id": "f32881ab",
   "metadata": {},
   "outputs": [],
   "source": []
  }
 ],
 "metadata": {
  "kernelspec": {
   "display_name": "Python 3",
   "language": "python",
   "name": "python3"
  },
  "language_info": {
   "codemirror_mode": {
    "name": "ipython",
    "version": 3
   },
   "file_extension": ".py",
   "mimetype": "text/x-python",
   "name": "python",
   "nbconvert_exporter": "python",
   "pygments_lexer": "ipython3",
   "version": "3.8.16"
  }
 },
 "nbformat": 4,
 "nbformat_minor": 5
}
