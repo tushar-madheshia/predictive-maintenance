{
 "cells": [
  {
   "cell_type": "code",
   "execution_count": 1,
   "id": "5f1ffb06",
   "metadata": {},
   "outputs": [],
   "source": [
    "! sudo pip install snowflake-ml-python==1.0.5 -U"
   ]
  },
  {
   "cell_type": "code",
   "execution_count": 2,
   "id": "8056f652",
   "metadata": {},
   "outputs": [],
   "source": [
    "! pip install --upgrade xgboost==1.7.3"
   ]
  },
  {
   "cell_type": "code",
   "execution_count": null,
   "id": "a49d8a69",
   "metadata": {},
   "outputs": [],
   "source": [
    "! pip list"
   ]
  },
  {
   "cell_type": "code",
   "execution_count": 1,
   "id": "69108f14",
   "metadata": {},
   "outputs": [],
   "source": [
    "from snowflake.ml.modeling.pipeline import Pipeline\n",
    "from snowflake.ml.modeling.xgboost import XGBClassifier\n",
    "from snowflake.ml.modeling.linear_model import SGDClassifier\n",
    "from snowflake.ml.modeling.preprocessing import MinMaxScaler, OrdinalEncoder, OneHotEncoder\n",
    "from sklearn.metrics import mean_absolute_percentage_error"
   ]
  },
  {
   "cell_type": "code",
   "execution_count": 2,
   "id": "77a2bea6",
   "metadata": {},
   "outputs": [],
   "source": [
    "from snowflake.snowpark import Session\n",
    "import configparser\n",
    "def get_session():\n",
    "    parser = configparser.ConfigParser()\n",
    "    # Add the credential file name here\n",
    "    parser.read('/notebooks/notebooks/config.ini')\n",
    "\n",
    "    connection_params = dict(user=parser['Credentials']['user'], \n",
    "                         password=parser['Credentials']['password'], \n",
    "                         account=parser['Credentials']['account'], \n",
    "                         warehouse=parser['Credentials']['warehouse'], \n",
    "                         database=parser['Credentials']['database'],\n",
    "                         schema=parser['Credentials']['schema'], \n",
    "                         role=parser['Credentials']['role'])\n",
    "\n",
    "    session = Session.builder.configs(connection_params).create()\n",
    "    return session\n",
    "\n"
   ]
  },
  {
   "cell_type": "code",
   "execution_count": 3,
   "id": "78e3def1",
   "metadata": {},
   "outputs": [],
   "source": [
    "session = get_session()"
   ]
  },
  {
   "cell_type": "markdown",
   "id": "0710059b",
   "metadata": {},
   "source": [
    "# Model Building\n",
    "### Load the final data from snowflake table"
   ]
  },
  {
   "cell_type": "code",
   "execution_count": 4,
   "id": "292103e6",
   "metadata": {},
   "outputs": [],
   "source": [
    "table_name = 'predictive_maintenance_final'"
   ]
  },
  {
   "cell_type": "code",
   "execution_count": 5,
   "id": "e89dd19d",
   "metadata": {},
   "outputs": [],
   "source": [
    "sf_df = session.table(table_name).drop('ROW')"
   ]
  },
  {
   "cell_type": "code",
   "execution_count": 6,
   "id": "026a3abf",
   "metadata": {},
   "outputs": [
    {
     "name": "stdout",
     "output_type": "stream",
     "text": [
      "-------------------------------------------------------------------------------------------------------------------------------------------------------------------------------------------------------------------------------------\n",
      "|\"FAILURE\"  |\"METRIC5\"  |\"METRIC6\"  |\"DAY\"  |\"DAY_WEEK\"  |\"SECTOR\"  |\"OP_PERIOD\"  |\"DEV_RECONNECTED\"  |\"MNW1\"    |\"DIF_M6\"  |\"DIF_M5\"  |\"LOG_M2\"           |\"LOG_M3\"            |\"LOG_M4\"            |\"LOG_M7\"  |\"LOG_M9\"           |\n",
      "-------------------------------------------------------------------------------------------------------------------------------------------------------------------------------------------------------------------------------------\n",
      "|0          |6          |407438     |1      |3           |S1F0      |1            |0                  |26953834  |0         |0         |2.079441541679836  |0.0                 |3.9702919135521215  |0.0       |2.079441541679836  |\n",
      "|0          |6          |403174     |1      |3           |S1F0      |1            |0                  |7671335   |0         |0         |0.0                |1.3862943611198906  |0.0                 |0.0       |0.0                |\n",
      "|0          |12         |237394     |1      |3           |S1F0      |1            |0                  |21661996  |0         |0         |0.0                |0.0                 |0.0                 |0.0       |0.0                |\n",
      "-------------------------------------------------------------------------------------------------------------------------------------------------------------------------------------------------------------------------------------\n",
      "\n"
     ]
    }
   ],
   "source": [
    "sf_df.show(3)"
   ]
  },
  {
   "cell_type": "code",
   "execution_count": 8,
   "id": "366cf3ab",
   "metadata": {},
   "outputs": [],
   "source": [
    "a = sf_df.to_pandas()"
   ]
  },
  {
   "cell_type": "code",
   "execution_count": 11,
   "id": "424fe2af",
   "metadata": {},
   "outputs": [
    {
     "data": {
      "text/plain": [
       "['FAILURE',\n",
       " 'METRIC5',\n",
       " 'METRIC6',\n",
       " 'DAY',\n",
       " 'DAY_WEEK',\n",
       " 'SECTOR',\n",
       " 'OP_PERIOD',\n",
       " 'DEV_RECONNECTED',\n",
       " 'MNW1',\n",
       " 'DIF_M6',\n",
       " 'DIF_M5',\n",
       " 'LOG_M2',\n",
       " 'LOG_M3',\n",
       " 'LOG_M4',\n",
       " 'LOG_M7',\n",
       " 'LOG_M9']"
      ]
     },
     "execution_count": 11,
     "metadata": {},
     "output_type": "execute_result"
    }
   ],
   "source": [
    "list(a.columns)"
   ]
  },
  {
   "cell_type": "code",
   "execution_count": 10,
   "id": "f120d746",
   "metadata": {},
   "outputs": [
    {
     "data": {
      "text/html": [
       "<div>\n",
       "<style scoped>\n",
       "    .dataframe tbody tr th:only-of-type {\n",
       "        vertical-align: middle;\n",
       "    }\n",
       "\n",
       "    .dataframe tbody tr th {\n",
       "        vertical-align: top;\n",
       "    }\n",
       "\n",
       "    .dataframe thead th {\n",
       "        text-align: right;\n",
       "    }\n",
       "</style>\n",
       "<table border=\"1\" class=\"dataframe\">\n",
       "  <thead>\n",
       "    <tr style=\"text-align: right;\">\n",
       "      <th></th>\n",
       "      <th>FAILURE</th>\n",
       "      <th>METRIC5</th>\n",
       "      <th>METRIC6</th>\n",
       "      <th>DAY</th>\n",
       "      <th>DAY_WEEK</th>\n",
       "      <th>SECTOR</th>\n",
       "      <th>OP_PERIOD</th>\n",
       "      <th>DEV_RECONNECTED</th>\n",
       "      <th>MNW1</th>\n",
       "      <th>DIF_M6</th>\n",
       "      <th>DIF_M5</th>\n",
       "      <th>LOG_M2</th>\n",
       "      <th>LOG_M3</th>\n",
       "      <th>LOG_M4</th>\n",
       "      <th>LOG_M7</th>\n",
       "      <th>LOG_M9</th>\n",
       "    </tr>\n",
       "  </thead>\n",
       "  <tbody>\n",
       "    <tr>\n",
       "      <th>0</th>\n",
       "      <td>0</td>\n",
       "      <td>6</td>\n",
       "      <td>407438</td>\n",
       "      <td>1</td>\n",
       "      <td>3</td>\n",
       "      <td>S1F0</td>\n",
       "      <td>1</td>\n",
       "      <td>0</td>\n",
       "      <td>26953834</td>\n",
       "      <td>0</td>\n",
       "      <td>0</td>\n",
       "      <td>2.079442</td>\n",
       "      <td>0.000000</td>\n",
       "      <td>3.970292</td>\n",
       "      <td>0.0</td>\n",
       "      <td>2.079442</td>\n",
       "    </tr>\n",
       "    <tr>\n",
       "      <th>1</th>\n",
       "      <td>0</td>\n",
       "      <td>6</td>\n",
       "      <td>403174</td>\n",
       "      <td>1</td>\n",
       "      <td>3</td>\n",
       "      <td>S1F0</td>\n",
       "      <td>1</td>\n",
       "      <td>0</td>\n",
       "      <td>7671335</td>\n",
       "      <td>0</td>\n",
       "      <td>0</td>\n",
       "      <td>0.000000</td>\n",
       "      <td>1.386294</td>\n",
       "      <td>0.000000</td>\n",
       "      <td>0.0</td>\n",
       "      <td>0.000000</td>\n",
       "    </tr>\n",
       "    <tr>\n",
       "      <th>2</th>\n",
       "      <td>0</td>\n",
       "      <td>12</td>\n",
       "      <td>237394</td>\n",
       "      <td>1</td>\n",
       "      <td>3</td>\n",
       "      <td>S1F0</td>\n",
       "      <td>1</td>\n",
       "      <td>0</td>\n",
       "      <td>21661996</td>\n",
       "      <td>0</td>\n",
       "      <td>0</td>\n",
       "      <td>0.000000</td>\n",
       "      <td>0.000000</td>\n",
       "      <td>0.000000</td>\n",
       "      <td>0.0</td>\n",
       "      <td>0.000000</td>\n",
       "    </tr>\n",
       "    <tr>\n",
       "      <th>3</th>\n",
       "      <td>0</td>\n",
       "      <td>6</td>\n",
       "      <td>410186</td>\n",
       "      <td>1</td>\n",
       "      <td>3</td>\n",
       "      <td>S1F0</td>\n",
       "      <td>1</td>\n",
       "      <td>0</td>\n",
       "      <td>9961753</td>\n",
       "      <td>0</td>\n",
       "      <td>0</td>\n",
       "      <td>0.000000</td>\n",
       "      <td>0.000000</td>\n",
       "      <td>0.000000</td>\n",
       "      <td>0.0</td>\n",
       "      <td>0.000000</td>\n",
       "    </tr>\n",
       "    <tr>\n",
       "      <th>4</th>\n",
       "      <td>0</td>\n",
       "      <td>15</td>\n",
       "      <td>313173</td>\n",
       "      <td>1</td>\n",
       "      <td>3</td>\n",
       "      <td>S1F0</td>\n",
       "      <td>1</td>\n",
       "      <td>0</td>\n",
       "      <td>16996310</td>\n",
       "      <td>0</td>\n",
       "      <td>0</td>\n",
       "      <td>0.000000</td>\n",
       "      <td>0.000000</td>\n",
       "      <td>0.000000</td>\n",
       "      <td>0.0</td>\n",
       "      <td>1.386294</td>\n",
       "    </tr>\n",
       "  </tbody>\n",
       "</table>\n",
       "</div>"
      ],
      "text/plain": [
       "   FAILURE  METRIC5  METRIC6  DAY  DAY_WEEK SECTOR  OP_PERIOD  \\\n",
       "0        0        6   407438    1         3   S1F0          1   \n",
       "1        0        6   403174    1         3   S1F0          1   \n",
       "2        0       12   237394    1         3   S1F0          1   \n",
       "3        0        6   410186    1         3   S1F0          1   \n",
       "4        0       15   313173    1         3   S1F0          1   \n",
       "\n",
       "   DEV_RECONNECTED      MNW1  DIF_M6  DIF_M5    LOG_M2    LOG_M3    LOG_M4  \\\n",
       "0                0  26953834       0       0  2.079442  0.000000  3.970292   \n",
       "1                0   7671335       0       0  0.000000  1.386294  0.000000   \n",
       "2                0  21661996       0       0  0.000000  0.000000  0.000000   \n",
       "3                0   9961753       0       0  0.000000  0.000000  0.000000   \n",
       "4                0  16996310       0       0  0.000000  0.000000  0.000000   \n",
       "\n",
       "   LOG_M7    LOG_M9  \n",
       "0     0.0  2.079442  \n",
       "1     0.0  0.000000  \n",
       "2     0.0  0.000000  \n",
       "3     0.0  0.000000  \n",
       "4     0.0  1.386294  "
      ]
     },
     "execution_count": 10,
     "metadata": {},
     "output_type": "execute_result"
    }
   ],
   "source": [
    "a.head()"
   ]
  },
  {
   "cell_type": "code",
   "execution_count": 7,
   "id": "9804df34",
   "metadata": {},
   "outputs": [],
   "source": [
    "CATEGORICAL_COLUMNS = [\"SECTOR\"]\n",
    "CATEGORICAL_COLUMNS_OE = [\"SECTOR_OE\"]\n",
    "NUMERICAL_COLUMNS = ['METRIC5','METRIC6','DAY','DAY_WEEK','OP_PERIOD','MNW1','DIF_M6','DIF_M5','LOG_M2',\n",
    " 'LOG_M3','LOG_M4','LOG_M7','LOG_M9']\n",
    "LABEL_COLUMNS = [\"FAILURE\"]\n",
    "OUTPUT_COLUMNS = [\"PREDICTION\"]"
   ]
  },
  {
   "cell_type": "code",
   "execution_count": 8,
   "id": "5b387852",
   "metadata": {},
   "outputs": [],
   "source": [
    "train_df, test_df = sf_df.random_split([0.8,0.2])"
   ]
  },
  {
   "cell_type": "code",
   "execution_count": 9,
   "id": "24af2f25",
   "metadata": {},
   "outputs": [
    {
     "name": "stdout",
     "output_type": "stream",
     "text": [
      "---------------------------------------------------------------------------------------------------------------------------------------------------------------------------------------------------------\n",
      "|\"FAILURE\"  |\"METRIC5\"  |\"METRIC6\"  |\"DAY\"  |\"DAY_WEEK\"  |\"SECTOR\"  |\"OP_PERIOD\"  |\"DEV_RECONNECTED\"  |\"MNW1\"    |\"DIF_M6\"  |\"DIF_M5\"  |\"LOG_M2\"  |\"LOG_M3\"            |\"LOG_M4\"  |\"LOG_M7\"  |\"LOG_M9\"  |\n",
      "---------------------------------------------------------------------------------------------------------------------------------------------------------------------------------------------------------\n",
      "|0          |6          |403174     |1      |3           |S1F0      |1            |0                  |7671335   |0         |0         |0.0       |1.3862943611198906  |0.0       |0.0       |0.0       |\n",
      "|0          |12         |237394     |1      |3           |S1F0      |1            |0                  |21661996  |0         |0         |0.0       |0.0                 |0.0       |0.0       |0.0       |\n",
      "|0          |6          |410186     |1      |3           |S1F0      |1            |0                  |9961753   |0         |0         |0.0       |0.0                 |0.0       |0.0       |0.0       |\n",
      "---------------------------------------------------------------------------------------------------------------------------------------------------------------------------------------------------------\n",
      "\n"
     ]
    }
   ],
   "source": [
    "train_df.show(3)"
   ]
  },
  {
   "cell_type": "markdown",
   "id": "43a89f16",
   "metadata": {},
   "source": [
    "Create a pipeline with preprocessing steps and model definition"
   ]
  },
  {
   "cell_type": "code",
   "execution_count": 10,
   "id": "b0578699",
   "metadata": {},
   "outputs": [],
   "source": [
    "pipeline = Pipeline(\n",
    "    steps=[\n",
    "            (\n",
    "                \"OHE\",\n",
    "                OneHotEncoder(\n",
    "                input_cols=CATEGORICAL_COLUMNS,\n",
    "                output_cols=CATEGORICAL_COLUMNS_OE\n",
    "                )\n",
    "            ),\n",
    "#             (\n",
    "#                 \"MMS\",\n",
    "#                 MinMaxScaler(\n",
    "#                 clip=True,\n",
    "#                 input_cols=NUMERICAL_COLUMNS,\n",
    "#                 output_cols=NUMERICAL_COLUMNS,\n",
    "#                 )\n",
    "#             ),\n",
    "            (\n",
    "                \"classification\",\n",
    "                SGDClassifier(\n",
    "                input_cols=NUMERICAL_COLUMNS,\n",
    "                label_cols=LABEL_COLUMNS,\n",
    "                output_cols=OUTPUT_COLUMNS\n",
    "                )\n",
    "            )\n",
    "    ]\n",
    ")"
   ]
  },
  {
   "cell_type": "code",
   "execution_count": 11,
   "id": "e603dec8",
   "metadata": {},
   "outputs": [
    {
     "name": "stderr",
     "output_type": "stream",
     "text": [
      "/tmp/pip_packages/snowflake/snowpark/session.py:1860: UserWarning: Pandas Dataframe has non-standard index of type <class 'pandas.core.indexes.numeric.Int64Index'> which will not be written. Consider changing the index to pd.RangeIndex(start=0,...,step=1) or call reset_index() to keep index as column(s)\n",
      "  success, nchunks, nrows, ci_output = write_pandas(\n",
      "/tmp/pip_packages/snowflake/snowpark/session.py:1860: UserWarning: Pandas Dataframe has non-standard index of type <class 'pandas.core.indexes.numeric.Int64Index'> which will not be written. Consider changing the index to pd.RangeIndex(start=0,...,step=1) or call reset_index() to keep index as column(s)\n",
      "  success, nchunks, nrows, ci_output = write_pandas(\n",
      "The version of package 'snowflake-snowpark-python' in the local environment is 1.8.0, which does not fit the criteria for the requirement 'snowflake-snowpark-python'. Your UDF might not work when the package version is different between the server and your local environment.\n",
      "The version of package 'numpy' in the local environment is 1.24.4, which does not fit the criteria for the requirement 'numpy==1.24.3'. Your UDF might not work when the package version is different between the server and your local environment.\n"
     ]
    },
    {
     "ename": "SnowparkSQLException",
     "evalue": "(1300) (1304): 01af1b66-0503-cace-0072-f3030bf43e62: 100357 (P0000): Python Interpreter Error:\nTraceback (most recent call last):\n  File \"_udf_code.py\", line 90, in compute\n  File \"/tmp/pip_packages/snowflake/ml/modeling/_internal/snowpark_handlers.py\", line 90, in fit_wrapper_sproc\n  File \"/usr/lib/python_udf/47551a7bfd00f4b7db3a8f702d9cb264485e91e604075ad17c0dfcb8e138b05a/lib/python3.8/site-packages/snowflake/snowpark/_internal/telemetry.py\", line 76, in wrap\n    result = func(*args, **kwargs)\n  File \"/usr/lib/python_udf/47551a7bfd00f4b7db3a8f702d9cb264485e91e604075ad17c0dfcb8e138b05a/lib/python3.8/site-packages/snowflake/snowpark/dataframe.py\", line 492, in to_pandas\n    result = self._session._conn.execute(self._plan, to_pandas=True, **kwargs)\n  File \"/usr/lib/python_udf/47551a7bfd00f4b7db3a8f702d9cb264485e91e604075ad17c0dfcb8e138b05a/lib/python3.8/site-packages/snowflake/snowpark/_internal/server_connection.py\", line 354, in execute\n    result_set, result_meta = self.get_result_set(\n  File \"/usr/lib/python_udf/47551a7bfd00f4b7db3a8f702d9cb264485e91e604075ad17c0dfcb8e138b05a/lib/python3.8/site-packages/snowflake/snowpark/_internal/analyzer/snowflake_plan.py\", line 84, in wrap\n    return func(*args, **kwargs)\n  File \"/usr/lib/python_udf/47551a7bfd00f4b7db3a8f702d9cb264485e91e604075ad17c0dfcb8e138b05a/lib/python3.8/site-packages/snowflake/snowpark/_internal/server_connection.py\", line 390, in get_result_set\n    result = self.run_query(\n  File \"/usr/lib/python_udf/47551a7bfd00f4b7db3a8f702d9cb264485e91e604075ad17c0dfcb8e138b05a/lib/python3.8/site-packages/snowflake/snowpark/_internal/server_connection.py\", line 102, in wrap\n    raise ex\n  File \"/usr/lib/python_udf/47551a7bfd00f4b7db3a8f702d9cb264485e91e604075ad17c0dfcb8e138b05a/lib/python3.8/site-packages/snowflake/snowpark/_internal/server_connection.py\", line 95, in wrap\n    return func(*args, **kwargs)\n  File \"/usr/lib/python_udf/47551a7bfd00f4b7db3a8f702d9cb264485e91e604075ad17c0dfcb8e138b05a/lib/python3.8/site-packages/snowflake/snowpark/_internal/server_connection.py\", line 311, in run_query\n    raise ex\n  File \"/usr/lib/python_udf/47551a7bfd00f4b7db3a8f702d9cb264485e91e604075ad17c0dfcb8e138b05a/lib/python3.8/site-packages/snowflake/snowpark/_internal/server_connection.py\", line 304, in run_query\n    results_cursor = self._cursor.execute(query, **kwargs)\nTypeError: execute() got an unexpected keyword argument 'statement_params'\n in function SNOWPARK_TEMP_PROCEDURE_KWZI68PTG3 with handler compute",
     "output_type": "error",
     "traceback": [
      "\u001b[0;31m---------------------------------------------------------------------------\u001b[0m",
      "\u001b[0;31mSnowflakeMLException\u001b[0m                      Traceback (most recent call last)",
      "\u001b[0;31mSnowflakeMLException\u001b[0m: SnowparkSQLException('(1300) (1304): 01af1b66-0503-cace-0072-f3030bf43e62: 100357 (P0000): Python Interpreter Error:\\nTraceback (most recent call last):\\n  File \"_udf_code.py\", line 90, in compute\\n  File \"/tmp/pip_packages/snowflake/ml/modeling/_internal/snowpark_handlers.py\", line 90, in fit_wrapper_sproc\\n  File \"/usr/lib/python_udf/47551a7bfd00f4b7db3a8f702d9cb264485e91e604075ad17c0dfcb8e138b05a/lib/python3.8/site-packages/snowflake/snowpark/_internal/telemetry.py\", line 76, in wrap\\n    result = func(*args, **kwargs)\\n  File \"/usr/lib/python_udf/47551a7bfd00f4b7db3a8f702d9cb264485e91e604075ad17c0dfcb8e138b05a/lib/python3.8/site-packages/snowflake/snowpark/dataframe.py\", line 492, in to_pandas\\n    result = self._session._conn.execute(self._plan, to_pandas=True, **kwargs)\\n  File \"/usr/lib/python_udf/47551a7bfd00f4b7db3a8f702d9cb264485e91e604075ad17c0dfcb8e138b05a/lib/python3.8/site-packages/snowflake/snowpark/_internal/server_connection.py\", line 354, in execute\\n    result_set, result_meta = self.get_result_set(\\n  File \"/usr/lib/python_udf/47551a7bfd00f4b7db3a8f702d9cb264485e91e604075ad17c0dfcb8e138b05a/lib/python3.8/site-packages/snowflake/snowpark/_internal/analyzer/snowflake_plan.py\", line 84, in wrap\\n    return func(*args, **kwargs)\\n  File \"/usr/lib/python_udf/47551a7bfd00f4b7db3a8f702d9cb264485e91e604075ad17c0dfcb8e138b05a/lib/python3.8/site-packages/snowflake/snowpark/_internal/server_connection.py\", line 390, in get_result_set\\n    result = self.run_query(\\n  File \"/usr/lib/python_udf/47551a7bfd00f4b7db3a8f702d9cb264485e91e604075ad17c0dfcb8e138b05a/lib/python3.8/site-packages/snowflake/snowpark/_internal/server_connection.py\", line 102, in wrap\\n    raise ex\\n  File \"/usr/lib/python_udf/47551a7bfd00f4b7db3a8f702d9cb264485e91e604075ad17c0dfcb8e138b05a/lib/python3.8/site-packages/snowflake/snowpark/_internal/server_connection.py\", line 95, in wrap\\n    return func(*args, **kwargs)\\n  File \"/usr/lib/python_udf/47551a7bfd00f4b7db3a8f702d9cb264485e91e604075ad17c0dfcb8e138b05a/lib/python3.8/site-packages/snowflake/snowpark/_internal/server_connection.py\", line 311, in run_query\\n    raise ex\\n  File \"/usr/lib/python_udf/47551a7bfd00f4b7db3a8f702d9cb264485e91e604075ad17c0dfcb8e138b05a/lib/python3.8/site-packages/snowflake/snowpark/_internal/server_connection.py\", line 304, in run_query\\n    results_cursor = self._cursor.execute(query, **kwargs)\\nTypeError: execute() got an unexpected keyword argument \\'statement_params\\'\\n in function SNOWPARK_TEMP_PROCEDURE_KWZI68PTG3 with handler compute', None, None)",
      "\nThe above exception was the direct cause of the following exception:\n",
      "\u001b[0;31mSnowparkSQLException\u001b[0m                      Traceback (most recent call last)",
      "Cell \u001b[0;32mIn[11], line 1\u001b[0m\n\u001b[0;32m----> 1\u001b[0m \u001b[43mpipeline\u001b[49m\u001b[38;5;241;43m.\u001b[39;49m\u001b[43mfit\u001b[49m\u001b[43m(\u001b[49m\u001b[43mtrain_df\u001b[49m\u001b[43m)\u001b[49m\n",
      "File \u001b[0;32m/tmp/pip_packages/snowflake/ml/_internal/telemetry.py:315\u001b[0m, in \u001b[0;36msend_api_usage_telemetry.<locals>.decorator.<locals>.wrap\u001b[0;34m(*args, **kwargs)\u001b[0m\n\u001b[1;32m    312\u001b[0m \u001b[38;5;28;01mif\u001b[39;00m \u001b[38;5;129;01mnot\u001b[39;00m \u001b[38;5;28misinstance\u001b[39m(e, snowml_exceptions\u001b[38;5;241m.\u001b[39mSnowflakeMLException):\n\u001b[1;32m    313\u001b[0m     \u001b[38;5;66;03m# already handled via a nested decorated function\u001b[39;00m\n\u001b[1;32m    314\u001b[0m     \u001b[38;5;28;01mif\u001b[39;00m \u001b[38;5;28mhasattr\u001b[39m(e, \u001b[38;5;124m\"\u001b[39m\u001b[38;5;124m_snowflake_ml_handled\u001b[39m\u001b[38;5;124m\"\u001b[39m) \u001b[38;5;129;01mand\u001b[39;00m e\u001b[38;5;241m.\u001b[39m_snowflake_ml_handled:\n\u001b[0;32m--> 315\u001b[0m         \u001b[38;5;28;01mraise\u001b[39;00m e\n\u001b[1;32m    316\u001b[0m     \u001b[38;5;28;01mif\u001b[39;00m \u001b[38;5;28misinstance\u001b[39m(e, snowpark_exceptions\u001b[38;5;241m.\u001b[39mSnowparkClientException):\n\u001b[1;32m    317\u001b[0m         e \u001b[38;5;241m=\u001b[39m snowml_exceptions\u001b[38;5;241m.\u001b[39mSnowflakeMLException(\n\u001b[1;32m    318\u001b[0m             error_code\u001b[38;5;241m=\u001b[39merror_codes\u001b[38;5;241m.\u001b[39mINTERNAL_SNOWPARK_ERROR, original_exception\u001b[38;5;241m=\u001b[39me\n\u001b[1;32m    319\u001b[0m         )\n",
      "File \u001b[0;32m/tmp/pip_packages/snowflake/ml/_internal/telemetry.py:310\u001b[0m, in \u001b[0;36msend_api_usage_telemetry.<locals>.decorator.<locals>.wrap\u001b[0;34m(*args, **kwargs)\u001b[0m\n\u001b[1;32m    301\u001b[0m telemetry_args \u001b[38;5;241m=\u001b[39m \u001b[38;5;28mdict\u001b[39m(\n\u001b[1;32m    302\u001b[0m     func_name\u001b[38;5;241m=\u001b[39m_get_full_func_name(func),\n\u001b[1;32m    303\u001b[0m     function_category\u001b[38;5;241m=\u001b[39mTelemetryField\u001b[38;5;241m.\u001b[39mFUNC_CAT_USAGE\u001b[38;5;241m.\u001b[39mvalue,\n\u001b[0;32m   (...)\u001b[0m\n\u001b[1;32m    307\u001b[0m     custom_tags\u001b[38;5;241m=\u001b[39mcustom_tags,\n\u001b[1;32m    308\u001b[0m )\n\u001b[1;32m    309\u001b[0m \u001b[38;5;28;01mtry\u001b[39;00m:\n\u001b[0;32m--> 310\u001b[0m     res \u001b[38;5;241m=\u001b[39m \u001b[43mfunc\u001b[49m\u001b[43m(\u001b[49m\u001b[38;5;241;43m*\u001b[39;49m\u001b[43margs\u001b[49m\u001b[43m,\u001b[49m\u001b[43m \u001b[49m\u001b[38;5;241;43m*\u001b[39;49m\u001b[38;5;241;43m*\u001b[39;49m\u001b[43mkwargs\u001b[49m\u001b[43m)\u001b[49m\n\u001b[1;32m    311\u001b[0m \u001b[38;5;28;01mexcept\u001b[39;00m \u001b[38;5;167;01mException\u001b[39;00m \u001b[38;5;28;01mas\u001b[39;00m e:\n\u001b[1;32m    312\u001b[0m     \u001b[38;5;28;01mif\u001b[39;00m \u001b[38;5;129;01mnot\u001b[39;00m \u001b[38;5;28misinstance\u001b[39m(e, snowml_exceptions\u001b[38;5;241m.\u001b[39mSnowflakeMLException):\n\u001b[1;32m    313\u001b[0m         \u001b[38;5;66;03m# already handled via a nested decorated function\u001b[39;00m\n",
      "File \u001b[0;32m/tmp/pip_packages/snowflake/ml/modeling/pipeline/pipeline.py:245\u001b[0m, in \u001b[0;36mPipeline.fit\u001b[0;34m(self, dataset)\u001b[0m\n\u001b[1;32m    243\u001b[0m \u001b[38;5;28;01mif\u001b[39;00m estimator:\n\u001b[1;32m    244\u001b[0m     all_cols \u001b[38;5;241m=\u001b[39m transformed_dataset\u001b[38;5;241m.\u001b[39mcolumns[:]\n\u001b[0;32m--> 245\u001b[0m     \u001b[43mestimator\u001b[49m\u001b[43m[\u001b[49m\u001b[38;5;241;43m1\u001b[39;49m\u001b[43m]\u001b[49m\u001b[38;5;241;43m.\u001b[39;49m\u001b[43mfit\u001b[49m\u001b[43m(\u001b[49m\u001b[43mtransformed_dataset\u001b[49m\u001b[43m)\u001b[49m\n\u001b[1;32m    247\u001b[0m     \u001b[38;5;28mself\u001b[39m\u001b[38;5;241m.\u001b[39m_append_step_feature_consumption_info(\n\u001b[1;32m    248\u001b[0m         step_name\u001b[38;5;241m=\u001b[39mestimator[\u001b[38;5;241m0\u001b[39m], all_cols\u001b[38;5;241m=\u001b[39mall_cols, input_cols\u001b[38;5;241m=\u001b[39mestimator[\u001b[38;5;241m1\u001b[39m]\u001b[38;5;241m.\u001b[39mget_input_cols()\n\u001b[1;32m    249\u001b[0m     )\n\u001b[1;32m    251\u001b[0m \u001b[38;5;28mself\u001b[39m\u001b[38;5;241m.\u001b[39m_get_model_signatures(dataset\u001b[38;5;241m=\u001b[39mdataset)\n",
      "File \u001b[0;32m/tmp/pip_packages/snowflake/ml/_internal/telemetry.py:327\u001b[0m, in \u001b[0;36msend_api_usage_telemetry.<locals>.decorator.<locals>.wrap\u001b[0;34m(*args, **kwargs)\u001b[0m\n\u001b[1;32m    325\u001b[0m     telemetry_args[\u001b[38;5;124m\"\u001b[39m\u001b[38;5;124merror_code\u001b[39m\u001b[38;5;124m\"\u001b[39m] \u001b[38;5;241m=\u001b[39m e\u001b[38;5;241m.\u001b[39merror_code\n\u001b[1;32m    326\u001b[0m     e\u001b[38;5;241m.\u001b[39moriginal_exception\u001b[38;5;241m.\u001b[39m_snowflake_ml_handled \u001b[38;5;241m=\u001b[39m \u001b[38;5;28;01mTrue\u001b[39;00m  \u001b[38;5;66;03m# type: ignore[attr-defined]\u001b[39;00m\n\u001b[0;32m--> 327\u001b[0m     \u001b[38;5;28;01mraise\u001b[39;00m e\u001b[38;5;241m.\u001b[39moriginal_exception \u001b[38;5;28;01mfrom\u001b[39;00m \u001b[38;5;21;01me\u001b[39;00m\n\u001b[1;32m    328\u001b[0m \u001b[38;5;28;01melse\u001b[39;00m:\n\u001b[1;32m    329\u001b[0m     \u001b[38;5;28;01mreturn\u001b[39;00m res\n",
      "\u001b[0;31mSnowparkSQLException\u001b[0m: (1300) (1304): 01af1b66-0503-cace-0072-f3030bf43e62: 100357 (P0000): Python Interpreter Error:\nTraceback (most recent call last):\n  File \"_udf_code.py\", line 90, in compute\n  File \"/tmp/pip_packages/snowflake/ml/modeling/_internal/snowpark_handlers.py\", line 90, in fit_wrapper_sproc\n  File \"/usr/lib/python_udf/47551a7bfd00f4b7db3a8f702d9cb264485e91e604075ad17c0dfcb8e138b05a/lib/python3.8/site-packages/snowflake/snowpark/_internal/telemetry.py\", line 76, in wrap\n    result = func(*args, **kwargs)\n  File \"/usr/lib/python_udf/47551a7bfd00f4b7db3a8f702d9cb264485e91e604075ad17c0dfcb8e138b05a/lib/python3.8/site-packages/snowflake/snowpark/dataframe.py\", line 492, in to_pandas\n    result = self._session._conn.execute(self._plan, to_pandas=True, **kwargs)\n  File \"/usr/lib/python_udf/47551a7bfd00f4b7db3a8f702d9cb264485e91e604075ad17c0dfcb8e138b05a/lib/python3.8/site-packages/snowflake/snowpark/_internal/server_connection.py\", line 354, in execute\n    result_set, result_meta = self.get_result_set(\n  File \"/usr/lib/python_udf/47551a7bfd00f4b7db3a8f702d9cb264485e91e604075ad17c0dfcb8e138b05a/lib/python3.8/site-packages/snowflake/snowpark/_internal/analyzer/snowflake_plan.py\", line 84, in wrap\n    return func(*args, **kwargs)\n  File \"/usr/lib/python_udf/47551a7bfd00f4b7db3a8f702d9cb264485e91e604075ad17c0dfcb8e138b05a/lib/python3.8/site-packages/snowflake/snowpark/_internal/server_connection.py\", line 390, in get_result_set\n    result = self.run_query(\n  File \"/usr/lib/python_udf/47551a7bfd00f4b7db3a8f702d9cb264485e91e604075ad17c0dfcb8e138b05a/lib/python3.8/site-packages/snowflake/snowpark/_internal/server_connection.py\", line 102, in wrap\n    raise ex\n  File \"/usr/lib/python_udf/47551a7bfd00f4b7db3a8f702d9cb264485e91e604075ad17c0dfcb8e138b05a/lib/python3.8/site-packages/snowflake/snowpark/_internal/server_connection.py\", line 95, in wrap\n    return func(*args, **kwargs)\n  File \"/usr/lib/python_udf/47551a7bfd00f4b7db3a8f702d9cb264485e91e604075ad17c0dfcb8e138b05a/lib/python3.8/site-packages/snowflake/snowpark/_internal/server_connection.py\", line 311, in run_query\n    raise ex\n  File \"/usr/lib/python_udf/47551a7bfd00f4b7db3a8f702d9cb264485e91e604075ad17c0dfcb8e138b05a/lib/python3.8/site-packages/snowflake/snowpark/_internal/server_connection.py\", line 304, in run_query\n    results_cursor = self._cursor.execute(query, **kwargs)\nTypeError: execute() got an unexpected keyword argument 'statement_params'\n in function SNOWPARK_TEMP_PROCEDURE_KWZI68PTG3 with handler compute"
     ]
    }
   ],
   "source": [
    "pipeline.fit(train_df)"
   ]
  },
  {
   "cell_type": "code",
   "execution_count": null,
   "id": "190b2fef",
   "metadata": {},
   "outputs": [],
   "source": [
    "result = pipeline.predict(test_df)"
   ]
  },
  {
   "cell_type": "code",
   "execution_count": 7,
   "id": "d4556b32",
   "metadata": {},
   "outputs": [],
   "source": [
    "sf_df1 = session.table(\"BANK_CUSTOMER_CHURN_PREDICTION\").drop('ROW')"
   ]
  },
  {
   "cell_type": "code",
   "execution_count": 8,
   "id": "f33abf65",
   "metadata": {},
   "outputs": [],
   "source": [
    "CATEGORICAL_COLUMNS = [\"COUNTRY\", \"GENDER\"]\n",
    "CATEGORICAL_COLUMNS_OE = [\"COUNTRY_OE\", \"GENDER_OE\"]\n",
    "NUMERICAL_COLUMNS = [\"CREDIT_SCORE\", \"AGE\", \"TENURE\", \"BALANCE\", \"PRODUCTS_NUMBER\", \"ESTIMATED_SALARY\"]\n",
    "LABEL_COLUMNS = [\"CHURN\"]\n",
    "OUTPUT_COLUMNS = [\"PREDICTION\"]"
   ]
  },
  {
   "cell_type": "code",
   "execution_count": 9,
   "id": "243bc429",
   "metadata": {},
   "outputs": [],
   "source": [
    "pipeline1 = Pipeline(\n",
    "    steps=[\n",
    "            (\n",
    "                \"OE\",\n",
    "                OrdinalEncoder(\n",
    "                input_cols=CATEGORICAL_COLUMNS,\n",
    "                output_cols=CATEGORICAL_COLUMNS_OE\n",
    "                )\n",
    "            ),\n",
    "            (\n",
    "                \"MMS\",\n",
    "                MinMaxScaler(\n",
    "                clip=True,\n",
    "                input_cols=NUMERICAL_COLUMNS,\n",
    "                output_cols=NUMERICAL_COLUMNS,\n",
    "                )\n",
    "            ),\n",
    "            (\n",
    "                \"classification\",\n",
    "                XGBClassifier(\n",
    "                input_cols=CATEGORICAL_COLUMNS_OE+NUMERICAL_COLUMNS + [\"CREDIT_CARD\"],\n",
    "                label_cols=LABEL_COLUMNS,\n",
    "                output_cols=OUTPUT_COLUMNS\n",
    "                )\n",
    "            )\n",
    "    ]\n",
    ")"
   ]
  },
  {
   "cell_type": "code",
   "execution_count": 10,
   "id": "64b5a519",
   "metadata": {},
   "outputs": [],
   "source": [
    "train_df1, test_df1 = sf_df1.random_split([0.8,0.2])"
   ]
  },
  {
   "cell_type": "code",
   "execution_count": 11,
   "id": "3e960307",
   "metadata": {},
   "outputs": [
    {
     "name": "stderr",
     "output_type": "stream",
     "text": [
      "The version of package 'snowflake-snowpark-python' in the local environment is 1.8.0, which does not fit the criteria for the requirement 'snowflake-snowpark-python'. Your UDF might not work when the package version is different between the server and your local environment.\n",
      "The version of package 'xgboost' in the local environment is 1.7.6, which does not fit the criteria for the requirement 'xgboost==1.7.3'. Your UDF might not work when the package version is different between the server and your local environment.\n",
      "The version of package 'numpy' in the local environment is 1.24.4, which does not fit the criteria for the requirement 'numpy==1.24.3'. Your UDF might not work when the package version is different between the server and your local environment.\n"
     ]
    },
    {
     "ename": "SnowparkSQLException",
     "evalue": "(1300) (1304): 01af1b6d-0503-cace-0072-f3030bf452aa: 100357 (P0000): Python Interpreter Error:\nTraceback (most recent call last):\n  File \"_udf_code.py\", line 90, in compute\n  File \"/tmp/pip_packages/snowflake/ml/modeling/_internal/snowpark_handlers.py\", line 90, in fit_wrapper_sproc\n  File \"/usr/lib/python_udf/b225293ec8767520ec91e8f679e01dbef2d80eb92d0b90f1187699a09af30f8f/lib/python3.8/site-packages/snowflake/snowpark/_internal/telemetry.py\", line 76, in wrap\n    result = func(*args, **kwargs)\n  File \"/usr/lib/python_udf/b225293ec8767520ec91e8f679e01dbef2d80eb92d0b90f1187699a09af30f8f/lib/python3.8/site-packages/snowflake/snowpark/dataframe.py\", line 492, in to_pandas\n    result = self._session._conn.execute(self._plan, to_pandas=True, **kwargs)\n  File \"/usr/lib/python_udf/b225293ec8767520ec91e8f679e01dbef2d80eb92d0b90f1187699a09af30f8f/lib/python3.8/site-packages/snowflake/snowpark/_internal/server_connection.py\", line 354, in execute\n    result_set, result_meta = self.get_result_set(\n  File \"/usr/lib/python_udf/b225293ec8767520ec91e8f679e01dbef2d80eb92d0b90f1187699a09af30f8f/lib/python3.8/site-packages/snowflake/snowpark/_internal/analyzer/snowflake_plan.py\", line 84, in wrap\n    return func(*args, **kwargs)\n  File \"/usr/lib/python_udf/b225293ec8767520ec91e8f679e01dbef2d80eb92d0b90f1187699a09af30f8f/lib/python3.8/site-packages/snowflake/snowpark/_internal/server_connection.py\", line 390, in get_result_set\n    result = self.run_query(\n  File \"/usr/lib/python_udf/b225293ec8767520ec91e8f679e01dbef2d80eb92d0b90f1187699a09af30f8f/lib/python3.8/site-packages/snowflake/snowpark/_internal/server_connection.py\", line 102, in wrap\n    raise ex\n  File \"/usr/lib/python_udf/b225293ec8767520ec91e8f679e01dbef2d80eb92d0b90f1187699a09af30f8f/lib/python3.8/site-packages/snowflake/snowpark/_internal/server_connection.py\", line 95, in wrap\n    return func(*args, **kwargs)\n  File \"/usr/lib/python_udf/b225293ec8767520ec91e8f679e01dbef2d80eb92d0b90f1187699a09af30f8f/lib/python3.8/site-packages/snowflake/snowpark/_internal/server_connection.py\", line 311, in run_query\n    raise ex\n  File \"/usr/lib/python_udf/b225293ec8767520ec91e8f679e01dbef2d80eb92d0b90f1187699a09af30f8f/lib/python3.8/site-packages/snowflake/snowpark/_internal/server_connection.py\", line 304, in run_query\n    results_cursor = self._cursor.execute(query, **kwargs)\nTypeError: execute() got an unexpected keyword argument 'statement_params'\n in function SNOWPARK_TEMP_PROCEDURE_5TEQENU1RA with handler compute",
     "output_type": "error",
     "traceback": [
      "\u001b[0;31m---------------------------------------------------------------------------\u001b[0m",
      "\u001b[0;31mSnowflakeMLException\u001b[0m                      Traceback (most recent call last)",
      "\u001b[0;31mSnowflakeMLException\u001b[0m: SnowparkSQLException('(1300) (1304): 01af1b6d-0503-cace-0072-f3030bf452aa: 100357 (P0000): Python Interpreter Error:\\nTraceback (most recent call last):\\n  File \"_udf_code.py\", line 90, in compute\\n  File \"/tmp/pip_packages/snowflake/ml/modeling/_internal/snowpark_handlers.py\", line 90, in fit_wrapper_sproc\\n  File \"/usr/lib/python_udf/b225293ec8767520ec91e8f679e01dbef2d80eb92d0b90f1187699a09af30f8f/lib/python3.8/site-packages/snowflake/snowpark/_internal/telemetry.py\", line 76, in wrap\\n    result = func(*args, **kwargs)\\n  File \"/usr/lib/python_udf/b225293ec8767520ec91e8f679e01dbef2d80eb92d0b90f1187699a09af30f8f/lib/python3.8/site-packages/snowflake/snowpark/dataframe.py\", line 492, in to_pandas\\n    result = self._session._conn.execute(self._plan, to_pandas=True, **kwargs)\\n  File \"/usr/lib/python_udf/b225293ec8767520ec91e8f679e01dbef2d80eb92d0b90f1187699a09af30f8f/lib/python3.8/site-packages/snowflake/snowpark/_internal/server_connection.py\", line 354, in execute\\n    result_set, result_meta = self.get_result_set(\\n  File \"/usr/lib/python_udf/b225293ec8767520ec91e8f679e01dbef2d80eb92d0b90f1187699a09af30f8f/lib/python3.8/site-packages/snowflake/snowpark/_internal/analyzer/snowflake_plan.py\", line 84, in wrap\\n    return func(*args, **kwargs)\\n  File \"/usr/lib/python_udf/b225293ec8767520ec91e8f679e01dbef2d80eb92d0b90f1187699a09af30f8f/lib/python3.8/site-packages/snowflake/snowpark/_internal/server_connection.py\", line 390, in get_result_set\\n    result = self.run_query(\\n  File \"/usr/lib/python_udf/b225293ec8767520ec91e8f679e01dbef2d80eb92d0b90f1187699a09af30f8f/lib/python3.8/site-packages/snowflake/snowpark/_internal/server_connection.py\", line 102, in wrap\\n    raise ex\\n  File \"/usr/lib/python_udf/b225293ec8767520ec91e8f679e01dbef2d80eb92d0b90f1187699a09af30f8f/lib/python3.8/site-packages/snowflake/snowpark/_internal/server_connection.py\", line 95, in wrap\\n    return func(*args, **kwargs)\\n  File \"/usr/lib/python_udf/b225293ec8767520ec91e8f679e01dbef2d80eb92d0b90f1187699a09af30f8f/lib/python3.8/site-packages/snowflake/snowpark/_internal/server_connection.py\", line 311, in run_query\\n    raise ex\\n  File \"/usr/lib/python_udf/b225293ec8767520ec91e8f679e01dbef2d80eb92d0b90f1187699a09af30f8f/lib/python3.8/site-packages/snowflake/snowpark/_internal/server_connection.py\", line 304, in run_query\\n    results_cursor = self._cursor.execute(query, **kwargs)\\nTypeError: execute() got an unexpected keyword argument \\'statement_params\\'\\n in function SNOWPARK_TEMP_PROCEDURE_5TEQENU1RA with handler compute', None, None)",
      "\nThe above exception was the direct cause of the following exception:\n",
      "\u001b[0;31mSnowparkSQLException\u001b[0m                      Traceback (most recent call last)",
      "Cell \u001b[0;32mIn[11], line 1\u001b[0m\n\u001b[0;32m----> 1\u001b[0m \u001b[43mpipeline1\u001b[49m\u001b[38;5;241;43m.\u001b[39;49m\u001b[43mfit\u001b[49m\u001b[43m(\u001b[49m\u001b[43mtrain_df1\u001b[49m\u001b[43m)\u001b[49m\n",
      "File \u001b[0;32m/tmp/pip_packages/snowflake/ml/_internal/telemetry.py:315\u001b[0m, in \u001b[0;36msend_api_usage_telemetry.<locals>.decorator.<locals>.wrap\u001b[0;34m(*args, **kwargs)\u001b[0m\n\u001b[1;32m    312\u001b[0m \u001b[38;5;28;01mif\u001b[39;00m \u001b[38;5;129;01mnot\u001b[39;00m \u001b[38;5;28misinstance\u001b[39m(e, snowml_exceptions\u001b[38;5;241m.\u001b[39mSnowflakeMLException):\n\u001b[1;32m    313\u001b[0m     \u001b[38;5;66;03m# already handled via a nested decorated function\u001b[39;00m\n\u001b[1;32m    314\u001b[0m     \u001b[38;5;28;01mif\u001b[39;00m \u001b[38;5;28mhasattr\u001b[39m(e, \u001b[38;5;124m\"\u001b[39m\u001b[38;5;124m_snowflake_ml_handled\u001b[39m\u001b[38;5;124m\"\u001b[39m) \u001b[38;5;129;01mand\u001b[39;00m e\u001b[38;5;241m.\u001b[39m_snowflake_ml_handled:\n\u001b[0;32m--> 315\u001b[0m         \u001b[38;5;28;01mraise\u001b[39;00m e\n\u001b[1;32m    316\u001b[0m     \u001b[38;5;28;01mif\u001b[39;00m \u001b[38;5;28misinstance\u001b[39m(e, snowpark_exceptions\u001b[38;5;241m.\u001b[39mSnowparkClientException):\n\u001b[1;32m    317\u001b[0m         e \u001b[38;5;241m=\u001b[39m snowml_exceptions\u001b[38;5;241m.\u001b[39mSnowflakeMLException(\n\u001b[1;32m    318\u001b[0m             error_code\u001b[38;5;241m=\u001b[39merror_codes\u001b[38;5;241m.\u001b[39mINTERNAL_SNOWPARK_ERROR, original_exception\u001b[38;5;241m=\u001b[39me\n\u001b[1;32m    319\u001b[0m         )\n",
      "File \u001b[0;32m/tmp/pip_packages/snowflake/ml/_internal/telemetry.py:310\u001b[0m, in \u001b[0;36msend_api_usage_telemetry.<locals>.decorator.<locals>.wrap\u001b[0;34m(*args, **kwargs)\u001b[0m\n\u001b[1;32m    301\u001b[0m telemetry_args \u001b[38;5;241m=\u001b[39m \u001b[38;5;28mdict\u001b[39m(\n\u001b[1;32m    302\u001b[0m     func_name\u001b[38;5;241m=\u001b[39m_get_full_func_name(func),\n\u001b[1;32m    303\u001b[0m     function_category\u001b[38;5;241m=\u001b[39mTelemetryField\u001b[38;5;241m.\u001b[39mFUNC_CAT_USAGE\u001b[38;5;241m.\u001b[39mvalue,\n\u001b[0;32m   (...)\u001b[0m\n\u001b[1;32m    307\u001b[0m     custom_tags\u001b[38;5;241m=\u001b[39mcustom_tags,\n\u001b[1;32m    308\u001b[0m )\n\u001b[1;32m    309\u001b[0m \u001b[38;5;28;01mtry\u001b[39;00m:\n\u001b[0;32m--> 310\u001b[0m     res \u001b[38;5;241m=\u001b[39m \u001b[43mfunc\u001b[49m\u001b[43m(\u001b[49m\u001b[38;5;241;43m*\u001b[39;49m\u001b[43margs\u001b[49m\u001b[43m,\u001b[49m\u001b[43m \u001b[49m\u001b[38;5;241;43m*\u001b[39;49m\u001b[38;5;241;43m*\u001b[39;49m\u001b[43mkwargs\u001b[49m\u001b[43m)\u001b[49m\n\u001b[1;32m    311\u001b[0m \u001b[38;5;28;01mexcept\u001b[39;00m \u001b[38;5;167;01mException\u001b[39;00m \u001b[38;5;28;01mas\u001b[39;00m e:\n\u001b[1;32m    312\u001b[0m     \u001b[38;5;28;01mif\u001b[39;00m \u001b[38;5;129;01mnot\u001b[39;00m \u001b[38;5;28misinstance\u001b[39m(e, snowml_exceptions\u001b[38;5;241m.\u001b[39mSnowflakeMLException):\n\u001b[1;32m    313\u001b[0m         \u001b[38;5;66;03m# already handled via a nested decorated function\u001b[39;00m\n",
      "File \u001b[0;32m/tmp/pip_packages/snowflake/ml/modeling/pipeline/pipeline.py:245\u001b[0m, in \u001b[0;36mPipeline.fit\u001b[0;34m(self, dataset)\u001b[0m\n\u001b[1;32m    243\u001b[0m \u001b[38;5;28;01mif\u001b[39;00m estimator:\n\u001b[1;32m    244\u001b[0m     all_cols \u001b[38;5;241m=\u001b[39m transformed_dataset\u001b[38;5;241m.\u001b[39mcolumns[:]\n\u001b[0;32m--> 245\u001b[0m     \u001b[43mestimator\u001b[49m\u001b[43m[\u001b[49m\u001b[38;5;241;43m1\u001b[39;49m\u001b[43m]\u001b[49m\u001b[38;5;241;43m.\u001b[39;49m\u001b[43mfit\u001b[49m\u001b[43m(\u001b[49m\u001b[43mtransformed_dataset\u001b[49m\u001b[43m)\u001b[49m\n\u001b[1;32m    247\u001b[0m     \u001b[38;5;28mself\u001b[39m\u001b[38;5;241m.\u001b[39m_append_step_feature_consumption_info(\n\u001b[1;32m    248\u001b[0m         step_name\u001b[38;5;241m=\u001b[39mestimator[\u001b[38;5;241m0\u001b[39m], all_cols\u001b[38;5;241m=\u001b[39mall_cols, input_cols\u001b[38;5;241m=\u001b[39mestimator[\u001b[38;5;241m1\u001b[39m]\u001b[38;5;241m.\u001b[39mget_input_cols()\n\u001b[1;32m    249\u001b[0m     )\n\u001b[1;32m    251\u001b[0m \u001b[38;5;28mself\u001b[39m\u001b[38;5;241m.\u001b[39m_get_model_signatures(dataset\u001b[38;5;241m=\u001b[39mdataset)\n",
      "File \u001b[0;32m/tmp/pip_packages/snowflake/ml/_internal/telemetry.py:327\u001b[0m, in \u001b[0;36msend_api_usage_telemetry.<locals>.decorator.<locals>.wrap\u001b[0;34m(*args, **kwargs)\u001b[0m\n\u001b[1;32m    325\u001b[0m     telemetry_args[\u001b[38;5;124m\"\u001b[39m\u001b[38;5;124merror_code\u001b[39m\u001b[38;5;124m\"\u001b[39m] \u001b[38;5;241m=\u001b[39m e\u001b[38;5;241m.\u001b[39merror_code\n\u001b[1;32m    326\u001b[0m     e\u001b[38;5;241m.\u001b[39moriginal_exception\u001b[38;5;241m.\u001b[39m_snowflake_ml_handled \u001b[38;5;241m=\u001b[39m \u001b[38;5;28;01mTrue\u001b[39;00m  \u001b[38;5;66;03m# type: ignore[attr-defined]\u001b[39;00m\n\u001b[0;32m--> 327\u001b[0m     \u001b[38;5;28;01mraise\u001b[39;00m e\u001b[38;5;241m.\u001b[39moriginal_exception \u001b[38;5;28;01mfrom\u001b[39;00m \u001b[38;5;21;01me\u001b[39;00m\n\u001b[1;32m    328\u001b[0m \u001b[38;5;28;01melse\u001b[39;00m:\n\u001b[1;32m    329\u001b[0m     \u001b[38;5;28;01mreturn\u001b[39;00m res\n",
      "\u001b[0;31mSnowparkSQLException\u001b[0m: (1300) (1304): 01af1b6d-0503-cace-0072-f3030bf452aa: 100357 (P0000): Python Interpreter Error:\nTraceback (most recent call last):\n  File \"_udf_code.py\", line 90, in compute\n  File \"/tmp/pip_packages/snowflake/ml/modeling/_internal/snowpark_handlers.py\", line 90, in fit_wrapper_sproc\n  File \"/usr/lib/python_udf/b225293ec8767520ec91e8f679e01dbef2d80eb92d0b90f1187699a09af30f8f/lib/python3.8/site-packages/snowflake/snowpark/_internal/telemetry.py\", line 76, in wrap\n    result = func(*args, **kwargs)\n  File \"/usr/lib/python_udf/b225293ec8767520ec91e8f679e01dbef2d80eb92d0b90f1187699a09af30f8f/lib/python3.8/site-packages/snowflake/snowpark/dataframe.py\", line 492, in to_pandas\n    result = self._session._conn.execute(self._plan, to_pandas=True, **kwargs)\n  File \"/usr/lib/python_udf/b225293ec8767520ec91e8f679e01dbef2d80eb92d0b90f1187699a09af30f8f/lib/python3.8/site-packages/snowflake/snowpark/_internal/server_connection.py\", line 354, in execute\n    result_set, result_meta = self.get_result_set(\n  File \"/usr/lib/python_udf/b225293ec8767520ec91e8f679e01dbef2d80eb92d0b90f1187699a09af30f8f/lib/python3.8/site-packages/snowflake/snowpark/_internal/analyzer/snowflake_plan.py\", line 84, in wrap\n    return func(*args, **kwargs)\n  File \"/usr/lib/python_udf/b225293ec8767520ec91e8f679e01dbef2d80eb92d0b90f1187699a09af30f8f/lib/python3.8/site-packages/snowflake/snowpark/_internal/server_connection.py\", line 390, in get_result_set\n    result = self.run_query(\n  File \"/usr/lib/python_udf/b225293ec8767520ec91e8f679e01dbef2d80eb92d0b90f1187699a09af30f8f/lib/python3.8/site-packages/snowflake/snowpark/_internal/server_connection.py\", line 102, in wrap\n    raise ex\n  File \"/usr/lib/python_udf/b225293ec8767520ec91e8f679e01dbef2d80eb92d0b90f1187699a09af30f8f/lib/python3.8/site-packages/snowflake/snowpark/_internal/server_connection.py\", line 95, in wrap\n    return func(*args, **kwargs)\n  File \"/usr/lib/python_udf/b225293ec8767520ec91e8f679e01dbef2d80eb92d0b90f1187699a09af30f8f/lib/python3.8/site-packages/snowflake/snowpark/_internal/server_connection.py\", line 311, in run_query\n    raise ex\n  File \"/usr/lib/python_udf/b225293ec8767520ec91e8f679e01dbef2d80eb92d0b90f1187699a09af30f8f/lib/python3.8/site-packages/snowflake/snowpark/_internal/server_connection.py\", line 304, in run_query\n    results_cursor = self._cursor.execute(query, **kwargs)\nTypeError: execute() got an unexpected keyword argument 'statement_params'\n in function SNOWPARK_TEMP_PROCEDURE_5TEQENU1RA with handler compute"
     ]
    }
   ],
   "source": [
    "pipeline1.fit(train_df1)"
   ]
  },
  {
   "cell_type": "code",
   "execution_count": null,
   "id": "d17754ae",
   "metadata": {},
   "outputs": [],
   "source": []
  }
 ],
 "metadata": {
  "kernelspec": {
   "display_name": "Python 3",
   "language": "python",
   "name": "python3"
  },
  "language_info": {
   "codemirror_mode": {
    "name": "ipython",
    "version": 3
   },
   "file_extension": ".py",
   "mimetype": "text/x-python",
   "name": "python",
   "nbconvert_exporter": "python",
   "pygments_lexer": "ipython3",
   "version": "3.8.17"
  }
 },
 "nbformat": 4,
 "nbformat_minor": 5
}
